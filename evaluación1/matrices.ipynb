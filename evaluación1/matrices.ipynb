{
 "cells": [
  {
   "cell_type": "code",
   "execution_count": 7,
   "metadata": {},
   "outputs": [
    {
     "name": "stdout",
     "output_type": "stream",
     "text": [
      "Suma de matrices:\n",
      " [[ 6  8]\n",
      " [10 12]]\n",
      "Resta de matrices:\n",
      " [[-4 -4]\n",
      " [-4 -4]]\n",
      "Multiplicación elemento a elemento:\n",
      " [[ 5 12]\n",
      " [21 32]]\n",
      "Multiplicación de matrices:\n",
      " [[19 22]\n",
      " [43 50]]\n",
      "Multiplicación de matrices (versión reciente de NumPy):\n",
      " [[19 22]\n",
      " [43 50]]\n",
      "División elemento a elemento:\n",
      " [[0.2        0.33333333]\n",
      " [0.42857143 0.5       ]]\n",
      "Transpuesta de A:\n",
      " [[1 3]\n",
      " [2 4]]\n",
      "Inversa de A:\n",
      " [[-2.   1. ]\n",
      " [ 1.5 -0.5]]\n",
      "Determinante de A: -2.0000000000000004\n"
     ]
    }
   ],
   "source": [
    "import numpy as np\n",
    "\n",
    "A = np.array([[1, 2], [3, 4]])\n",
    "B = np.array([[5, 6], [7, 8]])\n",
    "\n",
    "suma = A + B\n",
    "print(\"Suma de matrices:\\n\", suma)\n",
    "\n",
    "resta = A - B\n",
    "print(\"Resta de matrices:\\n\", resta)\n",
    "\n",
    "producto_elemento = A * B\n",
    "print(\"Multiplicación elemento a elemento:\\n\", producto_elemento)\n",
    "\n",
    "producto_matricial = np.dot(A, B)\n",
    "print(\"Multiplicación de matrices:\\n\", producto_matricial)\n",
    "\n",
    "producto_matricial_v2 = A @ B\n",
    "print(\"Multiplicación de matrices (versión reciente de NumPy):\\n\", producto_matricial_v2)\n",
    "\n",
    "division = A / B\n",
    "print(\"División elemento a elemento:\\n\", division)\n",
    "\n",
    "transpuesta = A.T\n",
    "print(\"Transpuesta de A:\\n\", transpuesta)\n",
    "\n",
    "inversa = np.linalg.inv(A)\n",
    "print(\"Inversa de A:\\n\", inversa)\n",
    "\n",
    "determinante = np.linalg.det(A)\n",
    "print(\"Determinante de A:\", determinante)"
   ]
  },
  {
   "cell_type": "code",
   "execution_count": 8,
   "metadata": {},
   "outputs": [
    {
     "name": "stdout",
     "output_type": "stream",
     "text": [
      "La derivada de f respecto a x es: 2*x + 3\n"
     ]
    }
   ],
   "source": [
    "import sympy as sp\n",
    "\n",
    "x = sp.symbols('x')\n",
    "\n",
    "f = x**2 + 3*x + 2\n",
    "\n",
    "derivada = sp.diff(f, x)\n",
    "\n",
    "print(\"La derivada de f respecto a x es:\", derivada)\n"
   ]
  },
  {
   "cell_type": "code",
   "execution_count": 9,
   "metadata": {},
   "outputs": [
    {
     "name": "stdout",
     "output_type": "stream",
     "text": [
      "La integral definida de f desde 0 hasta 1 es: 23/6\n"
     ]
    }
   ],
   "source": [
    "\n",
    "integral_definida = sp.integrate(f, (x, 0, 1))\n",
    "\n",
    "print(\"La integral definida de f desde 0 hasta 1 es:\", integral_definida)"
   ]
  },
  {
   "cell_type": "code",
   "execution_count": 10,
   "metadata": {},
   "outputs": [
    {
     "name": "stdout",
     "output_type": "stream",
     "text": [
      "Derivada de f respecto a x: 2*x*cos(x**2)\n",
      "Integral indefinida de f respecto a x: 3*sqrt(2)*sqrt(pi)*fresnels(sqrt(2)*x/sqrt(pi))*gamma(3/4)/(8*gamma(7/4))\n",
      "Integral definida de f desde 0 hasta pi: 3*sqrt(2)*sqrt(pi)*fresnels(sqrt(2)*sqrt(pi))*gamma(3/4)/(8*gamma(7/4))\n"
     ]
    }
   ],
   "source": [
    "import sympy as sp\n",
    "\n",
    "x = sp.symbols('x')\n",
    "\n",
    "f = sp.sin(x**2)\n",
    "\n",
    "derivada = sp.diff(f, x)\n",
    "print(\"Derivada de f respecto a x:\", derivada)\n",
    "\n",
    "integral_indefinida = sp.integrate(f, x)\n",
    "print(\"Integral indefinida de f respecto a x:\", integral_indefinida)\n",
    "\n",
    "integral_definida = sp.integrate(f, (x, 0, sp.pi))\n",
    "print(\"Integral definida de f desde 0 hasta pi:\", integral_definida)"
   ]
  },
  {
   "cell_type": "code",
   "execution_count": 28,
   "metadata": {},
   "outputs": [
    {
     "ename": "TypeError",
     "evalue": "Cannot convert expression to float",
     "output_type": "error",
     "traceback": [
      "\u001b[0;31m---------------------------------------------------------------------------\u001b[0m",
      "\u001b[0;31mTypeError\u001b[0m                                 Traceback (most recent call last)",
      "Cell \u001b[0;32mIn[28], line 7\u001b[0m\n\u001b[1;32m      4\u001b[0m x \u001b[39m=\u001b[39m sp\u001b[39m.\u001b[39msymbols(\u001b[39m'\u001b[39m\u001b[39mx\u001b[39m\u001b[39m'\u001b[39m)\n\u001b[1;32m      5\u001b[0m x0 \u001b[39m=\u001b[39m math\u001b[39m.\u001b[39mpi\u001b[39m/\u001b[39m\u001b[39m4\u001b[39m  \n\u001b[0;32m----> 7\u001b[0m f \u001b[39m=\u001b[39m math\u001b[39m.\u001b[39;49msin(x)\n\u001b[1;32m      9\u001b[0m n \u001b[39m=\u001b[39m \u001b[39m5\u001b[39m  \u001b[39m#\u001b[39;00m\n\u001b[1;32m     11\u001b[0m polinomio_taylor \u001b[39m=\u001b[39m sp\u001b[39m.\u001b[39mseries(f, x, x0, n\u001b[39m+\u001b[39m\u001b[39m1\u001b[39m)\u001b[39m.\u001b[39mremoveO()\n",
      "File \u001b[0;32m/opt/anaconda3/lib/python3.9/site-packages/sympy/core/expr.py:351\u001b[0m, in \u001b[0;36mExpr.__float__\u001b[0;34m(self)\u001b[0m\n\u001b[1;32m    349\u001b[0m \u001b[39mif\u001b[39;00m result\u001b[39m.\u001b[39mis_number \u001b[39mand\u001b[39;00m result\u001b[39m.\u001b[39mas_real_imag()[\u001b[39m1\u001b[39m]:\n\u001b[1;32m    350\u001b[0m     \u001b[39mraise\u001b[39;00m \u001b[39mTypeError\u001b[39;00m(\u001b[39m\"\u001b[39m\u001b[39mCannot convert complex to float\u001b[39m\u001b[39m\"\u001b[39m)\n\u001b[0;32m--> 351\u001b[0m \u001b[39mraise\u001b[39;00m \u001b[39mTypeError\u001b[39;00m(\u001b[39m\"\u001b[39m\u001b[39mCannot convert expression to float\u001b[39m\u001b[39m\"\u001b[39m)\n",
      "\u001b[0;31mTypeError\u001b[0m: Cannot convert expression to float"
     ]
    }
   ],
   "source": [
    "import sympy as sp\n",
    "import math\n",
    "\n",
    "x = sp.symbols('x')\n",
    "x0 = math.pi/4  \n",
    "\n",
    "f = math.sin(x)\n",
    "\n",
    "n = 5  #\n",
    "\n",
    "polinomio_taylor = sp.series(f, x, x0, n+1).removeO()\n",
    "\n",
    "print(f\"Polinomio de Taylor de {f} alrededor de x = {x0} hasta el orden {n}:\")\n",
    "print(polinomio_taylor)\n"
   ]
  },
  {
   "cell_type": "code",
   "execution_count": 16,
   "metadata": {},
   "outputs": [],
   "source": [
    "A = np.array([[1, 4], [2,-1], [0,3]])\n",
    "B = np.array([[5, 6], [7, 8]])"
   ]
  },
  {
   "cell_type": "code",
   "execution_count": 17,
   "metadata": {},
   "outputs": [],
   "source": [
    "transpuesta = A.T"
   ]
  },
  {
   "cell_type": "code",
   "execution_count": 18,
   "metadata": {},
   "outputs": [
    {
     "data": {
      "text/plain": [
       "array([[ 1,  2,  0],\n",
       "       [ 4, -1,  3]])"
      ]
     },
     "execution_count": 18,
     "metadata": {},
     "output_type": "execute_result"
    }
   ],
   "source": [
    "transpuesta"
   ]
  },
  {
   "cell_type": "code",
   "execution_count": 21,
   "metadata": {},
   "outputs": [
    {
     "ename": "ValueError",
     "evalue": "operands could not be broadcast together with shapes (3,2) (2,3) ",
     "output_type": "error",
     "traceback": [
      "\u001b[0;31m---------------------------------------------------------------------------\u001b[0m",
      "\u001b[0;31mValueError\u001b[0m                                Traceback (most recent call last)",
      "Cell \u001b[0;32mIn[21], line 1\u001b[0m\n\u001b[0;32m----> 1\u001b[0m A \u001b[39m*\u001b[39;49m A\u001b[39m.\u001b[39;49mT\n",
      "\u001b[0;31mValueError\u001b[0m: operands could not be broadcast together with shapes (3,2) (2,3) "
     ]
    }
   ],
   "source": [
    "A * A.T"
   ]
  },
  {
   "cell_type": "code",
   "execution_count": 23,
   "metadata": {},
   "outputs": [
    {
     "data": {
      "text/plain": [
       "array([[ 1, 16],\n",
       "       [ 4,  1],\n",
       "       [ 0,  9]])"
      ]
     },
     "execution_count": 23,
     "metadata": {},
     "output_type": "execute_result"
    }
   ],
   "source": [
    "A "
   ]
  },
  {
   "cell_type": "code",
   "execution_count": 25,
   "metadata": {},
   "outputs": [
    {
     "data": {
      "text/plain": [
       "24"
      ]
     },
     "execution_count": 25,
     "metadata": {},
     "output_type": "execute_result"
    }
   ],
   "source": [
    "4*3*2"
   ]
  },
  {
   "cell_type": "code",
   "execution_count": 30,
   "metadata": {},
   "outputs": [
    {
     "data": {
      "text/plain": [
       "0.7853981633974483"
      ]
     },
     "execution_count": 30,
     "metadata": {},
     "output_type": "execute_result"
    }
   ],
   "source": [
    "math.pi/4"
   ]
  },
  {
   "cell_type": "code",
   "execution_count": 31,
   "metadata": {},
   "outputs": [
    {
     "data": {
      "text/plain": [
       "0.69638415"
      ]
     },
     "execution_count": 31,
     "metadata": {},
     "output_type": "execute_result"
    }
   ],
   "source": [
    "0.73135 - 0.03496585"
   ]
  },
  {
   "cell_type": "code",
   "execution_count": 32,
   "metadata": {},
   "outputs": [
    {
     "data": {
      "text/plain": [
       "0.7142857142857143"
      ]
     },
     "execution_count": 32,
     "metadata": {},
     "output_type": "execute_result"
    }
   ],
   "source": [
    "5/7"
   ]
  },
  {
   "cell_type": "code",
   "execution_count": 33,
   "metadata": {},
   "outputs": [
    {
     "data": {
      "text/plain": [
       "1.0476190476190477"
      ]
     },
     "execution_count": 33,
     "metadata": {},
     "output_type": "execute_result"
    }
   ],
   "source": [
    "(5/7) + (1/3)"
   ]
  },
  {
   "cell_type": "code",
   "execution_count": 34,
   "metadata": {},
   "outputs": [
    {
     "data": {
      "text/plain": [
       "0.6666670476190477"
      ]
     },
     "execution_count": 34,
     "metadata": {},
     "output_type": "execute_result"
    }
   ],
   "source": [
    "abs(((5/7) + (1/3)) - 0.380952)"
   ]
  },
  {
   "cell_type": "code",
   "execution_count": 35,
   "metadata": {},
   "outputs": [
    {
     "data": {
      "text/plain": [
       "0.636364"
      ]
     },
     "execution_count": 35,
     "metadata": {},
     "output_type": "execute_result"
    }
   ],
   "source": [
    "abs(((5/7) + (1/3)) - 0.380952)/((5/7) + (1/3))"
   ]
  },
  {
   "cell_type": "code",
   "execution_count": 46,
   "metadata": {},
   "outputs": [
    {
     "data": {
      "text/plain": [
       "94285.80857152285"
      ]
     },
     "execution_count": 46,
     "metadata": {},
     "output_type": "execute_result"
    }
   ],
   "source": [
    "((5/7) + (1/3))/((0.111111)*(0.0001))"
   ]
  },
  {
   "cell_type": "code",
   "execution_count": 38,
   "metadata": {},
   "outputs": [
    {
     "name": "stderr",
     "output_type": "stream",
     "text": [
      "<>:1: SyntaxWarning: 'int' object is not callable; perhaps you missed a comma?\n",
      "<>:1: SyntaxWarning: 'int' object is not callable; perhaps you missed a comma?\n",
      "/var/folders/qh/5z05jrd51bj_b5b8cvk1q0gh0000gn/T/ipykernel_65342/512911303.py:1: SyntaxWarning: 'int' object is not callable; perhaps you missed a comma?\n",
      "  10(**-4)\n"
     ]
    },
    {
     "ename": "TypeError",
     "evalue": "10 argument after ** must be a mapping, not int",
     "output_type": "error",
     "traceback": [
      "\u001b[0;31m---------------------------------------------------------------------------\u001b[0m",
      "\u001b[0;31mTypeError\u001b[0m                                 Traceback (most recent call last)",
      "Cell \u001b[0;32mIn[38], line 1\u001b[0m\n\u001b[0;32m----> 1\u001b[0m \u001b[39m10\u001b[39m(\u001b[39m*\u001b[39m\u001b[39m*\u001b[39m\u001b[39m-\u001b[39m\u001b[39m4\u001b[39m)\n",
      "\u001b[0;31mTypeError\u001b[0m: 10 argument after ** must be a mapping, not int"
     ]
    }
   ],
   "source": [
    "10(**-4)"
   ]
  },
  {
   "cell_type": "code",
   "execution_count": 43,
   "metadata": {},
   "outputs": [
    {
     "data": {
      "text/plain": [
       "0.025"
      ]
     },
     "execution_count": 43,
     "metadata": {},
     "output_type": "execute_result"
    }
   ],
   "source": [
    "1/(10*(4))"
   ]
  },
  {
   "cell_type": "code",
   "execution_count": 45,
   "metadata": {},
   "outputs": [
    {
     "data": {
      "text/plain": [
       "0.0001"
      ]
     },
     "execution_count": 45,
     "metadata": {},
     "output_type": "execute_result"
    }
   ],
   "source": [
    "0.11111"
   ]
  },
  {
   "cell_type": "code",
   "execution_count": 47,
   "metadata": {},
   "outputs": [
    {
     "data": {
      "text/plain": [
       "34285.74857146286"
      ]
     },
     "execution_count": 47,
     "metadata": {},
     "output_type": "execute_result"
    }
   ],
   "source": [
    "((5/7)-(1/3))/(0.111111*0.0001)"
   ]
  },
  {
   "cell_type": "code",
   "execution_count": 48,
   "metadata": {},
   "outputs": [
    {
     "data": {
      "text/plain": [
       "1.1111100000000001e-05"
      ]
     },
     "execution_count": 48,
     "metadata": {},
     "output_type": "execute_result"
    }
   ],
   "source": [
    "0.111111*0.0001"
   ]
  },
  {
   "cell_type": "code",
   "execution_count": 53,
   "metadata": {},
   "outputs": [
    {
     "data": {
      "text/plain": [
       "0.8999001001"
      ]
     },
     "execution_count": 53,
     "metadata": {},
     "output_type": "execute_result"
    }
   ],
   "source": [
    "abs((34285.74857146286) - ((0.380952)/(0.000111)))/(34285.74857146286)"
   ]
  },
  {
   "cell_type": "code",
   "execution_count": 54,
   "metadata": {},
   "outputs": [
    {
     "data": {
      "text/plain": [
       "4.2328e-06"
      ]
     },
     "execution_count": 54,
     "metadata": {},
     "output_type": "execute_result"
    }
   ],
   "source": [
    "((5/7)-(1/3))*(0.111111*0.0001)"
   ]
  },
  {
   "cell_type": "code",
   "execution_count": null,
   "metadata": {},
   "outputs": [],
   "source": []
  }
 ],
 "metadata": {
  "kernelspec": {
   "display_name": "Python 3.9.13",
   "language": "python",
   "name": "python3"
  },
  "language_info": {
   "codemirror_mode": {
    "name": "ipython",
    "version": 3
   },
   "file_extension": ".py",
   "mimetype": "text/x-python",
   "name": "python",
   "nbconvert_exporter": "python",
   "pygments_lexer": "ipython3",
   "version": "3.9.13"
  },
  "orig_nbformat": 4,
  "vscode": {
   "interpreter": {
    "hash": "40d3a090f54c6569ab1632332b64b2c03c39dcf918b08424e98f38b5ae0af88f"
   }
  }
 },
 "nbformat": 4,
 "nbformat_minor": 2
}
