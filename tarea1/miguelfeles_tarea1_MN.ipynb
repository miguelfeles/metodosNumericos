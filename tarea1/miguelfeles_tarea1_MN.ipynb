{
 "cells": [
  {
   "cell_type": "markdown",
   "metadata": {},
   "source": [
    "<!DOCTYPE html>\n",
    "<html lang=\"en\">\n",
    "<head>\n",
    "    <meta charset=\"UTF-8\">\n",
    "    <meta name=\"viewport\" content=\"width=device-width, initial-scale=1.0\">\n",
    "    <title>Actividad 4</title>\n",
    "    <style>\n",
    "        body {\n",
    "            font-family: Arial, sans-serif;\n",
    "            margin: 0;\n",
    "            padding: 0;\n",
    "            background-color: #f4f4f4;\n",
    "        }\n",
    "        header {\n",
    "            background-color: green;\n",
    "            color: #fff;\n",
    "            text-align: center;\n",
    "            padding: 20px 0;\n",
    "        }\n",
    "        main {\n",
    "            max-width: 800px;\n",
    "            margin: 20px auto;\n",
    "            padding: 20px;\n",
    "            background-color: #fff;\n",
    "            border-radius: 10px;\n",
    "            box-shadow: 0 0 10px rgba(0, 0, 0, 0.1);\n",
    "        }\n",
    "        h1 {\n",
    "            margin: 0;\n",
    "        }\n",
    "        h2 {\n",
    "            margin: 0;\n",
    "            text-align: center;\n",
    "        }\n",
    "        h3 {\n",
    "            margin: 0;\n",
    "            text-align: center;\n",
    "        }\n",
    "        section {\n",
    "            margin-bottom: 20px;\n",
    "        }\n",
    "        footer {\n",
    "            text-align: center;\n",
    "            padding: 10px 0;\n",
    "            background-color: #007bff;\n",
    "            color: #fff;\n",
    "            position: fixed;\n",
    "            bottom: 0;\n",
    "            left: 0;\n",
    "            width: 100%;\n",
    "        }\n",
    "    </style>\n",
    "</head>\n",
    "<body>\n",
    "    <header>\n",
    "        <h1>Tarea 1</h1>\n",
    "    </header>\n",
    "    <main>\n",
    "        <section>\n",
    "            <h2>Universidad Externado de Colombia</h2>\n",
    "            <h3>Ciencia de Datos</h3>\n",
    "            <h3>Métodos Numéricos</h3>\n",
    "        </section>\n",
    "    </main>\n",
    "    <footer>\n",
    "        <p>2024 Universidad Externado de Colombia - Ciencia de Datos</p>\n",
    "    </footer>\n",
    "</body>\n",
    "</html>"
   ]
  },
  {
   "cell_type": "markdown",
   "metadata": {},
   "source": [
    "#### Librerías necesarias"
   ]
  },
  {
   "cell_type": "code",
   "execution_count": 312,
   "metadata": {},
   "outputs": [],
   "source": [
    "from sympy import Matrix\n",
    "import numpy as np\n",
    "from scipy.linalg import lu\n",
    "import matplotlib.pyplot as plt\n",
    "from scipy.optimize import minimize, curve_fit\n",
    "from pylab import *\n",
    "import math\n",
    "from sympy import symbols, exp, log"
   ]
  },
  {
   "cell_type": "markdown",
   "metadata": {},
   "source": [
    "#### Funciones necesarias"
   ]
  },
  {
   "cell_type": "code",
   "execution_count": 367,
   "metadata": {},
   "outputs": [],
   "source": [
    "#Función para truncar\n",
    "def truncar4(x, decimales): return int(x * (10**decimales)) / (10**decimales) if decimales > 0 else x\n",
    "tr4 = np.vectorize(truncar4) #Para que se aplique a numpy"
   ]
  },
  {
   "cell_type": "code",
   "execution_count": 410,
   "metadata": {},
   "outputs": [],
   "source": [
    "def eliminacion_gauss(matrizA, solucion, normalizar = False,decimales = 4):\n",
    "    \"\"\"\n",
    "    Este código realiza la eliminación gaussiana y tiene dos enfoque el primero es generar la matriz U y ocurre cuando\n",
    "    no se normalizan las filas. El segundo enfoque es solucionar sistemas de ecuaciones y ahí se puede optar por nomalizar\n",
    "    para ambos caos se pueden truncar los valores que acompañan la matriz.\n",
    "\n",
    "    Parámetros:\n",
    "    - matrizA (arreglo de numpy): Matriz cuadrada de coeficientes del sistema o matriz\n",
    "    \n",
    "    - solucion (arreglo de numpy): Matriz de las soluciones del sistema si es el caso. Cuando está vació no sé hará solución de sistema\n",
    "                                    Sino que se hará la matriz U\n",
    "    \n",
    "    - normalizar (bool, defecto = False): Cuando este valor es Falso se genera la matriz U, si es verdadero se vuelve unitaria.\n",
    "\n",
    "    - decimales (int, defecto = 4): este se usa para truncar al número de dígitos escogidos todas las cuentas del sistema o matriz.\n",
    "    \"\"\"\n",
    "\n",
    "    tamaño = len(matrizA)\n",
    "    sistemaCompleto = np.hstack([matrizA, solucion.reshape(-1, 1)]) if len(solucion) > 0 else matrizA\n",
    "    solucionSis = np.zeros(tamaño)\n",
    "    conteo = 0\n",
    "    for i in range(tamaño):\n",
    "        if normalizar == True:\n",
    "            sistemaCompleto[i] = tr4(sistemaCompleto[i] / sistemaCompleto[i, i], decimales)\n",
    "        for j in range(1+i, tamaño):\n",
    "            conteo += 1\n",
    "            if sistemaCompleto[i, i] == 0: print(\"error hay lugar en la diagonal que da 0\")\n",
    "            factor = tr4(sistemaCompleto[j, i] / sistemaCompleto[i, i], decimales)\n",
    "            sistemaCompleto[j, i:] -= tr4(factor * sistemaCompleto[i, i:], decimales)\n",
    "    \n",
    "    if len(solucion) > 0:\n",
    "        for i in range(tamaño):\n",
    "            sistemaCompleto[i] = tr4(sistemaCompleto[i], decimales)\n",
    "        for i in reversed(range(tamaño)):\n",
    "            sumaFila = tr4(np.sum(sistemaCompleto[i, i+1:tamaño] * solucionSis[i+1:tamaño]), decimales)\n",
    "            solucionSis[i] = tr4(sistemaCompleto[i, tamaño] - sumaFila, decimales)\n",
    "        \n",
    "        return solucionSis, sistemaCompleto\n",
    "\n",
    "    return sistemaCompleto, conteo"
   ]
  },
  {
   "cell_type": "markdown",
   "metadata": {},
   "source": [
    "#### Parte 1 - punto 4"
   ]
  },
  {
   "cell_type": "code",
   "execution_count": 378,
   "metadata": {},
   "outputs": [
    {
     "data": {
      "text/plain": [
       "(array([[ -1.        ,   2.        ,   0.        ,  -2.        ,\n",
       "           1.        ],\n",
       "        [  0.        ,  30.        ,  -4.        , -16.        ,\n",
       "           9.        ],\n",
       "        [  0.        ,   0.        ,   4.4       ,   2.6       ,\n",
       "          -1.9       ],\n",
       "        [  0.        ,   0.        ,   0.        ,  -4.36363636,\n",
       "           4.06060606],\n",
       "        [  0.        ,   0.        ,   0.        ,   0.        ,\n",
       "          -0.45833333]]),\n",
       " 10)"
      ]
     },
     "execution_count": 378,
     "metadata": {},
     "output_type": "execute_result"
    }
   ],
   "source": [
    "A = np.array([\n",
    "    [4, 0, 0, 0, 2],\n",
    "    [-1, 2, 0, -2, 1],\n",
    "    [2, 3, 0, 0, 0],\n",
    "    [11, 8, -4, 6, -2],\n",
    "    [1, 1, 4, 3, -2]\n",
    "])\n",
    "\n",
    "A = np.array([[-1.,  2.,  0., -2.,  1.],\n",
    "       [11.,  8., -4.,  6., -2.],\n",
    "       [ 1.,  1.,  4.,  3., -2.],\n",
    "       [ 4.,  0.,  0.,  0.,  2.],\n",
    "       [ 2.,  3.,  0.,  0.,  0.]])\n",
    "eliminacion_gauss(A.astype(float), [], decimales = 0)"
   ]
  },
  {
   "cell_type": "code",
   "execution_count": 379,
   "metadata": {},
   "outputs": [
    {
     "name": "stdout",
     "output_type": "stream",
     "text": [
      "como U se obtiene a partir de Gauss\n",
      "[[ -1.           2.           0.          -2.           1.        ]\n",
      " [  0.          30.          -4.         -16.           9.        ]\n",
      " [  0.           0.           4.4          2.6         -1.9       ]\n",
      " [  0.           0.           0.          -4.36363636   4.06060606]\n",
      " [  0.           0.           0.           0.          -0.45833333]]\n",
      "Se puede calcular su determinante multiplicando la diagonal:  -264.0000000000001\n",
      "Como la matriz P tuvo 10 intercambios de fila al ser un número par se mantiene el producto de la diagonal como determinante\n",
      "[[0. 1. 0. 0. 0.]\n",
      " [0. 0. 0. 1. 0.]\n",
      " [0. 0. 0. 0. 1.]\n",
      " [1. 0. 0. 0. 0.]\n",
      " [0. 0. 1. 0. 0.]]\n"
     ]
    }
   ],
   "source": [
    "A = np.array([\n",
    "    [4, 0, 0, 0, 2],\n",
    "    [-1, 2, 0, -2, 1],\n",
    "    [2, 3, 0, 0, 0],\n",
    "    [11, 8, -4, 6, -2],\n",
    "    [1, 1, 4, 3, -2]\n",
    "])\n",
    "\n",
    "P, no, no2 = lu(A)\n",
    "PA = np.dot(P,A)\n",
    "\n",
    "U = eliminacion_gauss(PA.astype(float), [], decimales = 0)\n",
    "print(\"como U se obtiene a partir de Gauss\")\n",
    "print(U[0])\n",
    "print(\"Se puede calcular su determinante multiplicando la diagonal: \", np.prod(np.diag(U[0])))\n",
    "print(\"Como la matriz P tuvo 10 intercambios de fila al ser un número par se mantiene el producto de la diagonal como determinante\")\n",
    "print(P)"
   ]
  },
  {
   "cell_type": "markdown",
   "metadata": {},
   "source": [
    "### Punto 1 - el de la triangular"
   ]
  },
  {
   "cell_type": "code",
   "execution_count": 281,
   "metadata": {},
   "outputs": [
    {
     "name": "stdout",
     "output_type": "stream",
     "text": [
      "La matriz L\n",
      "[[ 1.          0.          0.          0.          0.          0.\n",
      "   0.          0.          0.          0.        ]\n",
      " [-0.5         1.          0.          0.          0.          0.\n",
      "   0.          0.          0.          0.        ]\n",
      " [ 0.         -0.66666667  1.          0.          0.          0.\n",
      "   0.          0.          0.          0.        ]\n",
      " [ 0.          0.         -0.75        1.          0.          0.\n",
      "   0.          0.          0.          0.        ]\n",
      " [ 0.          0.          0.         -0.8         1.          0.\n",
      "   0.          0.          0.          0.        ]\n",
      " [ 0.          0.          0.          0.         -0.83333333  1.\n",
      "   0.          0.          0.          0.        ]\n",
      " [ 0.          0.          0.          0.          0.         -0.85714286\n",
      "   1.          0.          0.          0.        ]\n",
      " [ 0.          0.          0.          0.          0.          0.\n",
      "  -0.875       1.          0.          0.        ]\n",
      " [ 0.          0.          0.          0.          0.          0.\n",
      "   0.         -0.88888889  1.          0.        ]\n",
      " [ 0.          0.          0.          0.          0.          0.\n",
      "   0.          0.         -0.9         1.        ]]\n",
      "La matriz U\n",
      "[[ 2.         -1.          0.          0.          0.          0.\n",
      "   0.          0.          0.          0.        ]\n",
      " [ 0.          1.5        -1.          0.          0.          0.\n",
      "   0.          0.          0.          0.        ]\n",
      " [ 0.          0.          1.33333333 -1.          0.          0.\n",
      "   0.          0.          0.          0.        ]\n",
      " [ 0.          0.          0.          1.25       -1.          0.\n",
      "   0.          0.          0.          0.        ]\n",
      " [ 0.          0.          0.          0.          1.2        -1.\n",
      "   0.          0.          0.          0.        ]\n",
      " [ 0.          0.          0.          0.          0.          1.16666667\n",
      "  -1.          0.          0.          0.        ]\n",
      " [ 0.          0.          0.          0.          0.          0.\n",
      "   1.14285714 -1.          0.          0.        ]\n",
      " [ 0.          0.          0.          0.          0.          0.\n",
      "   0.          1.125      -1.          0.        ]\n",
      " [ 0.          0.          0.          0.          0.          0.\n",
      "   0.          0.          1.11111111 -1.        ]\n",
      " [ 0.          0.          0.          0.          0.          0.\n",
      "   0.          0.          0.          1.1       ]]\n"
     ]
    }
   ],
   "source": [
    "tridiagonal = np.array([[ 2., -1.,  0.,  0.,  0.,  0.,  0.,  0.,  0.,  0.],\n",
    "       [-1.,  2., -1.,  0.,  0.,  0.,  0.,  0.,  0.,  0.],\n",
    "       [ 0., -1.,  2., -1.,  0.,  0.,  0.,  0.,  0.,  0.],\n",
    "       [ 0.,  0., -1.,  2., -1.,  0.,  0.,  0.,  0.,  0.],\n",
    "       [ 0.,  0.,  0., -1.,  2., -1.,  0.,  0.,  0.,  0.],\n",
    "       [ 0.,  0.,  0.,  0., -1.,  2., -1.,  0.,  0.,  0.],\n",
    "       [ 0.,  0.,  0.,  0.,  0., -1.,  2., -1.,  0.,  0.],\n",
    "       [ 0.,  0.,  0.,  0.,  0.,  0., -1.,  2., -1.,  0.],\n",
    "       [ 0.,  0.,  0.,  0.,  0.,  0.,  0., -1.,  2., -1.],\n",
    "       [ 0.,  0.,  0.,  0.,  0.,  0.,  0.,  0., -1.,  2.]])\n",
    "\n",
    "P, L, U = lu(tridiagonal)\n",
    "\n",
    "# Como se pide en la matriz U sea superior unitaria para que siga la regla de Crout esta se debe transformar\n",
    "\n",
    "print(\"La matriz L\")\n",
    "print(L)\n",
    "print(\"La matriz U\")\n",
    "print(U)"
   ]
  },
  {
   "cell_type": "code",
   "execution_count": 282,
   "metadata": {},
   "outputs": [
    {
     "name": "stdout",
     "output_type": "stream",
     "text": [
      "L transformada\n",
      "[[ 1.          0.          0.          0.          0.          0.\n",
      "   0.          0.          0.          0.        ]\n",
      " [-0.5         1.          0.          0.          0.          0.\n",
      "   0.          0.          0.          0.        ]\n",
      " [ 0.         -0.66666667  1.          0.          0.          0.\n",
      "   0.          0.          0.          0.        ]\n",
      " [ 0.          0.         -0.75        1.          0.          0.\n",
      "   0.          0.          0.          0.        ]\n",
      " [ 0.          0.          0.         -0.8         1.          0.\n",
      "   0.          0.          0.          0.        ]\n",
      " [ 0.          0.          0.          0.         -0.83333333  1.\n",
      "   0.          0.          0.          0.        ]\n",
      " [ 0.          0.          0.          0.          0.         -0.85714286\n",
      "   1.          0.          0.          0.        ]\n",
      " [ 0.          0.          0.          0.          0.          0.\n",
      "  -0.875       1.          0.          0.        ]\n",
      " [ 0.          0.          0.          0.          0.          0.\n",
      "   0.         -0.88888889  1.          0.        ]\n",
      " [ 0.          0.          0.          0.          0.          0.\n",
      "   0.          0.         -0.9         1.        ]]\n",
      "U transformada para Crout\n",
      "[[ 2.         -1.          0.          0.          0.          0.\n",
      "   0.          0.          0.          0.        ]\n",
      " [ 0.          1.5        -1.          0.          0.          0.\n",
      "   0.          0.          0.          0.        ]\n",
      " [ 0.          0.          1.33333333 -1.          0.          0.\n",
      "   0.          0.          0.          0.        ]\n",
      " [ 0.          0.          0.          1.25       -1.          0.\n",
      "   0.          0.          0.          0.        ]\n",
      " [ 0.          0.          0.          0.          1.2        -1.\n",
      "   0.          0.          0.          0.        ]\n",
      " [ 0.          0.          0.          0.          0.          1.16666667\n",
      "  -1.          0.          0.          0.        ]\n",
      " [ 0.          0.          0.          0.          0.          0.\n",
      "   1.14285714 -1.          0.          0.        ]\n",
      " [ 0.          0.          0.          0.          0.          0.\n",
      "   0.          1.125      -1.          0.        ]\n",
      " [ 0.          0.          0.          0.          0.          0.\n",
      "   0.          0.          1.11111111 -1.        ]\n",
      " [ 0.          0.          0.          0.          0.          0.\n",
      "   0.          0.          0.          1.1       ]]\n"
     ]
    }
   ],
   "source": [
    "# Se toma la diagonal de U\n",
    "diagonal_U = np.diag(U)\n",
    "\n",
    "U_nueva = U / diagonal_U.reshape(-1, 1)\n",
    "L_nueva = L * diagonal_U\n",
    "\n",
    "print(\"L transformada\")\n",
    "print(L)\n",
    "print(\"U transformada para Crout\")\n",
    "print(U)"
   ]
  },
  {
   "cell_type": "code",
   "execution_count": 283,
   "metadata": {},
   "outputs": [
    {
     "name": "stdout",
     "output_type": "stream",
     "text": [
      "Comprobación de que sigue igual el producto\n"
     ]
    },
    {
     "data": {
      "text/plain": [
       "array([[ 2., -1.,  0.,  0.,  0.,  0.,  0.,  0.,  0.,  0.],\n",
       "       [-1.,  2., -1.,  0.,  0.,  0.,  0.,  0.,  0.,  0.],\n",
       "       [ 0., -1.,  2., -1.,  0.,  0.,  0.,  0.,  0.,  0.],\n",
       "       [ 0.,  0., -1.,  2., -1.,  0.,  0.,  0.,  0.,  0.],\n",
       "       [ 0.,  0.,  0., -1.,  2., -1.,  0.,  0.,  0.,  0.],\n",
       "       [ 0.,  0.,  0.,  0., -1.,  2., -1.,  0.,  0.,  0.],\n",
       "       [ 0.,  0.,  0.,  0.,  0., -1.,  2., -1.,  0.,  0.],\n",
       "       [ 0.,  0.,  0.,  0.,  0.,  0., -1.,  2., -1.,  0.],\n",
       "       [ 0.,  0.,  0.,  0.,  0.,  0.,  0., -1.,  2., -1.],\n",
       "       [ 0.,  0.,  0.,  0.,  0.,  0.,  0.,  0., -1.,  2.]])"
      ]
     },
     "execution_count": 283,
     "metadata": {},
     "output_type": "execute_result"
    }
   ],
   "source": [
    "print(\"Comprobación de que sigue igual el producto\")\n",
    "np.dot(L_nueva, U_nueva)\n"
   ]
  },
  {
   "cell_type": "code",
   "execution_count": 287,
   "metadata": {},
   "outputs": [
    {
     "name": "stdout",
     "output_type": "stream",
     "text": [
      "Esta es la solución real del sistema\n"
     ]
    },
    {
     "data": {
      "text/plain": [
       "array([1., 1., 1., 1., 1., 1., 1., 1., 1., 1.])"
      ]
     },
     "execution_count": 287,
     "metadata": {},
     "output_type": "execute_result"
    }
   ],
   "source": [
    "print(\"Esta es la solución real del sistema\")\n",
    "b = np.array([1,0,0,0,0,0,0,0,0,1])\n",
    "np.linalg.solve(tridiagonal,b )"
   ]
  },
  {
   "cell_type": "code",
   "execution_count": 289,
   "metadata": {},
   "outputs": [
    {
     "name": "stdout",
     "output_type": "stream",
     "text": [
      "Ly = b\n"
     ]
    },
    {
     "data": {
      "text/plain": [
       "array([0.5       , 0.33333333, 0.25      , 0.2       , 0.16666667,\n",
       "       0.14285714, 0.125     , 0.11111111, 0.1       , 1.        ])"
      ]
     },
     "execution_count": 289,
     "metadata": {},
     "output_type": "execute_result"
    }
   ],
   "source": [
    "print(\"Ly = b\")\n",
    "y = np.linalg.solve(L_nueva,b )\n",
    "y"
   ]
  },
  {
   "cell_type": "code",
   "execution_count": 292,
   "metadata": {},
   "outputs": [
    {
     "name": "stdout",
     "output_type": "stream",
     "text": [
      "Ux = y\n",
      "Se cumple la solución del sistema\n"
     ]
    },
    {
     "data": {
      "text/plain": [
       "array([1., 1., 1., 1., 1., 1., 1., 1., 1., 1.])"
      ]
     },
     "execution_count": 292,
     "metadata": {},
     "output_type": "execute_result"
    }
   ],
   "source": [
    "print(\"Ux = y\")\n",
    "x = np.linalg.solve(U_nueva,y )\n",
    "print(\"Se cumple la solución del sistema\")\n",
    "x"
   ]
  },
  {
   "cell_type": "markdown",
   "metadata": {},
   "source": [
    "### Parte 1 - Punto Fijo"
   ]
  },
  {
   "cell_type": "code",
   "execution_count": 503,
   "metadata": {},
   "outputs": [
    {
     "name": "stdout",
     "output_type": "stream",
     "text": [
      "Parte de este código lo hicimos con Danna en clase\n"
     ]
    }
   ],
   "source": [
    "print(\"Parte de este código lo hicimos con Danna en clase\")\n",
    "def metodo_newton_raphson(fx, p0, tolerance=10**(-5)):\n",
    "    diff = fx.diff(x)\n",
    "    delta = float(fx.subs(x,p0)/diff.subs(x,p0))\n",
    "    iterador =  0\n",
    "    tiempo = dict()\n",
    "    valores = dict()\n",
    "    valores[iterador] = p0\n",
    "    while abs(delta) > tolerance:\n",
    "        inicio = time.time()\n",
    "        p0 = p0 - delta\n",
    "        delta =  float(fx.subs(x,p0)/diff.subs(x,p0))\n",
    "        iterador += 1\n",
    "        print(f\"iteración {iterador}: p={p0}\")\n",
    "        valores[iterador] = p0\n",
    "        final = time.time()\n",
    "        tiempo[iterador] = final-inicio\n",
    "    return p0, tiempo, valores"
   ]
  },
  {
   "cell_type": "code",
   "execution_count": 436,
   "metadata": {},
   "outputs": [],
   "source": [
    "def aitken(newton, tolerancia =10**(-5)):\n",
    "    pn = newton.copy()\n",
    "    i = 0\n",
    "    pInicial, pLuego = 0, 1000\n",
    "    while abs(pInicial - pLuego) > tolerancia:\n",
    "        pInicial = pn[i] - (((pn[i+1] - pn[i])**2)/(pn[i+2] - 2*pn[i+1] + pn[i]))\n",
    "        print(i, pInicial)\n",
    "        i += 1\n",
    "        pLuego = pn[i] - (((pn[i+1] - pn[i])**2)/(pn[i+2] - 2*pn[i+1] + pn[i]))\n",
    "    return pLuego, i\n",
    "    "
   ]
  },
  {
   "cell_type": "markdown",
   "metadata": {},
   "source": [
    "$f(x) = e^{6x} + 3(\\ln 2)^2e^{2x} - \\ln 8 \\cdot e^{4x} - (\\ln 2)^3$"
   ]
  },
  {
   "cell_type": "code",
   "execution_count": 437,
   "metadata": {},
   "outputs": [
    {
     "name": "stdout",
     "output_type": "stream",
     "text": [
      "iteración 1: p=-0.05114213657334245\n",
      "iteración 2: p=-0.08984247581502666\n",
      "iteración 3: p=-0.1182447360258235\n",
      "iteración 4: p=-0.13856559584000833\n",
      "iteración 5: p=-0.15281619296929538\n",
      "iteración 6: p=-0.16266025259027356\n",
      "iteración 7: p=-0.16938617562234737\n",
      "iteración 8: p=-0.17394606447458652\n",
      "iteración 9: p=-0.17702081377065793\n",
      "iteración 10: p=-0.1790864552276591\n",
      "iteración 11: p=-0.18047067667989156\n",
      "iteración 12: p=-0.18139668914881588\n",
      "iteración 13: p=-0.1820154613800404\n",
      "iteración 14: p=-0.1824286147573202\n",
      "iteración 15: p=-0.18270433494121108\n",
      "iteración 16: p=-0.182888275193836\n",
      "iteración 17: p=-0.18301095840919507\n",
      "iteración 18: p=-0.18309277216650258\n",
      "iteración 19: p=-0.18314732552052906\n",
      "iteración 20: p=-0.1831836998202307\n"
     ]
    },
    {
     "data": {
      "text/plain": [
       "-0.1831836998202307"
      ]
     },
     "execution_count": 437,
     "metadata": {},
     "output_type": "execute_result"
    }
   ],
   "source": [
    "x = symbols('x')\n",
    "funcion = exp(6*x) + 3*(log(2))**2*exp(2*x) - log(8)*exp(4*x) - (log(2))**3\n",
    "\n",
    "resultadosNewton = metodo_newton_raphson(funcion,0,tolerance=3 *(10**(-5)))\n",
    "resultadosNewton[0]"
   ]
  },
  {
   "cell_type": "code",
   "execution_count": 352,
   "metadata": {},
   "outputs": [
    {
     "name": "stdout",
     "output_type": "stream",
     "text": [
      "0 -0.21022028116719185\n",
      "1 -0.19657860612550765\n",
      "2 -0.1896628467274744\n",
      "3 -0.18627100853213532\n",
      "4 -0.18465155747276912\n",
      "5 -0.18389421250384796\n",
      "6 -0.18354544500992143\n",
      "7 -0.18338660154759043\n",
      "8 -0.1833148186033844\n",
      "9 -0.1832825533718166\n"
     ]
    },
    {
     "data": {
      "text/plain": [
       "(-0.183268103991913, 10)"
      ]
     },
     "execution_count": 352,
     "metadata": {},
     "output_type": "execute_result"
    }
   ],
   "source": [
    "aitken(resultadosNewton[2],tolerancia=3 *(10**(-5)))"
   ]
  },
  {
   "cell_type": "markdown",
   "metadata": {},
   "source": [
    "#### Punto 3"
   ]
  },
  {
   "cell_type": "code",
   "execution_count": 411,
   "metadata": {},
   "outputs": [],
   "source": [
    "def errores(real, prediccion):\n",
    "    absoluto = abs(real - prediccion)\n",
    "    relativo = (absoluto / real)\n",
    "    return absoluto, relativo"
   ]
  },
  {
   "cell_type": "code",
   "execution_count": 419,
   "metadata": {},
   "outputs": [
    {
     "data": {
      "text/plain": [
       "array([ 0.7423, -3.032 ,  0.1246,  4.2916])"
      ]
     },
     "execution_count": 419,
     "metadata": {},
     "output_type": "execute_result"
    }
   ],
   "source": [
    "tr = truncar_a_cuatro = lambda x: int(x * 10000) / 10000\n",
    "A = np.array([\n",
    "    [tr(np.pi), tr(-np.e), tr(np.sqrt(2)), tr(-np.sqrt(3))],\n",
    "    [tr(np.pi**2), tr(np.e), tr(-np.e**2), tr(3/7)],\n",
    "    [tr(np.sqrt(5)), tr(-np.sqrt(6)), 1, tr(-np.sqrt(2))],\n",
    "    [tr(np.pi**3), tr(np.e**2), tr(np.sqrt(7)), tr(1/9)]\n",
    "], dtype=float)\n",
    "\n",
    "b = np.array([\n",
    "    tr(np.sqrt(11)),\n",
    "    0,\n",
    "    tr(np.pi),\n",
    "    tr(np.sqrt(2))\n",
    "], dtype=float)\n",
    "\n",
    "A2 = np.array([\n",
    "    [(np.pi), (-np.e), (np.sqrt(2)), (-np.sqrt(3))],\n",
    "    [(np.pi**2), (np.e), (-np.e**2), (3/7)],\n",
    "    [(np.sqrt(5)), (-np.sqrt(6)), 1, (-np.sqrt(2))],\n",
    "    [(np.pi**3), (np.e**2), (np.sqrt(7)), (1/9)]\n",
    "], dtype=float)\n",
    "\n",
    "b2 = np.array([\n",
    "    (np.sqrt(11)),\n",
    "    0,\n",
    "    (np.pi),\n",
    "    (np.sqrt(2))\n",
    "], dtype=float)\n",
    "eliminacion_gauss(A, b, normalizar = True,decimales = 4)[0]\n"
   ]
  },
  {
   "cell_type": "code",
   "execution_count": 421,
   "metadata": {},
   "outputs": [
    {
     "name": "stdout",
     "output_type": "stream",
     "text": [
      "La solución con el valor truncado es [ 0.7423 -3.032   0.1246  4.2916]\n",
      "La solución real es [ 0.74158627 -3.02957532  0.1246506   4.28662904]\n",
      "los errores absolutos son [0.00071373297146482, 0.0024246770795981476, 5.059902067387767e-05, 0.004970957921676344]\n",
      "los errores relativos son [0.0009624409231911472, -0.0008003356316161322, 0.0004059268152051607, 0.001159642663939549]\n"
     ]
    }
   ],
   "source": [
    "prediccionn = eliminacion_gauss(A, b,normalizar=True, decimales=4)[0]\n",
    "reall = eliminacion_gauss(A2, b2, normalizar = True, decimales=0)[0]\n",
    "\n",
    "print(f\"\"\"La solución con el valor truncado es {prediccionn}\"\"\")\n",
    "print(f\"\"\"La solución real es {reall}\"\"\")\n",
    "\n",
    "print(f\"\"\"los errores absolutos son {[errores(reall[i], prediccionn[i])[0] for i in range(4)]}\"\"\")\n",
    "print(f\"\"\"los errores relativos son {[errores(reall[i], prediccionn[i])[1] for i in range(4)]}\"\"\")"
   ]
  },
  {
   "cell_type": "code",
   "execution_count": 423,
   "metadata": {},
   "outputs": [],
   "source": [
    "A = np.array([\n",
    "    [tr(np.pi),tr( np.sqrt(2)), -1, 1],\n",
    "    [tr(np.e), -1, 1, 2],\n",
    "    [1, 1, tr(-np.sqrt(3)), 1],\n",
    "    [-1, -1, 1, tr(-np.sqrt(5))]\n",
    "], dtype=float)\n",
    "\n",
    "b = np.array([\n",
    "    0,\n",
    "    1,\n",
    "    2,\n",
    "    3\n",
    "], dtype=float)\n",
    "\n",
    "A2 = np.array([\n",
    "    [(np.pi),( np.sqrt(2)), -1, 1],\n",
    "    [(np.e), -1, 1, 2],\n",
    "    [1, 1, (-np.sqrt(3)), 1],\n",
    "    [-1, -1, 1, (-np.sqrt(5))]\n",
    "], dtype=float)\n",
    "\n",
    "b = np.array([\n",
    "    0,\n",
    "    1,\n",
    "    2,\n",
    "    3\n",
    "], dtype=float)"
   ]
  },
  {
   "cell_type": "code",
   "execution_count": 424,
   "metadata": {},
   "outputs": [
    {
     "name": "stdout",
     "output_type": "stream",
     "text": [
      "La solución con el valor truncado es [ 1.3489 -4.6773 -4.0324 -1.6564]\n",
      "La solución real es [ 1.63685112 -2.32547356 -3.23364647 -1.77062488]\n",
      "los errores absolutos son [0.2879511195426172, 2.3518264365884365, 0.7987535338164262, 0.11422487568676543]\n",
      "los errores relativos son [0.17591772159649985, -1.0113322609173043, -0.24701325335639862, -0.06451105327573209]\n"
     ]
    }
   ],
   "source": [
    "prediccionn = eliminacion_gauss(A, b,normalizar=True, decimales=4)[0]\n",
    "reall = eliminacion_gauss(A2, b2, normalizar = True, decimales=0)[0]\n",
    "\n",
    "print(f\"\"\"La solución con el valor truncado es {prediccionn}\"\"\")\n",
    "print(f\"\"\"La solución real es {reall}\"\"\")\n",
    "\n",
    "print(f\"\"\"los errores absolutos son {[errores(reall[i], prediccionn[i])[0] for i in range(4)]}\"\"\")\n",
    "print(f\"\"\"los errores relativos son {[errores(reall[i], prediccionn[i])[1] for i in range(4)]}\"\"\")"
   ]
  },
  {
   "cell_type": "markdown",
   "metadata": {},
   "source": [
    "### Punto B"
   ]
  },
  {
   "cell_type": "code",
   "execution_count": 502,
   "metadata": {},
   "outputs": [],
   "source": [
    "matrices = []\n",
    "for i in range(1,81):\n",
    "    fila = []\n",
    "    for j in range(1,81):\n",
    "        if i == j: fila += [2*i]\n",
    "        elif (i+2 == j) or (i-2 == j) : fila += [0.5*i]\n",
    "        elif (i+4 == j) or (i-4 == j): fila += [0.25*i]\n",
    "        else: fila += [0]\n",
    "    matrices += [fila]"
   ]
  },
  {
   "cell_type": "code",
   "execution_count": 462,
   "metadata": {},
   "outputs": [
    {
     "name": "stdout",
     "output_type": "stream",
     "text": [
      "Con siediel es 10\n",
      "Con Jacobi es 39\n",
      "Los resultados casos ena ambos son similares\n",
      "[1.53873414 0.73142095 0.10796998 0.17328416 0.0405567  0.08524859\n",
      " 0.16644796 0.12197955 0.10124978 0.0904573  0.0720285  0.07026331\n",
      " 0.06875486 0.0632437  0.05971143 0.05570893 0.05187474 0.04924594\n",
      " 0.04677832 0.04448357 0.04246546 0.04053496 0.03876903 0.03717872\n",
      " 0.035705   0.03434797 0.03309199 0.03191912 0.03082682 0.02980711\n",
      " 0.02885204 0.02795665 0.02711501 0.0263222  0.02557438 0.02486773\n",
      " 0.02419898 0.02356521 0.02296371 0.02239209 0.02184818 0.02133002\n",
      " 0.02083582 0.02036396 0.01991296 0.01948148 0.01906828 0.01867221\n",
      " 0.01829225 0.01792741 0.01757685 0.0172397  0.01691523 0.01660273\n",
      " 0.01630149 0.01601103 0.01573075 0.01546008 0.01519876 0.01494593\n",
      " 0.01470078 0.0144641  0.01423462 0.01401257 0.01380241 0.01359363\n",
      " 0.01338418 0.01318764 0.01297108 0.01278597 0.01270271 0.01252663\n",
      " 0.01237654 0.01220963 0.01129008 0.01114102 0.01217313 0.01201746\n",
      " 0.01542896 0.01523796]\n"
     ]
    }
   ],
   "source": [
    "def siediel(matrizA, vectorSolución, tolerancia):\n",
    "   tamaño=len(vectorSolución)\n",
    "   solucionFinal=zeros(len(vectorSolución))\n",
    "   parcial=solucionFinal.copy()\n",
    "   error=1\n",
    "   iteración=0\n",
    "   while error>tolerancia:\n",
    "      iteración+=1\n",
    "      for i in range(tamaño):\n",
    "         sum1=0\n",
    "         for j in range(tamaño):\n",
    "            if i!=j: sum1+=matrizA[i,j]*solucionFinal[j]\n",
    "         solucionFinal[i]=(-1/matrizA[i,i])*(sum1-vectorSolución[i])\n",
    "      error = max(abs(solucionFinal-parcial))/max(abs(solucionFinal))\n",
    "      parcial=solucionFinal.copy()\n",
    "   return solucionFinal, iteración\n",
    "\n",
    "def jacobi(matrizA, vectorSolución, tolerancia):\n",
    "    tamaño = len(vectorSolución)\n",
    "    solucionFinal = np.zeros(tamaño)  \n",
    "    parcial = solucionFinal.copy()\n",
    "    error = 1\n",
    "    iteracion = 0\n",
    "    while error > tolerancia:\n",
    "        iteracion += 1\n",
    "        parcial = solucionFinal.copy()  \n",
    "        for i in range(tamaño):\n",
    "            sum1 = 0\n",
    "            for j in range(tamaño):\n",
    "                if i != j:sum1 += matrizA[i, j] * parcial[j]  \n",
    "            solucionFinal[i] = (-1 / matrizA[i, i]) * (sum1 - vectorSolución[i])  \n",
    "        error = np.max(np.abs(solucionFinal - parcial)) / np.max(np.abs(solucionFinal))  \n",
    "    return solucionFinal, iteracion\n",
    "\n",
    "print(\"Con siediel es\", siediel(np.array(matrices), np.array([np.pi]*80), 1.E-6)[1])\n",
    "print(\"Con Jacobi es\", jacobi(np.array(matrices), np.array([np.pi]*80), 1.E-6)[1])\n",
    "print(\"Los resultados casos ena ambos son similares\")\n",
    "print(siediel(np.array(matrices), np.array([np.pi]*80), 1.E-6)[0])\n"
   ]
  },
  {
   "cell_type": "markdown",
   "metadata": {},
   "source": [
    "#### punto 4"
   ]
  },
  {
   "cell_type": "code",
   "execution_count": 494,
   "metadata": {},
   "outputs": [],
   "source": [
    "def gompertz(t, P_L, c, k):\n",
    "    return P_L * np.exp(-c * np.exp(-k * t))"
   ]
  },
  {
   "cell_type": "markdown",
   "metadata": {},
   "source": [
    "### Modelo fallido"
   ]
  },
  {
   "cell_type": "code",
   "execution_count": 501,
   "metadata": {},
   "outputs": [
    {
     "name": "stdout",
     "output_type": "stream",
     "text": [
      "Esta es la que decidí que no sirve, errores en la covarianza\n"
     ]
    },
    {
     "name": "stderr",
     "output_type": "stream",
     "text": [
      "/opt/anaconda3/lib/python3.9/site-packages/scipy/optimize/_minpack_py.py:1010: OptimizeWarning: Covariance of the parameters could not be estimated\n",
      "  warnings.warn('Covariance of the parameters could not be estimated',\n"
     ]
    },
    {
     "data": {
      "text/plain": [
       "array([[inf, inf, inf],\n",
       "       [inf, inf, inf],\n",
       "       [inf, inf, inf]])"
      ]
     },
     "execution_count": 501,
     "metadata": {},
     "output_type": "execute_result"
    }
   ],
   "source": [
    "print(\"Esta es la que decidí que no sirve, errores en la covarianza\")\n",
    "añosDemo = np.array([1988, 1989, 1990])\n",
    "poblacionDemo = np.array([31834000, 32494000, 33156000])\n",
    "añosAjuste = añosDemo - añosDemo.min()\n",
    "parametroPL = [31180000, 31834000, 32494000]\n",
    "popt, pcov = curve_fit(gompertz, añosAjuste,parametroPL, poblacionDemo, maxfev=5000)\n",
    "pcov"
   ]
  },
  {
   "cell_type": "markdown",
   "metadata": {},
   "source": [
    "### Modelo 1"
   ]
  },
  {
   "cell_type": "code",
   "execution_count": 485,
   "metadata": {},
   "outputs": [
    {
     "name": "stdout",
     "output_type": "stream",
     "text": [
      "El método es L-BFGS-B y el error se minimiza con el error cuadratico\n",
      "Los parametros estimados son: 35444901.91, c = 0.108, k = 0.2342\n"
     ]
    }
   ],
   "source": [
    "def gompertz(t, P_L, c, k):\n",
    "    return P_L * np.exp(-c * np.exp(-k * t))\n",
    "\n",
    "def costoFuncion(params):\n",
    "    P_L, c, k = params\n",
    "    predicted = gompertz(año, P_L, c, k)\n",
    "    return np.sum((predicted - poblacion)**2) \n",
    "\n",
    "año = np.array([1988, 1989, 1990]) - 1988  #para que quede de 0 a 1\n",
    "poblacion = np.array([31834000, 32494000, 33156000])\n",
    "iniciales = [35000000, 0.1, 0.1]\n",
    "cotasEstablecidas = [(poblacion.max(), 1.2 * poblacion.max()),(0, 1),  (0, 1)] \n",
    "\n",
    "print(\"El método es L-BFGS-B y el error se minimiza con el error cuadratico\")\n",
    "estimacion = minimize(costoFuncion, iniciales, method='L-BFGS-B', bounds=cotasEstablecidas)\n",
    "\n",
    "parametrosEstimados = estimacion.x\n",
    "print(f\"\"\"Los parametros estimados son: {round(parametrosEstimados[0], 2)}, c = {round(parametrosEstimados[1], 4)}, k = {round(parametrosEstimados[2], 4)}\"\"\")"
   ]
  },
  {
   "cell_type": "code",
   "execution_count": 489,
   "metadata": {},
   "outputs": [
    {
     "data": {
      "text/plain": [
       "{2010: 35422761.636992745,\n",
       " 2011: 35427383.30456886,\n",
       " 2012: 35431040.41168688,\n",
       " 2013: 35433934.19536336,\n",
       " 2014: 35436223.934782796,\n",
       " 2015: 35438035.68960796,\n",
       " 2016: 35439469.22211197,\n",
       " 2017: 35440603.47922267,\n",
       " 2018: 35441500.93320985,\n",
       " 2019: 35442211.01810257,\n",
       " 2020: 35442772.84987831,\n",
       " 2021: 35443217.37948998,\n",
       " 2022: 35443569.0968517}"
      ]
     },
     "execution_count": 489,
     "metadata": {},
     "output_type": "execute_result"
    }
   ],
   "source": [
    "añosNuevos = {2010:4408600, 2011:4455300, 2012:45002000, 2013:45435000, 2014:45866000, 2015:46314000, 2016:46830000, 2017:47719000, 2018:48258000, 2019:49396000, 2020:50372000, 2021:51049000, 2022:51609000}\n",
    "prediccion = dict()\n",
    "for key, value in añosNuevos.items():\n",
    "    añoEscalado = key - 1988\n",
    "    prediccionPoblación = gompertz(añoEscalado, 35444901.91, 0.1080, 0.2342)\n",
    "    prediccion[key] = prediccionPoblación\n",
    "prediccion"
   ]
  },
  {
   "cell_type": "code",
   "execution_count": 490,
   "metadata": {},
   "outputs": [
    {
     "name": "stdout",
     "output_type": "stream",
     "text": [
      "Error absoluto\n"
     ]
    },
    {
     "data": {
      "image/png": "[encoded data removed]",
      "text/plain": [
       "<Figure size 1200x600 with 1 Axes>"
      ]
     },
     "metadata": {},
     "output_type": "display_data"
    }
   ],
   "source": [
    "import matplotlib.pyplot as plt\n",
    "\n",
    "predicciones = prediccion\n",
    "\n",
    "añosEje = list(predicciones.keys())\n",
    "valoresPredichos = list(predicciones.values())\n",
    "valoresReales = list(reales.values())\n",
    "\n",
    "print(\"Error absoluto\")\n",
    "errorAboluto = [abs(pred - real) for pred, real in zip(valoresPredichos, valoresReales)] #error absoluto\n",
    "\n",
    "plt.figure(figsize=(12, 6))\n",
    "plt.plot(añosEje, valoresPredichos, label='Predicción', marker='o', linestyle='-', color='darkblue')\n",
    "plt.plot(añosEje, valoresReales, label='Valor real', marker='x', linestyle='-', color='green')\n",
    "plt.fill_between(añosEje, valoresPredichos, valoresReales, color='red', alpha=0.3, label='Error')\n",
    "plt.xlabel('Año')\n",
    "plt.ylabel('Población')\n",
    "plt.title('Comparación de Población Predicha y Real')\n",
    "plt.legend()\n",
    "plt.grid(True)\n",
    "plt.show()"
   ]
  },
  {
   "cell_type": "markdown",
   "metadata": {},
   "source": [
    "### Modelo2"
   ]
  },
  {
   "cell_type": "code",
   "execution_count": 491,
   "metadata": {},
   "outputs": [
    {
     "name": "stdout",
     "output_type": "stream",
     "text": [
      "Este valor yo lo fijo\n",
      "El método es L-BFGS-B y el error se minimiza con el error cuadratico\n",
      "Los parametros estimados son:  c = 0.5469, k = 0.0387\n"
     ]
    }
   ],
   "source": [
    "def costoFuncion2(params):\n",
    "    c, k = params\n",
    "    predicc = gompertz(año, P_L, c, k)\n",
    "    return np.sum((predicc - poblacion)**2) \n",
    "\n",
    "año = np.array([1988, 1989, 1990]) - 1988  #para que quede de 0 a 1\n",
    "poblacion = np.array([31834000, 32494000, 33156000])\n",
    "\n",
    "print(\"Este valor yo lo fijo\") \n",
    "P_L = 55000000 #Este valor yo lo fijé\n",
    "\n",
    "iniciales = [0.1, 0.1]\n",
    "\n",
    "cotasEstablecidas = [(0, 1),  (0, 1)] \n",
    "\n",
    "print(\"El método es L-BFGS-B y el error se minimiza con el error cuadratico\")\n",
    "estimacion = minimize(costoFuncion2, iniciales, method='L-BFGS-B', bounds=cotasEstablecidas)\n",
    "\n",
    "parametrosEstimados = estimacion.x\n",
    "print(f\"\"\"Los parametros estimados son:  c = {round(parametrosEstimados[0], 4)}, k = {round(parametrosEstimados[1], 4)}\"\"\")"
   ]
  },
  {
   "cell_type": "code",
   "execution_count": 492,
   "metadata": {},
   "outputs": [
    {
     "data": {
      "text/plain": [
       "{2010: 43549881.59627726,\n",
       " 2011: 43937493.06321601,\n",
       " 2012: 44313646.09577612,\n",
       " 2013: 44678558.99458608,\n",
       " 2014: 45032455.27538606,\n",
       " 2015: 45375562.72800674,\n",
       " 2016: 45708112.54117566,\n",
       " 2017: 46030338.49070627,\n",
       " 2018: 46342476.18852347,\n",
       " 2019: 46644762.38990858,\n",
       " 2020: 46937434.35630406,\n",
       " 2021: 47220729.27100013,\n",
       " 2022: 47494883.705028236}"
      ]
     },
     "execution_count": 492,
     "metadata": {},
     "output_type": "execute_result"
    }
   ],
   "source": [
    "prediccion2 = dict()\n",
    "for key, value in añosNuevos.items():\n",
    "    añoEscalado = key - 1988\n",
    "    prediccionPoblación = gompertz(añoEscalado, 55000000, 0.5469, 0.0387)\n",
    "    prediccion2[key] = prediccionPoblación\n",
    "prediccion2"
   ]
  },
  {
   "cell_type": "code",
   "execution_count": 493,
   "metadata": {},
   "outputs": [
    {
     "name": "stdout",
     "output_type": "stream",
     "text": [
      "Error absoluto\n"
     ]
    },
    {
     "data": {
      "image/png": "[encoded data removed]",
      "text/plain": [
       "<Figure size 1200x600 with 1 Axes>"
      ]
     },
     "metadata": {},
     "output_type": "display_data"
    }
   ],
   "source": [
    "# Datos proporcionados por el usuario\n",
    "predicciones = prediccion2\n",
    "\n",
    "añosEje = list(predicciones.keys())\n",
    "valoresPredichos = list(predicciones.values())\n",
    "valoresReales = list(reales.values())\n",
    "\n",
    "print(\"Error absoluto\")\n",
    "errorAboluto = [abs(pred - real) for pred, real in zip(valoresPredichos, valoresReales)] #error absoluto\n",
    "\n",
    "plt.figure(figsize=(12, 6))\n",
    "plt.plot(añosEje, valoresPredichos, label='Predicción', marker='o', linestyle='-', color='darkblue')\n",
    "plt.plot(añosEje, valoresReales, label='Valor real', marker='x', linestyle='-', color='green')\n",
    "plt.fill_between(añosEje, valoresPredichos, valoresReales, color='red', alpha=0.3, label='Error')\n",
    "plt.xlabel('Año')\n",
    "plt.ylabel('Población')\n",
    "plt.title('Comparación de Población Predicha y Real')\n",
    "plt.legend()\n",
    "plt.grid(True)\n",
    "plt.show()"
   ]
  },
  {
   "cell_type": "code",
   "execution_count": null,
   "metadata": {},
   "outputs": [],
   "source": []
  },
  {
   "cell_type": "markdown",
   "metadata": {},
   "source": []
  }
 ],
 "metadata": {
  "kernelspec": {
   "display_name": "Python 3.9.13",
   "language": "python",
   "name": "python3"
  },
  "language_info": {
   "codemirror_mode": {
    "name": "ipython",
    "version": 3
   },
   "file_extension": ".py",
   "mimetype": "text/x-python",
   "name": "python",
   "nbconvert_exporter": "python",
   "pygments_lexer": "ipython3",
   "version": "3.9.13"
  },
  "orig_nbformat": 4,
  "vscode": {
   "interpreter": {
    "hash": "40d3a090f54c6569ab1632332b64b2c03c39dcf918b08424e98f38b5ae0af88f"
   }
  }
 },
 "nbformat": 4,
 "nbformat_minor": 2
}
