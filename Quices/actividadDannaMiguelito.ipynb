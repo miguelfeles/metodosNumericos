{
 "cells": [
  {
   "cell_type": "markdown",
   "metadata": {},
   "source": [
    "Danna y Miguelito\n",
    "\n",
    "Quiz 2"
   ]
  },
  {
   "cell_type": "code",
   "execution_count": 5,
   "metadata": {},
   "outputs": [],
   "source": [
    "# Importaciones \n",
    "\n",
    "import sympy as sy\n",
    "from math import *\n",
    "from IPython.display import IFrame\n",
    "import matplotlib.pyplot as plt\n",
    "import time\n",
    "\n",
    "x = sy.Symbol('x')"
   ]
  },
  {
   "cell_type": "code",
   "execution_count": 21,
   "metadata": {},
   "outputs": [],
   "source": [
    "def metodo_biseccion(f, a, b, tolerance=10*(-5)):\n",
    "    counter = 0\n",
    "    tiempo = dict()\n",
    "    while abs(b - a) > tolerance:\n",
    "        inicio = time.time()\n",
    "        c = (b + a)/2\n",
    "        print(f.subs(x,a) * f.subs(x,c))\n",
    "        if (f.subs(x,a) * f.subs(x,c)) < 0:\n",
    "            b = c\n",
    "        else:\n",
    "            a = c \n",
    "\n",
    "        counter += 1\n",
    "        print(f\"Iteration {counter}: a={a}, b={b}\")\n",
    "        final = time.time()\n",
    "        tiempo[counter] = final-inicio\n",
    "\n",
    "    Root = (b + a)/2\n",
    "    print(\"La raiz es: \", Root)\n",
    "    return Root, tiempo\n",
    "\n",
    "def metodo_newton_raphson(fx, p0, tolerance=10**(-5)):\n",
    "    diff = fx.diff(x)\n",
    "    delta = float(fx.subs(x,p0)/diff.subs(x,p0))\n",
    "    counter =  0\n",
    "    tiempo = dict()\n",
    "    while abs(delta) > tolerance:\n",
    "        inicio = time.time()\n",
    "        p0 = p0 - delta\n",
    "        delta =  float(fx.subs(x,p0)/diff.subs(x,p0))\n",
    "        counter += 1\n",
    "        print(f\"Iteration {counter}: p={p0}\")\n",
    "        final = time.time()\n",
    "        tiempo[counter] = final-inicio\n",
    "    return p0, tiempo\n",
    "\n",
    "def metodo_secante(fx, p0, p1,tolerance=10*(-5),iterMax=30):\n",
    "    counter =  0\n",
    "    tiempo = dict()\n",
    "    while counter < iterMax:\n",
    "        inicio = time.time()\n",
    "        counter += 1\n",
    "        fp0 = float(fx.subs(x,p0))\n",
    "        fp1 = float((fx.subs(x,p1)))\n",
    "        if abs(fp1) < tolerance:\n",
    "            return(p1)\n",
    "        if abs(fp0 - fp1) < tolerance:\n",
    "            return(p1)\n",
    "\n",
    "        psig = p1 - ((float((fx.subs(x,p1)))*(p1 - p0))/(float((fx.subs(x,p1))) - float(fx.subs(x,p0))))\n",
    "        if abs(psig - p1) < tolerance:\n",
    "            return(psig)\n",
    "        p0 = p1\n",
    "        p1 = psig\n",
    "        print(f\"Iteration {counter}: p0={p0}, p1={p1}\")\n",
    "        final = time.time()\n",
    "        tiempo[counter] = final-inicio\n",
    "    return p1, tiempo\n",
    "\n",
    "def metodo_puntofijo(f,p0,tolerance=10**(-5),iterMax=30):\n",
    "    counter = 0\n",
    "    while counter < iterMax:\n",
    "        p = float(f.subs(x,p0))\n",
    "        if abs(p-p0) < tolerance:\n",
    "            return p\n",
    "        counter += 1\n",
    "        p0 = p\n",
    "        print(f\"Iteration {counter}: p0={p0}\")\n",
    "    return p0\n"
   ]
  },
  {
   "cell_type": "code",
   "execution_count": 22,
   "metadata": {},
   "outputs": [
    {
     "name": "stdout",
     "output_type": "stream",
     "text": [
      "Iteration 1: p=0.24265615063445026\n",
      "Iteration 2: p=0.22062040112351955\n",
      "Iteration 3: p=0.22038782133121965\n"
     ]
    },
    {
     "data": {
      "text/plain": [
       "(0.22038782133121965,\n",
       " {1: 0.00026702880859375, 2: 0.00012993812561035156, 3: 0.0001201629638671875})"
      ]
     },
     "execution_count": 22,
     "metadata": {},
     "output_type": "execute_result"
    }
   ],
   "source": [
    "metodo_newton_raphson(2000000*(e**x) + ((900000/x)*((e**x)-1)) - 3500000, 0.01, tolerance=10**(-4))"
   ]
  },
  {
   "cell_type": "code",
   "execution_count": 23,
   "metadata": {},
   "outputs": [
    {
     "data": {
      "text/plain": [
       "5369840.196189624"
      ]
     },
     "execution_count": 23,
     "metadata": {},
     "output_type": "execute_result"
    }
   ],
   "source": [
    "3500000*(e**0.22038782133121965) + ((900000/0.22038782133121965)*((e**0.22038782133121965)-1))"
   ]
  },
  {
   "cell_type": "code",
   "execution_count": 29,
   "metadata": {},
   "outputs": [
    {
     "name": "stdout",
     "output_type": "stream",
     "text": [
      "-566659682702.655\n",
      "Iteration 1: a=0.01, b=0.505\n",
      "-65524382579.4716\n",
      "Iteration 2: a=0.01, b=0.2575\n",
      "144319667990.307\n",
      "Iteration 3: a=0.13375, b=0.2575\n",
      "18509404112.0367\n",
      "Iteration 4: a=0.195625, b=0.2575\n",
      "-1377846775.68383\n",
      "Iteration 5: a=0.195625, b=0.2265625\n",
      "2058819372.64178\n",
      "Iteration 6: a=0.21109375, b=0.2265625\n",
      "131098847.133929\n",
      "Iteration 7: a=0.21882812499999998, b=0.2265625\n",
      "-32727785.0146661\n",
      "Iteration 8: a=0.21882812499999998, b=0.2226953125\n",
      "-5298552.97158729\n",
      "Iteration 9: a=0.21882812499999998, b=0.22076171875\n",
      "8397291.36916560\n",
      "Iteration 10: a=0.219794921875, b=0.22076171875\n",
      "589821.314479348\n",
      "Iteration 11: a=0.2202783203125, b=0.22076171875\n",
      "-131587.995757437\n",
      "Iteration 12: a=0.2202783203125, b=0.22052001953125\n",
      "-11318.8026096087\n",
      "Iteration 13: a=0.2202783203125, b=0.220399169921875\n",
      "48810.6468430453\n",
      "Iteration 14: a=0.22033874511718748, b=0.220399169921875\n",
      "La raiz es:  0.22036895751953123\n"
     ]
    },
    {
     "data": {
      "text/plain": [
       "0.22036895751953123"
      ]
     },
     "execution_count": 29,
     "metadata": {},
     "output_type": "execute_result"
    }
   ],
   "source": [
    "metodo_biseccion(2000000*(e**x) + ((900000/x)*((e**x)-1)) - 3500000, 0.01, 1, tolerance=10**(-4))[0]"
   ]
  },
  {
   "cell_type": "markdown",
   "metadata": {},
   "source": [
    "1. Utilice los cuatro métodos vistos en clase para encontrar las soluciones dentro de $1e - 5$ para las siguientes casos: <br>\n",
    "(a) $3x - e^x = 0$ para $1 ≤ x ≤ 2$ <br>"
   ]
  },
  {
   "cell_type": "code",
   "execution_count": 16,
   "metadata": {},
   "outputs": [
    {
     "name": "stdout",
     "output_type": "stream",
     "text": [
      "Iteration 1: a=0.0, b=3\n",
      "Iteration 2: a=0.0, b=1.5\n",
      "Iteration 3: a=0.0, b=0.75\n",
      "Iteration 4: a=0.375, b=0.75\n",
      "Iteration 5: a=0.5625, b=0.75\n",
      "Iteration 6: a=0.5625, b=0.65625\n",
      "Iteration 7: a=0.609375, b=0.65625\n",
      "Iteration 8: a=0.609375, b=0.6328125\n",
      "Iteration 9: a=0.609375, b=0.62109375\n",
      "Iteration 10: a=0.615234375, b=0.62109375\n",
      "Iteration 11: a=0.6181640625, b=0.62109375\n",
      "Iteration 12: a=0.6181640625, b=0.61962890625\n",
      "Iteration 13: a=0.618896484375, b=0.61962890625\n",
      "Iteration 14: a=0.618896484375, b=0.6192626953125\n",
      "Iteration 15: a=0.618896484375, b=0.61907958984375\n",
      "Iteration 16: a=0.618988037109375, b=0.61907958984375\n",
      "Iteration 17: a=0.6190338134765625, b=0.61907958984375\n",
      "Iteration 18: a=0.6190567016601562, b=0.61907958984375\n",
      "Iteration 19: a=0.6190567016601562, b=0.6190681457519531\n",
      "Iteration 20: a=0.6190567016601562, b=0.6190624237060547\n",
      "La raiz es:  0.6190595626831055\n"
     ]
    },
    {
     "data": {
      "text/plain": [
       "0.6190595626831055"
      ]
     },
     "execution_count": 16,
     "metadata": {},
     "output_type": "execute_result"
    }
   ],
   "source": [
    "metodo_biseccion(3*x - e**x, -3, 3, tolerance=10**(-5))[0]"
   ]
  },
  {
   "cell_type": "code",
   "execution_count": 8,
   "metadata": {},
   "outputs": [
    {
     "name": "stdout",
     "output_type": "stream",
     "text": [
      "Iteration 1: p=0.0\n",
      "Iteration 2: p=0.5\n",
      "Iteration 3: p=0.6100596549589618\n",
      "Iteration 4: p=0.6189967797415397\n",
      "Iteration 5: p=0.6190612833553125\n"
     ]
    },
    {
     "data": {
      "text/plain": [
       "0.6190612833553125"
      ]
     },
     "execution_count": 8,
     "metadata": {},
     "output_type": "execute_result"
    }
   ],
   "source": [
    "metodo_newton_raphson(3*x - e**x, 1, tolerance=10**(-5))[0]"
   ]
  },
  {
   "cell_type": "code",
   "execution_count": 9,
   "metadata": {},
   "outputs": [
    {
     "name": "stdout",
     "output_type": "stream",
     "text": [
      "Hay error porque la iteración llegó a la raiz de forma que sus únicos puntos\n",
      "Iteration 1: p0=2, p1=1.1686153399174835\n",
      "Iteration 2: p0=1.1686153399174835, p1=1.3115165547175736\n",
      "Iteration 3: p0=1.3115165547175736, p1=1.7970430096312464\n",
      "Iteration 4: p0=1.7970430096312464, p1=1.4367778925334906\n",
      "Iteration 5: p0=1.4367778925334906, p1=1.4867662868726115\n",
      "Iteration 6: p0=1.4867662868726115, p1=1.5153257605230899\n",
      "Iteration 7: p0=1.5153257605230899, p1=1.5120119343332992\n",
      "Iteration 8: p0=1.5120119343332992, p1=1.5121339760022818\n",
      "Iteration 9: p0=1.5121339760022818, p1=1.512134551762063\n",
      "Iteration 10: p0=1.512134551762063, p1=1.5121345516578426\n",
      "Iteration 11: p0=1.5121345516578426, p1=1.5121345516578426\n"
     ]
    },
    {
     "ename": "ZeroDivisionError",
     "evalue": "float division by zero",
     "output_type": "error",
     "traceback": [
      "\u001b[0;31m---------------------------------------------------------------------------\u001b[0m",
      "\u001b[0;31mZeroDivisionError\u001b[0m                         Traceback (most recent call last)",
      "Cell \u001b[0;32mIn[9], line 2\u001b[0m\n\u001b[1;32m      1\u001b[0m \u001b[39mprint\u001b[39m(\u001b[39m\"\u001b[39m\u001b[39mHay error porque la iteración llegó a la raiz de forma que sus únicos puntos\u001b[39m\u001b[39m\"\u001b[39m)\n\u001b[0;32m----> 2\u001b[0m metodo_secante(\u001b[39m3\u001b[39;49m\u001b[39m*\u001b[39;49mx \u001b[39m-\u001b[39;49m e\u001b[39m*\u001b[39;49m\u001b[39m*\u001b[39;49mx, \u001b[39m1\u001b[39;49m, \u001b[39m2\u001b[39;49m,tolerance\u001b[39m=\u001b[39;49m\u001b[39m10\u001b[39;49m\u001b[39m*\u001b[39;49m(\u001b[39m-\u001b[39;49m\u001b[39m5\u001b[39;49m),iterMax\u001b[39m=\u001b[39;49m\u001b[39m50\u001b[39;49m)\n",
      "Cell \u001b[0;32mIn[6], line 49\u001b[0m, in \u001b[0;36mmetodo_secante\u001b[0;34m(fx, p0, p1, tolerance, iterMax)\u001b[0m\n\u001b[1;32m     46\u001b[0m \u001b[39mif\u001b[39;00m \u001b[39mabs\u001b[39m(fp0 \u001b[39m-\u001b[39m fp1) \u001b[39m<\u001b[39m tolerance:\n\u001b[1;32m     47\u001b[0m     \u001b[39mreturn\u001b[39;00m(p1)\n\u001b[0;32m---> 49\u001b[0m psig \u001b[39m=\u001b[39m p1 \u001b[39m-\u001b[39m ((\u001b[39mfloat\u001b[39;49m((fx\u001b[39m.\u001b[39;49msubs(x,p1)))\u001b[39m*\u001b[39;49m(p1 \u001b[39m-\u001b[39;49m p0))\u001b[39m/\u001b[39;49m(\u001b[39mfloat\u001b[39;49m((fx\u001b[39m.\u001b[39;49msubs(x,p1))) \u001b[39m-\u001b[39;49m \u001b[39mfloat\u001b[39;49m(fx\u001b[39m.\u001b[39;49msubs(x,p0))))\n\u001b[1;32m     50\u001b[0m \u001b[39mif\u001b[39;00m \u001b[39mabs\u001b[39m(psig \u001b[39m-\u001b[39m p1) \u001b[39m<\u001b[39m tolerance:\n\u001b[1;32m     51\u001b[0m     \u001b[39mreturn\u001b[39;00m(psig)\n",
      "\u001b[0;31mZeroDivisionError\u001b[0m: float division by zero"
     ]
    }
   ],
   "source": [
    "print(\"Hay error porque la iteración llegó a la raiz de forma que sus únicos puntos\")\n",
    "metodo_secante(3*x - e**x, 1, 2,tolerance=10*(-5),iterMax=50)"
   ]
  },
  {
   "cell_type": "markdown",
   "metadata": {},
   "source": [
    "(b) $2x + 3 cosx - e^x$ para $1 ≤ x ≤ 2$ <br>"
   ]
  },
  {
   "cell_type": "code",
   "execution_count": 10,
   "metadata": {},
   "outputs": [
    {
     "name": "stdout",
     "output_type": "stream",
     "text": [
      "Iteration 1: a=1, b=1.5\n",
      "Iteration 2: a=1, b=1.25\n",
      "Iteration 3: a=1.125, b=1.25\n",
      "Iteration 4: a=1.1875, b=1.25\n",
      "Iteration 5: a=1.21875, b=1.25\n",
      "Iteration 6: a=1.234375, b=1.25\n",
      "Iteration 7: a=1.234375, b=1.2421875\n",
      "Iteration 8: a=1.23828125, b=1.2421875\n",
      "Iteration 9: a=1.23828125, b=1.240234375\n",
      "Iteration 10: a=1.2392578125, b=1.240234375\n",
      "Iteration 11: a=1.2392578125, b=1.23974609375\n",
      "Iteration 12: a=1.239501953125, b=1.23974609375\n",
      "Iteration 13: a=1.2396240234375, b=1.23974609375\n",
      "Iteration 14: a=1.23968505859375, b=1.23974609375\n",
      "Iteration 15: a=1.23968505859375, b=1.239715576171875\n",
      "Iteration 16: a=1.2397003173828125, b=1.239715576171875\n",
      "Iteration 17: a=1.2397079467773438, b=1.239715576171875\n",
      "La raiz es:  1.2397117614746094\n"
     ]
    },
    {
     "data": {
      "text/plain": [
       "(1.2397117614746094,\n",
       " {1: 0.004287004470825195,\n",
       "  2: 0.0023522377014160156,\n",
       "  3: 0.002305746078491211,\n",
       "  4: 0.0014560222625732422,\n",
       "  5: 0.0010709762573242188,\n",
       "  6: 0.0010409355163574219,\n",
       "  7: 0.0010440349578857422,\n",
       "  8: 0.0011713504791259766,\n",
       "  9: 0.0010061264038085938,\n",
       "  10: 0.0010008811950683594,\n",
       "  11: 0.0010170936584472656,\n",
       "  12: 0.0014829635620117188,\n",
       "  13: 0.001255035400390625,\n",
       "  14: 0.0013298988342285156,\n",
       "  15: 0.0012488365173339844,\n",
       "  16: 0.0010728836059570312,\n",
       "  17: 0.0011892318725585938})"
      ]
     },
     "execution_count": 10,
     "metadata": {},
     "output_type": "execute_result"
    }
   ],
   "source": [
    "metodo_biseccion(2*x + 3*sy.cos(x) - (e**(x)), 1, 2, tolerance=10**(-5))"
   ]
  },
  {
   "cell_type": "code",
   "execution_count": 11,
   "metadata": {},
   "outputs": [
    {
     "name": "stdout",
     "output_type": "stream",
     "text": [
      "Iteration 1: p=1.278356474963378\n",
      "Iteration 2: p=1.2404585015862892\n",
      "Iteration 3: p=1.2397149833006345\n"
     ]
    },
    {
     "data": {
      "text/plain": [
       "(1.2397149833006345,\n",
       " {1: 0.002226114273071289, 2: 0.002089977264404297, 3: 0.0015978813171386719})"
      ]
     },
     "execution_count": 11,
     "metadata": {},
     "output_type": "execute_result"
    }
   ],
   "source": [
    "metodo_newton_raphson(2*x + 3*sy.cos(x) - (e**(x)), 1, tolerance=10**(-5))"
   ]
  },
  {
   "cell_type": "code",
   "execution_count": 12,
   "metadata": {},
   "outputs": [
    {
     "name": "stdout",
     "output_type": "stream",
     "text": [
      "Hay error porque la iteración llegó a la raiz\n",
      "Iteration 1: p0=2, p1=1.1629251374599332\n",
      "Iteration 2: p0=1.1629251374599332, p1=1.216410423288127\n",
      "Iteration 3: p0=1.216410423288127, p1=1.2406842080722849\n",
      "Iteration 4: p0=1.2406842080722849, p1=1.239702913661842\n",
      "Iteration 5: p0=1.239702913661842, p1=1.239714692081511\n",
      "Iteration 6: p0=1.239714692081511, p1=1.2397146979752534\n",
      "Iteration 7: p0=1.2397146979752534, p1=1.2397146979752174\n",
      "Iteration 8: p0=1.2397146979752174, p1=1.2397146979752174\n"
     ]
    },
    {
     "ename": "ZeroDivisionError",
     "evalue": "float division by zero",
     "output_type": "error",
     "traceback": [
      "\u001b[0;31m---------------------------------------------------------------------------\u001b[0m",
      "\u001b[0;31mZeroDivisionError\u001b[0m                         Traceback (most recent call last)",
      "Cell \u001b[0;32mIn[12], line 2\u001b[0m\n\u001b[1;32m      1\u001b[0m \u001b[39mprint\u001b[39m(\u001b[39m\"\u001b[39m\u001b[39mHay error porque la iteración llegó a la raiz\u001b[39m\u001b[39m\"\u001b[39m)\n\u001b[0;32m----> 2\u001b[0m metodo_secante(\u001b[39m2\u001b[39;49m\u001b[39m*\u001b[39;49mx \u001b[39m+\u001b[39;49m \u001b[39m3\u001b[39;49m\u001b[39m*\u001b[39;49msy\u001b[39m.\u001b[39;49mcos(x) \u001b[39m-\u001b[39;49m (e\u001b[39m*\u001b[39;49m\u001b[39m*\u001b[39;49m(x)), \u001b[39m1\u001b[39;49m, \u001b[39m2\u001b[39;49m,tolerance\u001b[39m=\u001b[39;49m\u001b[39m10\u001b[39;49m\u001b[39m*\u001b[39;49m(\u001b[39m-\u001b[39;49m\u001b[39m5\u001b[39;49m),iterMax\u001b[39m=\u001b[39;49m\u001b[39m3000\u001b[39;49m)\n",
      "Cell \u001b[0;32mIn[6], line 49\u001b[0m, in \u001b[0;36mmetodo_secante\u001b[0;34m(fx, p0, p1, tolerance, iterMax)\u001b[0m\n\u001b[1;32m     46\u001b[0m \u001b[39mif\u001b[39;00m \u001b[39mabs\u001b[39m(fp0 \u001b[39m-\u001b[39m fp1) \u001b[39m<\u001b[39m tolerance:\n\u001b[1;32m     47\u001b[0m     \u001b[39mreturn\u001b[39;00m(p1)\n\u001b[0;32m---> 49\u001b[0m psig \u001b[39m=\u001b[39m p1 \u001b[39m-\u001b[39m ((\u001b[39mfloat\u001b[39;49m((fx\u001b[39m.\u001b[39;49msubs(x,p1)))\u001b[39m*\u001b[39;49m(p1 \u001b[39m-\u001b[39;49m p0))\u001b[39m/\u001b[39;49m(\u001b[39mfloat\u001b[39;49m((fx\u001b[39m.\u001b[39;49msubs(x,p1))) \u001b[39m-\u001b[39;49m \u001b[39mfloat\u001b[39;49m(fx\u001b[39m.\u001b[39;49msubs(x,p0))))\n\u001b[1;32m     50\u001b[0m \u001b[39mif\u001b[39;00m \u001b[39mabs\u001b[39m(psig \u001b[39m-\u001b[39m p1) \u001b[39m<\u001b[39m tolerance:\n\u001b[1;32m     51\u001b[0m     \u001b[39mreturn\u001b[39;00m(psig)\n",
      "\u001b[0;31mZeroDivisionError\u001b[0m: float division by zero"
     ]
    }
   ],
   "source": [
    "print(\"Hay error porque la iteración llegó a la raiz\")\n",
    "metodo_secante(2*x + 3*sy.cos(x) - (e**(x)), 1, 2,tolerance=10*(-5),iterMax=3000)"
   ]
  },
  {
   "cell_type": "markdown",
   "metadata": {},
   "source": [
    "(c) $x^2 - 4x + 4 - \\ln x = 0$ para $1 ≤ x ≤ 2$ y para $2 ≤ x ≤ 4$ <br>"
   ]
  },
  {
   "cell_type": "code",
   "execution_count": 13,
   "metadata": {},
   "outputs": [
    {
     "name": "stdout",
     "output_type": "stream",
     "text": [
      "Iteration 1: a=1, b=1.5\n",
      "Iteration 2: a=1.25, b=1.5\n",
      "Iteration 3: a=1.375, b=1.5\n",
      "Iteration 4: a=1.375, b=1.4375\n",
      "Iteration 5: a=1.40625, b=1.4375\n",
      "Iteration 6: a=1.40625, b=1.421875\n",
      "Iteration 7: a=1.40625, b=1.4140625\n",
      "Iteration 8: a=1.41015625, b=1.4140625\n",
      "Iteration 9: a=1.412109375, b=1.4140625\n",
      "Iteration 10: a=1.412109375, b=1.4130859375\n",
      "Iteration 11: a=1.412109375, b=1.41259765625\n",
      "Iteration 12: a=1.412353515625, b=1.41259765625\n",
      "Iteration 13: a=1.412353515625, b=1.4124755859375\n",
      "Iteration 14: a=1.412353515625, b=1.41241455078125\n",
      "Iteration 15: a=1.412384033203125, b=1.41241455078125\n",
      "Iteration 16: a=1.412384033203125, b=1.4123992919921875\n",
      "Iteration 17: a=1.412384033203125, b=1.4123916625976562\n",
      "La raiz es:  1.4123878479003906\n"
     ]
    },
    {
     "data": {
      "text/plain": [
       "(1.4123878479003906,\n",
       " {1: 0.0016639232635498047,\n",
       "  2: 0.0011169910430908203,\n",
       "  3: 0.001310110092163086,\n",
       "  4: 0.0011320114135742188,\n",
       "  5: 0.0011599063873291016,\n",
       "  6: 0.0017290115356445312,\n",
       "  7: 0.001260995864868164,\n",
       "  8: 0.0013828277587890625,\n",
       "  9: 0.0011467933654785156,\n",
       "  10: 0.0011229515075683594,\n",
       "  11: 0.0012738704681396484,\n",
       "  12: 0.0011310577392578125,\n",
       "  13: 0.001116037368774414,\n",
       "  14: 0.0012478828430175781,\n",
       "  15: 0.0011172294616699219,\n",
       "  16: 0.0013358592987060547,\n",
       "  17: 0.0012059211730957031})"
      ]
     },
     "execution_count": 13,
     "metadata": {},
     "output_type": "execute_result"
    }
   ],
   "source": [
    "metodo_biseccion((x**2) - (4*x) + 4 - sy.log(x), 1, 2, tolerance=10**(-5))"
   ]
  },
  {
   "cell_type": "code",
   "execution_count": 14,
   "metadata": {},
   "outputs": [
    {
     "name": "stdout",
     "output_type": "stream",
     "text": [
      "Iteration 1: p=1.3333333333333333\n",
      "Iteration 2: p=1.4085792718898118\n",
      "Iteration 3: p=1.4123815640468995\n"
     ]
    },
    {
     "data": {
      "text/plain": [
       "(1.4123815640468995,\n",
       " {1: 0.0023589134216308594,\n",
       "  2: 0.0019421577453613281,\n",
       "  3: 0.0017087459564208984})"
      ]
     },
     "execution_count": 14,
     "metadata": {},
     "output_type": "execute_result"
    }
   ],
   "source": [
    "metodo_newton_raphson((x**2) - (4*x) + 4 - sy.log(x), 1, tolerance=10**(-5))"
   ]
  },
  {
   "cell_type": "code",
   "execution_count": 15,
   "metadata": {},
   "outputs": [
    {
     "name": "stdout",
     "output_type": "stream",
     "text": [
      "Hay error porque la iteración llegó a la raiz\n",
      "Iteration 1: p0=2, p1=1.5906161091496414\n",
      "Iteration 2: p0=1.5906161091496414, p1=1.2845478495920333\n",
      "Iteration 3: p0=1.2845478495920333, p1=1.4279661100856647\n",
      "Iteration 4: p0=1.4279661100856647, p1=1.413634639574694\n",
      "Iteration 5: p0=1.413634639574694, p1=1.412378186035361\n",
      "Iteration 6: p0=1.412378186035361, p1=1.41239118275496\n",
      "Iteration 7: p0=1.41239118275496, p1=1.412391172023977\n",
      "Iteration 8: p0=1.412391172023977, p1=1.4123911720238846\n",
      "Iteration 9: p0=1.4123911720238846, p1=1.4123911720238846\n"
     ]
    },
    {
     "ename": "ZeroDivisionError",
     "evalue": "float division by zero",
     "output_type": "error",
     "traceback": [
      "\u001b[0;31m---------------------------------------------------------------------------\u001b[0m",
      "\u001b[0;31mZeroDivisionError\u001b[0m                         Traceback (most recent call last)",
      "Cell \u001b[0;32mIn[15], line 2\u001b[0m\n\u001b[1;32m      1\u001b[0m \u001b[39mprint\u001b[39m(\u001b[39m\"\u001b[39m\u001b[39mHay error porque la iteración llegó a la raiz\u001b[39m\u001b[39m\"\u001b[39m)\n\u001b[0;32m----> 2\u001b[0m metodo_secante((x\u001b[39m*\u001b[39;49m\u001b[39m*\u001b[39;49m\u001b[39m2\u001b[39;49m) \u001b[39m-\u001b[39;49m (\u001b[39m4\u001b[39;49m\u001b[39m*\u001b[39;49mx) \u001b[39m+\u001b[39;49m \u001b[39m4\u001b[39;49m \u001b[39m-\u001b[39;49m sy\u001b[39m.\u001b[39;49mlog(x), \u001b[39m1\u001b[39;49m, \u001b[39m2\u001b[39;49m,tolerance\u001b[39m=\u001b[39;49m\u001b[39m10\u001b[39;49m\u001b[39m*\u001b[39;49m(\u001b[39m-\u001b[39;49m\u001b[39m5\u001b[39;49m),iterMax\u001b[39m=\u001b[39;49m\u001b[39m3000\u001b[39;49m)\n",
      "Cell \u001b[0;32mIn[6], line 49\u001b[0m, in \u001b[0;36mmetodo_secante\u001b[0;34m(fx, p0, p1, tolerance, iterMax)\u001b[0m\n\u001b[1;32m     46\u001b[0m \u001b[39mif\u001b[39;00m \u001b[39mabs\u001b[39m(fp0 \u001b[39m-\u001b[39m fp1) \u001b[39m<\u001b[39m tolerance:\n\u001b[1;32m     47\u001b[0m     \u001b[39mreturn\u001b[39;00m(p1)\n\u001b[0;32m---> 49\u001b[0m psig \u001b[39m=\u001b[39m p1 \u001b[39m-\u001b[39m ((\u001b[39mfloat\u001b[39;49m((fx\u001b[39m.\u001b[39;49msubs(x,p1)))\u001b[39m*\u001b[39;49m(p1 \u001b[39m-\u001b[39;49m p0))\u001b[39m/\u001b[39;49m(\u001b[39mfloat\u001b[39;49m((fx\u001b[39m.\u001b[39;49msubs(x,p1))) \u001b[39m-\u001b[39;49m \u001b[39mfloat\u001b[39;49m(fx\u001b[39m.\u001b[39;49msubs(x,p0))))\n\u001b[1;32m     50\u001b[0m \u001b[39mif\u001b[39;00m \u001b[39mabs\u001b[39m(psig \u001b[39m-\u001b[39m p1) \u001b[39m<\u001b[39m tolerance:\n\u001b[1;32m     51\u001b[0m     \u001b[39mreturn\u001b[39;00m(psig)\n",
      "\u001b[0;31mZeroDivisionError\u001b[0m: float division by zero"
     ]
    }
   ],
   "source": [
    "print(\"Hay error porque la iteración llegó a la raiz\")\n",
    "metodo_secante((x**2) - (4*x) + 4 - sy.log(x), 1, 2,tolerance=10*(-5),iterMax=3000)"
   ]
  },
  {
   "cell_type": "code",
   "execution_count": 16,
   "metadata": {},
   "outputs": [
    {
     "name": "stdout",
     "output_type": "stream",
     "text": [
      "La raiz  1.4123911720238846\n"
     ]
    }
   ],
   "source": [
    "print(\"La raiz \", 1.4123911720238846)"
   ]
  },
  {
   "cell_type": "markdown",
   "metadata": {},
   "source": [
    "2. Para cada una de las siguientes ecuaciones, determine un intervalo $[a, b]$ en donde la iteración de punto fijo converja. Encuentre el número de iteraciones necesarias para obtener una aproximación precisa dentro de $1e - 5$, muestre los cálculos <br>\n",
    "(a) $x = \\frac{2-e^x+x^2}{3}$ <br>\n",
    "(b) $x = 6^{-x}$ <br>\n",
    "(c) $x = 0.5 (sin x + cos x)$ <br>\n",
    "(d) $3x^2 - e^x = 0$"
   ]
  },
  {
   "cell_type": "code",
   "execution_count": 17,
   "metadata": {},
   "outputs": [
    {
     "name": "stdout",
     "output_type": "stream",
     "text": [
      "Iteration 1: p0=0.6908866453380181\n",
      "Iteration 2: p0=0.7039510414023608\n",
      "Iteration 3: p0=0.7047627337324931\n",
      "Iteration 4: p0=0.7048091967287526\n"
     ]
    },
    {
     "data": {
      "text/plain": [
       "0.7048118423185814"
      ]
     },
     "execution_count": 17,
     "metadata": {},
     "output_type": "execute_result"
    }
   ],
   "source": [
    "\n",
    "metodo_puntofijo(0.5*(sy.sin(x) + sy.cos(x)),1,tolerance=10**(-5),iterMax=30)"
   ]
  },
  {
   "cell_type": "code",
   "execution_count": 18,
   "metadata": {},
   "outputs": [
    {
     "name": "stdout",
     "output_type": "stream",
     "text": [
      "Iteration 1: p0=0.6908866453380181\n",
      "Iteration 2: p0=0.7039510414023608\n",
      "Iteration 3: p0=0.7047627337324931\n",
      "Iteration 4: p0=0.7048091967287526\n"
     ]
    },
    {
     "data": {
      "text/plain": [
       "0.7048118423185814"
      ]
     },
     "execution_count": 18,
     "metadata": {},
     "output_type": "execute_result"
    }
   ],
   "source": [
    "metodo_puntofijo(0.5*(sy.sin(x) + sy.cos(x)),1,tolerance=10**(-5),iterMax=30)"
   ]
  },
  {
   "cell_type": "code",
   "execution_count": 19,
   "metadata": {},
   "outputs": [
    {
     "name": "stdout",
     "output_type": "stream",
     "text": [
      "Iteration 1: p0=0.2817181715409549\n",
      "Iteration 2: p0=-1.0873097459305199\n",
      "Iteration 3: p0=3.209605231519647\n",
      "Iteration 4: p0=6.135391073661559\n",
      "Iteration 5: p0=-348.99063245026105\n",
      "Iteration 6: p0=365383.3846140996\n",
      "Iteration 7: p0=-inf\n",
      "Iteration 8: p0=inf\n",
      "Iteration 9: p0=nan\n",
      "Iteration 10: p0=nan\n",
      "Iteration 11: p0=nan\n",
      "Iteration 12: p0=nan\n",
      "Iteration 13: p0=nan\n",
      "Iteration 14: p0=nan\n",
      "Iteration 15: p0=nan\n",
      "Iteration 16: p0=nan\n",
      "Iteration 17: p0=nan\n",
      "Iteration 18: p0=nan\n",
      "Iteration 19: p0=nan\n",
      "Iteration 20: p0=nan\n",
      "Iteration 21: p0=nan\n",
      "Iteration 22: p0=nan\n",
      "Iteration 23: p0=nan\n",
      "Iteration 24: p0=nan\n",
      "Iteration 25: p0=nan\n",
      "Iteration 26: p0=nan\n",
      "Iteration 27: p0=nan\n",
      "Iteration 28: p0=nan\n",
      "Iteration 29: p0=nan\n",
      "Iteration 30: p0=nan\n"
     ]
    },
    {
     "data": {
      "text/plain": [
       "nan"
      ]
     },
     "execution_count": 19,
     "metadata": {},
     "output_type": "execute_result"
    }
   ],
   "source": [
    "# Primero toca despejar\n",
    "metodo_puntofijo(3*(x**2) - (e**x),1,tolerance=10**(-5),iterMax=30)"
   ]
  },
  {
   "cell_type": "markdown",
   "metadata": {},
   "source": [
    "3. Utilice el método de iteración de punto fijo para determinar los ceros del polinomio dentro de $1e - 4$ para\n",
    "$$f(x) = x^4 + 2x^2 - x - 3$$"
   ]
  },
  {
   "cell_type": "code",
   "execution_count": 20,
   "metadata": {},
   "outputs": [
    {
     "data": {
      "text/latex": [
       "$\\displaystyle x^{4} + 2 x^{2} - x - 3$"
      ],
      "text/plain": [
       "x**4 + 2*x**2 - x - 3"
      ]
     },
     "execution_count": 20,
     "metadata": {},
     "output_type": "execute_result"
    }
   ],
   "source": [
    "fx_3 = x**4 + 2*x**2 - x - 3\n",
    "fx_3"
   ]
  },
  {
   "cell_type": "markdown",
   "metadata": {},
   "source": [
    "(a) $x = g_1(x) = x^4+2x^2-3$ <br>\n",
    "(b) $x = g_2(x) = \\sqrt[4]{-2x^2+x+3)}$ <br>\n",
    "(c) $x = g_3(x) = \\sqrt[2]{\\frac{x^4-x-3}{2}}$\n"
   ]
  },
  {
   "cell_type": "code",
   "execution_count": 21,
   "metadata": {},
   "outputs": [
    {
     "data": {
      "text/latex": [
       "$\\displaystyle x^{4} + 2 x^{2} - 3$"
      ],
      "text/plain": [
       "x**4 + 2*x**2 - 3"
      ]
     },
     "execution_count": 21,
     "metadata": {},
     "output_type": "execute_result"
    }
   ],
   "source": [
    "g1x = x**4 + 2*x**2 - 3\n",
    "g1x"
   ]
  },
  {
   "cell_type": "code",
   "execution_count": 22,
   "metadata": {},
   "outputs": [
    {
     "name": "stdout",
     "output_type": "stream",
     "text": [
      "Iteration 1: p0=-2.4375\n",
      "Iteration 2: p0=44.18312072753906\n",
      "Iteration 3: p0=3814783.7240686473\n",
      "Iteration 4: p0=2.11777435097235e+26\n",
      "Iteration 5: p0=2.0114939769689267e+105\n",
      "Iteration 6: p0=inf\n",
      "Iteration 7: p0=inf\n",
      "Iteration 8: p0=inf\n",
      "Iteration 9: p0=inf\n",
      "Iteration 10: p0=inf\n"
     ]
    },
    {
     "data": {
      "text/plain": [
       "inf"
      ]
     },
     "execution_count": 22,
     "metadata": {},
     "output_type": "execute_result"
    }
   ],
   "source": [
    "metodo_puntofijo(g1x, 1/2, 10**(-4),iterMax=10)"
   ]
  },
  {
   "cell_type": "code",
   "execution_count": 23,
   "metadata": {},
   "outputs": [
    {
     "data": {
      "text/latex": [
       "$\\displaystyle \\left(- 2 x^{2} + x + 3\\right)^{0.25}$"
      ],
      "text/plain": [
       "(-2*x**2 + x + 3)**0.25"
      ]
     },
     "execution_count": 23,
     "metadata": {},
     "output_type": "execute_result"
    }
   ],
   "source": [
    "g2x = (-2*x**2+x+3)**(1/4)\n",
    "g2x"
   ]
  },
  {
   "cell_type": "code",
   "execution_count": 24,
   "metadata": {},
   "outputs": [
    {
     "name": "stdout",
     "output_type": "stream",
     "text": [
      "Iteration 1: p0=1.189207115002721\n",
      "Iteration 2: p0=1.0800577526675623\n",
      "Iteration 3: p0=1.1496714305893827\n",
      "Iteration 4: p0=1.1078205295102599\n",
      "Iteration 5: p0=1.1339322845047308\n",
      "Iteration 6: p0=1.118003117715782\n",
      "Iteration 7: p0=1.127857163488397\n",
      "Iteration 8: p0=1.1218131660011292\n",
      "Iteration 9: p0=1.1255398742447804\n",
      "Iteration 10: p0=1.1232494322779185\n",
      "Iteration 11: p0=1.124659955364435\n",
      "Iteration 12: p0=1.1237923784547346\n",
      "Iteration 13: p0=1.124326406401652\n",
      "Iteration 14: p0=1.1239978438424163\n",
      "Iteration 15: p0=1.1242000509567949\n",
      "Iteration 16: p0=1.1240756286277038\n"
     ]
    },
    {
     "data": {
      "text/plain": [
       "1.1241521966232515"
      ]
     },
     "execution_count": 24,
     "metadata": {},
     "output_type": "execute_result"
    }
   ],
   "source": [
    "metodo_puntofijo(g2x, 1, 10**(-4))"
   ]
  },
  {
   "cell_type": "code",
   "execution_count": 25,
   "metadata": {},
   "outputs": [
    {
     "data": {
      "text/latex": [
       "$\\displaystyle \\frac{0.25 - 1.0 x}{\\left(- 2 x^{2} + x + 3\\right)^{0.75}}$"
      ],
      "text/plain": [
       "(0.25 - 1.0*x)/(-2*x**2 + x + 3)**0.75"
      ]
     },
     "execution_count": 25,
     "metadata": {},
     "output_type": "execute_result"
    }
   ],
   "source": [
    "derivada_g2x = g2x.diff(x)\n",
    "derivada_g2x"
   ]
  },
  {
   "cell_type": "code",
   "execution_count": 26,
   "metadata": {},
   "outputs": [
    {
     "name": "stdout",
     "output_type": "stream",
     "text": [
      "0\n",
      "1.18920711500272\n"
     ]
    }
   ],
   "source": [
    "print(g2x.subs(x,-1))\n",
    "print(g2x.subs(x,1))"
   ]
  },
  {
   "cell_type": "code",
   "execution_count": 27,
   "metadata": {},
   "outputs": [
    {
     "data": {
      "text/latex": [
       "$\\displaystyle 0.44595266812602$"
      ],
      "text/plain": [
       "0.445952668126020"
      ]
     },
     "execution_count": 27,
     "metadata": {},
     "output_type": "execute_result"
    }
   ],
   "source": [
    "### diferentes\n",
    "abs(derivada_g2x.subs(x,1)) # > 0\n",
    "\n",
    "### no garantiza un único punto fijo"
   ]
  },
  {
   "cell_type": "code",
   "execution_count": 28,
   "metadata": {},
   "outputs": [
    {
     "data": {
      "text/latex": [
       "$\\displaystyle \\frac{\\left(- 12 x^{2} - 4\\right) \\left(3 x^{4} + 2 x^{2} + 3\\right)}{\\left(4 x^{3} + 4 x - 1\\right)^{2}} + \\frac{12 x^{3} + 4 x}{4 x^{3} + 4 x - 1}$"
      ],
      "text/plain": [
       "(-12*x**2 - 4)*(3*x**4 + 2*x**2 + 3)/(4*x**3 + 4*x - 1)**2 + (12*x**3 + 4*x)/(4*x**3 + 4*x - 1)"
      ]
     },
     "execution_count": 28,
     "metadata": {},
     "output_type": "execute_result"
    }
   ],
   "source": [
    "g4x = (3*x**4 + 2*x**2 + 3)/(4*x**3 + 4*x - 1)\n",
    "g4x\n",
    "derivada_g4x = g4x.diff(x)\n",
    "derivada_g4x\n"
   ]
  },
  {
   "cell_type": "markdown",
   "metadata": {},
   "source": [
    "$$\n",
    "    \\begin{align}\n",
    "    p &= \\frac{3p^4 + 2p^2 + 3}{4p^3 + 4p − 1} &\\\n",
    "    0 &= \\frac{3p^4 + 2p^2 + 3}{4p^3 + 4p − 1} - p &\\\n",
    "    0 &= \\frac{3p^4 + 2p^2 + 3 - 4p^4 - 4p^2 + p}{4p^3 + 4p − 1} &\\\n",
    "    0 &= \\frac{-p^4 - 2p^2 + p + 3}{4p^3 + 4p − 1}\n",
    "\n",
    "\n",
    "    \\end{align}\n",
    "\n",
    "$$"
   ]
  },
  {
   "cell_type": "code",
   "execution_count": 34,
   "metadata": {},
   "outputs": [
    {
     "name": "stdout",
     "output_type": "stream",
     "text": [
      "Iteration 1: p0=-0.8888888888888888\n",
      "Iteration 2: p0=-0.8762028931520459\n",
      "Iteration 3: p0=-0.8760531364118812\n",
      "Iteration 4: p0=-0.8760531158171144\n",
      "Iteration 5: p0=-0.8760531158171141\n",
      "Iteration 6: p0=-0.8760531158171142\n",
      "Iteration 7: p0=-0.8760531158171141\n",
      "Iteration 8: p0=-0.8760531158171142\n",
      "Iteration 9: p0=-0.8760531158171141\n",
      "Iteration 10: p0=-0.8760531158171142\n",
      "Iteration 11: p0=-0.8760531158171141\n",
      "Iteration 12: p0=-0.8760531158171142\n",
      "Iteration 13: p0=-0.8760531158171141\n",
      "Iteration 14: p0=-0.8760531158171142\n",
      "Iteration 15: p0=-0.8760531158171141\n",
      "Iteration 16: p0=-0.8760531158171142\n",
      "Iteration 17: p0=-0.8760531158171141\n",
      "Iteration 18: p0=-0.8760531158171142\n",
      "Iteration 19: p0=-0.8760531158171141\n",
      "Iteration 20: p0=-0.8760531158171142\n",
      "Iteration 21: p0=-0.8760531158171141\n",
      "Iteration 22: p0=-0.8760531158171142\n",
      "Iteration 23: p0=-0.8760531158171141\n",
      "Iteration 24: p0=-0.8760531158171142\n",
      "Iteration 25: p0=-0.8760531158171141\n",
      "Iteration 26: p0=-0.8760531158171142\n",
      "Iteration 27: p0=-0.8760531158171141\n",
      "Iteration 28: p0=-0.8760531158171142\n",
      "Iteration 29: p0=-0.8760531158171141\n",
      "Iteration 30: p0=-0.8760531158171142\n",
      "Iteration 1: p0=1.1428571428571428\n",
      "Iteration 2: p0=1.1244816900178953\n",
      "Iteration 3: p0=1.1241231639401488\n",
      "Iteration 4: p0=1.124123029704334\n",
      "Iteration 5: p0=1.1241230297043152\n",
      "Iteration 6: p0=1.1241230297043154\n",
      "Iteration 7: p0=1.1241230297043154\n",
      "Iteration 8: p0=1.1241230297043154\n",
      "Iteration 9: p0=1.1241230297043154\n",
      "Iteration 10: p0=1.1241230297043154\n",
      "Iteration 11: p0=1.1241230297043154\n",
      "Iteration 12: p0=1.1241230297043154\n",
      "Iteration 13: p0=1.1241230297043154\n",
      "Iteration 14: p0=1.1241230297043154\n",
      "Iteration 15: p0=1.1241230297043154\n",
      "Iteration 16: p0=1.1241230297043154\n",
      "Iteration 17: p0=1.1241230297043154\n",
      "Iteration 18: p0=1.1241230297043154\n",
      "Iteration 19: p0=1.1241230297043154\n",
      "Iteration 20: p0=1.1241230297043154\n",
      "Iteration 21: p0=1.1241230297043154\n",
      "Iteration 22: p0=1.1241230297043154\n",
      "Iteration 23: p0=1.1241230297043154\n",
      "Iteration 24: p0=1.1241230297043154\n",
      "Iteration 25: p0=1.1241230297043154\n",
      "Iteration 26: p0=1.1241230297043154\n",
      "Iteration 27: p0=1.1241230297043154\n",
      "Iteration 28: p0=1.1241230297043154\n",
      "Iteration 29: p0=1.1241230297043154\n",
      "Iteration 30: p0=1.1241230297043154\n"
     ]
    },
    {
     "data": {
      "text/plain": [
       "1.1241230297043154"
      ]
     },
     "execution_count": 34,
     "metadata": {},
     "output_type": "execute_result"
    }
   ],
   "source": [
    "sy.solve((-x**4 - 2*x**2 + x +3)/(4*x**3 + 4*x - 1),x)\n",
    "metodo_puntofijo(g4x, -1, 10*(-4))\n",
    "metodo_puntofijo(g4x, 1, 10*(-4))"
   ]
  },
  {
   "cell_type": "code",
   "execution_count": null,
   "metadata": {},
   "outputs": [],
   "source": []
  }
 ],
 "metadata": {
  "kernelspec": {
   "display_name": "Python 3.9.13",
   "language": "python",
   "name": "python3"
  },
  "language_info": {
   "codemirror_mode": {
    "name": "ipython",
    "version": 3
   },
   "file_extension": ".py",
   "mimetype": "text/x-python",
   "name": "python",
   "nbconvert_exporter": "python",
   "pygments_lexer": "ipython3",
   "version": "3.9.13"
  },
  "vscode": {
   "interpreter": {
    "hash": "40d3a090f54c6569ab1632332b64b2c03c39dcf918b08424e98f38b5ae0af88f"
   }
  }
 },
 "nbformat": 4,
 "nbformat_minor": 2
}
