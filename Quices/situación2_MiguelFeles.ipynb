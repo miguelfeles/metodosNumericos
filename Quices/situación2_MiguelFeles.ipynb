{
 "cells": [
  {
   "cell_type": "markdown",
   "metadata": {},
   "source": [
    "Ejercicios Sección 2 - Métodos Numéricos"
   ]
  },
  {
   "cell_type": "code",
   "execution_count": 1,
   "metadata": {},
   "outputs": [],
   "source": [
    "# Importaciones \n",
    "\n",
    "import sympy as sy\n",
    "from math import *\n",
    "from IPython.display import IFrame\n",
    "import matplotlib.pyplot as plt\n",
    "import time\n",
    "\n",
    "x = sy.Symbol('x')"
   ]
  },
  {
   "cell_type": "code",
   "execution_count": 2,
   "metadata": {},
   "outputs": [],
   "source": [
    "def metodo_biseccion(f, a, b, tolerance=10*(-5)):\n",
    "    counter = 0\n",
    "    tiempo = dict()\n",
    "    while abs(b - a) > tolerance:\n",
    "        inicio = time.time()\n",
    "        c = (b + a)/2\n",
    "        print(f.subs(x,a) * f.subs(x,c))\n",
    "        if (f.subs(x,a) * f.subs(x,c)) < 0:\n",
    "            b = c\n",
    "        else:\n",
    "            a = c \n",
    "\n",
    "        counter += 1\n",
    "        print(f\"Iteration {counter}: a={a}, b={b}\")\n",
    "        final = time.time()\n",
    "        tiempo[counter] = final-inicio\n",
    "\n",
    "    Root = (b + a)/2\n",
    "    print(\"La raiz es: \", Root)\n",
    "    return Root, tiempo\n",
    "\n",
    "def metodo_newton_raphson(fx, p0, tolerance=10**(-5)):\n",
    "    diff = fx.diff(x)\n",
    "    delta = float(fx.subs(x,p0)/diff.subs(x,p0))\n",
    "    counter =  0\n",
    "    tiempo = dict()\n",
    "    while abs(delta) > tolerance:\n",
    "        inicio = time.time()\n",
    "        p0 = p0 - delta\n",
    "        delta =  float(fx.subs(x,p0)/diff.subs(x,p0))\n",
    "        counter += 1\n",
    "        print(f\"Iteration {counter}: p={p0}\")\n",
    "        final = time.time()\n",
    "        tiempo[counter] = final-inicio\n",
    "    return p0, tiempo\n",
    "\n",
    "def metodo_secante(fx, p0, p1,tolerance=10*(-5),iterMax=30):\n",
    "    counter =  0\n",
    "    tiempo = dict()\n",
    "    while counter < iterMax:\n",
    "        inicio = time.time()\n",
    "        counter += 1\n",
    "        fp0 = float(fx.subs(x,p0))\n",
    "        fp1 = float((fx.subs(x,p1)))\n",
    "        if abs(fp1) < tolerance:\n",
    "            return(p1)\n",
    "        if abs(fp0 - fp1) < tolerance:\n",
    "            return(p1)\n",
    "\n",
    "        psig = p1 - ((float((fx.subs(x,p1)))*(p1 - p0))/(float((fx.subs(x,p1))) - float(fx.subs(x,p0))))\n",
    "        if abs(psig - p1) < tolerance:\n",
    "            return(psig)\n",
    "        p0 = p1\n",
    "        p1 = psig\n",
    "        print(f\"Iteration {counter}: p0={p0}, p1={p1}\")\n",
    "        final = time.time()\n",
    "        tiempo[counter] = final-inicio\n",
    "    return p1, tiempo\n",
    "\n",
    "def metodo_puntofijo(f,p0,tolerance=10**(-5),iterMax=30):\n",
    "    counter = 0\n",
    "    while counter < iterMax:\n",
    "        p = float(f.subs(x,p0))\n",
    "        if abs(p-p0) < tolerance:\n",
    "            return p\n",
    "        counter += 1\n",
    "        p0 = p\n",
    "        print(f\"Iteration {counter}: p0={p0}\")\n",
    "    return p0\n"
   ]
  },
  {
   "cell_type": "markdown",
   "metadata": {},
   "source": [
    "### Método de Netwon Raphson"
   ]
  },
  {
   "cell_type": "code",
   "execution_count": 6,
   "metadata": {},
   "outputs": [
    {
     "name": "stdout",
     "output_type": "stream",
     "text": [
      "Iteration 1: p=0.24265615063445026\n",
      "Iteration 2: p=0.22062040112351955\n",
      "Iteration 3: p=0.22038782133121965\n"
     ]
    },
    {
     "data": {
      "text/plain": [
       "(0.22038782133121965,\n",
       " {1: 0.0018160343170166016, 2: 0.001806020736694336, 3: 0.0016710758209228516})"
      ]
     },
     "execution_count": 6,
     "metadata": {},
     "output_type": "execute_result"
    }
   ],
   "source": [
    "#Método de Netwon Raphson\n",
    "metodo_newton_raphson(2000000*(e**x) + ((900000/x)*((e**x)-1)) - 3500000, 0.01, tolerance=10**(-4)) ## Así se encuentra la raiz"
   ]
  },
  {
   "cell_type": "code",
   "execution_count": 9,
   "metadata": {},
   "outputs": [
    {
     "data": {
      "text/plain": [
       "5369840.196189624"
      ]
     },
     "execution_count": 9,
     "metadata": {},
     "output_type": "execute_result"
    }
   ],
   "source": [
    "3500000*(e**0.22038782133121965) + ((900000/0.22038782133121965)*((e**0.22038782133121965)-1)) #Apróximación Población Segundo Año"
   ]
  },
  {
   "cell_type": "markdown",
   "metadata": {},
   "source": [
    "### Método de Bisección"
   ]
  },
  {
   "cell_type": "code",
   "execution_count": 10,
   "metadata": {},
   "outputs": [
    {
     "name": "stdout",
     "output_type": "stream",
     "text": [
      "-566659682702.655\n",
      "Iteration 1: a=0.01, b=0.505\n",
      "-65524382579.4716\n",
      "Iteration 2: a=0.01, b=0.2575\n",
      "144319667990.307\n",
      "Iteration 3: a=0.13375, b=0.2575\n",
      "18509404112.0367\n",
      "Iteration 4: a=0.195625, b=0.2575\n",
      "-1377846775.68383\n",
      "Iteration 5: a=0.195625, b=0.2265625\n",
      "2058819372.64178\n",
      "Iteration 6: a=0.21109375, b=0.2265625\n",
      "131098847.133929\n",
      "Iteration 7: a=0.21882812499999998, b=0.2265625\n",
      "-32727785.0146661\n",
      "Iteration 8: a=0.21882812499999998, b=0.2226953125\n",
      "-5298552.97158729\n",
      "Iteration 9: a=0.21882812499999998, b=0.22076171875\n",
      "8397291.36916560\n",
      "Iteration 10: a=0.219794921875, b=0.22076171875\n",
      "589821.314479348\n",
      "Iteration 11: a=0.2202783203125, b=0.22076171875\n",
      "-131587.995757437\n",
      "Iteration 12: a=0.2202783203125, b=0.22052001953125\n",
      "-11318.8026096087\n",
      "Iteration 13: a=0.2202783203125, b=0.220399169921875\n",
      "48810.6468430453\n",
      "Iteration 14: a=0.22033874511718748, b=0.220399169921875\n",
      "La raiz es:  0.22036895751953123\n"
     ]
    },
    {
     "data": {
      "text/plain": [
       "0.22036895751953123"
      ]
     },
     "execution_count": 10,
     "metadata": {},
     "output_type": "execute_result"
    }
   ],
   "source": [
    "# Método de bisección\n",
    "metodo_biseccion(2000000*(e**x) + ((900000/x)*((e**x)-1)) - 3500000, 0.01, 1, tolerance=10**(-4))[0] ## Así se encuentra la raiz"
   ]
  },
  {
   "cell_type": "code",
   "execution_count": 11,
   "metadata": {},
   "outputs": [
    {
     "data": {
      "text/plain": [
       "5369748.049623576"
      ]
     },
     "execution_count": 11,
     "metadata": {},
     "output_type": "execute_result"
    }
   ],
   "source": [
    "3500000*(e**0.22036895751953123) + ((900000/0.22036895751953123)*((e**0.22036895751953123)-1))"
   ]
  },
  {
   "cell_type": "code",
   "execution_count": null,
   "metadata": {},
   "outputs": [],
   "source": []
  }
 ],
 "metadata": {
  "kernelspec": {
   "display_name": "Python 3.9.13",
   "language": "python",
   "name": "python3"
  },
  "language_info": {
   "codemirror_mode": {
    "name": "ipython",
    "version": 3
   },
   "file_extension": ".py",
   "mimetype": "text/x-python",
   "name": "python",
   "nbconvert_exporter": "python",
   "pygments_lexer": "ipython3",
   "version": "3.9.13"
  },
  "vscode": {
   "interpreter": {
    "hash": "40d3a090f54c6569ab1632332b64b2c03c39dcf918b08424e98f38b5ae0af88f"
   }
  }
 },
 "nbformat": 4,
 "nbformat_minor": 2
}
