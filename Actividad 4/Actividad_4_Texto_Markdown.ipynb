{
 "cells": [
  {
   "cell_type": "markdown",
   "id": "4e819ae4",
   "metadata": {},
   "source": [
    "\n",
    "# Actividad 4: Métodos Numéricos\n",
    "\n",
    "## Universidad Externado de Colombia\n",
    "### Ciencia de Datos\n",
    "\n",
    "Esta actividad se centra en la aplicación de métodos numéricos para la resolución de ecuaciones no lineales. Se explorarán varios métodos como bisección, secante y Newton-Raphson a través de diferentes ejercicios.\n"
   ]
  },
  {
   "cell_type": "code",
   "execution_count": 10,
   "id": "5ffbe626",
   "metadata": {},
   "outputs": [],
   "source": [
    "import numpy as np\n",
    "import math\n",
    "import plotly.express as px\n",
    "import time"
   ]
  },
  {
   "cell_type": "markdown",
   "id": "698f4a6e",
   "metadata": {},
   "source": [
    "### Carga de librerías"
   ]
  },
  {
   "cell_type": "code",
   "execution_count": 3,
   "id": "2facffdf",
   "metadata": {},
   "outputs": [],
   "source": [
    "def biseccion(a, b, tol, max_iter, funcion):\n",
    "    \"\"\"\n",
    "    Cálcula el método de la bisección dados dos puntos en una función.\n",
    "    \"\"\"\n",
    "    if funcion(a) * funcion(b) > 0:\n",
    "        print(\"La función no cambia de signo en el intervalo dado.\")\n",
    "        return None\n",
    "\n",
    "    iteracion = 0\n",
    "    raices = []\n",
    "    while (b - a) / 2 > tol:\n",
    "        midpoint = (a + b) / 2\n",
    "        raices.append(midpoint)\n",
    "\n",
    "        if funcion(midpoint) == 0:return midpoint, raices\n",
    "        elif funcion(a) * funcion(midpoint) < 0: b = midpoint\n",
    "        else: a = midpoint\n",
    "\n",
    "        #print(f\"Iteración {iteracion + 1}: Raíz aproximada = {midpoint}\")\n",
    "        iteracion += 1\n",
    "        if iteracion >= max_iter:\n",
    "            print(\"Se alcanzó el número máximo de iteraciones.\")\n",
    "            break\n",
    "\n",
    "    return (a + b) / 2, [\"Iteración \" + str(i) + \" \" + str(raices[i]) for i in range(len(raices))]"
   ]
  },
  {
   "cell_type": "code",
   "execution_count": 4,
   "id": "214a49a1",
   "metadata": {},
   "outputs": [],
   "source": [
    "def secante(x0, x1, tol, max_iter, funcion):\n",
    "    \"\"\"\n",
    "    calcula el método de la secante para dos elemetnos de una función.\n",
    "    \"\"\"\n",
    "    iter_count = 0\n",
    "    while iter_count < max_iter:\n",
    "        x_next = x1 - funcion(x1) * (x1 - x0) / (funcion(x1) - funcion(x0))\n",
    "        print(abs(x_next - x1))\n",
    "        if abs(x_next - x1) < tol:\n",
    "            return x_next\n",
    "        x0, x1 = x1, x_next\n",
    "        iter_count += 1\n",
    "    print(\"El método de la secante no converge.\")\n",
    "    return None"
   ]
  },
  {
   "cell_type": "markdown",
   "id": "f311473b",
   "metadata": {},
   "source": [
    "\n",
    "## Ejercicio 1\n",
    "\n",
    "De acuerdo con el método de bisección, encuentre soluciones precisas dentro de $10^{-5}$ para las siguientes funciones:\n",
    "\n",
    "- $x - 2^{-x} = 0$ para $[0, 1]$\n",
    "- $e^x - x^2 + 3x - 2 = 0$ para $[0, 1]$\n",
    "- $x \\cos(x) - 2x^2 + 3x - 1 = 0$ para $[0.2, 0.3]$ y $[1.2, 1.3]$\n",
    "\n",
    "Realice un esbozo de la gráfica junto con la iteración del método aplicado.\n"
   ]
  },
  {
   "cell_type": "code",
   "execution_count": 6,
   "id": "286e486a",
   "metadata": {},
   "outputs": [
    {
     "data": {
      "text/plain": [
       "(1.5121383666992188,\n",
       " ['Iteración 0 1.5',\n",
       "  'Iteración 1 1.75',\n",
       "  'Iteración 2 1.625',\n",
       "  'Iteración 3 1.5625',\n",
       "  'Iteración 4 1.53125',\n",
       "  'Iteración 5 1.515625',\n",
       "  'Iteración 6 1.5078125',\n",
       "  'Iteración 7 1.51171875',\n",
       "  'Iteración 8 1.513671875',\n",
       "  'Iteración 9 1.5126953125',\n",
       "  'Iteración 10 1.51220703125',\n",
       "  'Iteración 11 1.511962890625',\n",
       "  'Iteración 12 1.5120849609375',\n",
       "  'Iteración 13 1.51214599609375',\n",
       "  'Iteración 14 1.512115478515625',\n",
       "  'Iteración 15 1.5121307373046875'])"
      ]
     },
     "execution_count": 6,
     "metadata": {},
     "output_type": "execute_result"
    }
   ],
   "source": [
    "biseccion(1, 2, 0.00001, 1000, lambda x: 3*x - (math.e ** x))"
   ]
  },
  {
   "cell_type": "code",
   "execution_count": 7,
   "id": "4347ce88",
   "metadata": {},
   "outputs": [
    {
     "data": {
      "text/plain": [
       "(1.2397079467773438,\n",
       " ['Iteración 0 1.5',\n",
       "  'Iteración 1 1.25',\n",
       "  'Iteración 2 1.125',\n",
       "  'Iteración 3 1.1875',\n",
       "  'Iteración 4 1.21875',\n",
       "  'Iteración 5 1.234375',\n",
       "  'Iteración 6 1.2421875',\n",
       "  'Iteración 7 1.23828125',\n",
       "  'Iteración 8 1.240234375',\n",
       "  'Iteración 9 1.2392578125',\n",
       "  'Iteración 10 1.23974609375',\n",
       "  'Iteración 11 1.239501953125',\n",
       "  'Iteración 12 1.2396240234375',\n",
       "  'Iteración 13 1.23968505859375',\n",
       "  'Iteración 14 1.239715576171875',\n",
       "  'Iteración 15 1.2397003173828125'])"
      ]
     },
     "execution_count": 7,
     "metadata": {},
     "output_type": "execute_result"
    }
   ],
   "source": [
    "biseccion(1, 2, 0.00001, 1000, lambda x: (2*x) + (3*math.cos(x)) - (math.e ** x))"
   ]
  },
  {
   "cell_type": "code",
   "execution_count": 29,
   "id": "6595d7b0",
   "metadata": {},
   "outputs": [
    {
     "data": {
      "text/plain": [
       "(0.25753116607666016,\n",
       " ['Iteración 0 0.5',\n",
       "  'Iteración 1 0.25',\n",
       "  'Iteración 2 0.375',\n",
       "  'Iteración 3 0.3125',\n",
       "  'Iteración 4 0.28125',\n",
       "  'Iteración 5 0.265625',\n",
       "  'Iteración 6 0.2578125',\n",
       "  'Iteración 7 0.25390625',\n",
       "  'Iteración 8 0.255859375',\n",
       "  'Iteración 9 0.2568359375',\n",
       "  'Iteración 10 0.25732421875',\n",
       "  'Iteración 11 0.257568359375',\n",
       "  'Iteración 12 0.2574462890625',\n",
       "  'Iteración 13 0.25750732421875',\n",
       "  'Iteración 14 0.257537841796875',\n",
       "  'Iteración 15 0.2575225830078125',\n",
       "  'Iteración 16 0.25753021240234375',\n",
       "  'Iteración 17 0.2575340270996094',\n",
       "  'Iteración 18 0.25753211975097656'])"
      ]
     },
     "execution_count": 29,
     "metadata": {},
     "output_type": "execute_result"
    }
   ],
   "source": [
    "biseccion(0, 1, 0.000001, 1000, lambda x:math.e**(x) - x**(2) + (3*x) - 2)"
   ]
  },
  {
   "cell_type": "code",
   "execution_count": 13,
   "id": "db1bc3d6",
   "metadata": {},
   "outputs": [],
   "source": [
    "def tiempoGrafica(x, y, f):\n",
    "    print(time.time())"
   ]
  },
  {
   "cell_type": "code",
   "execution_count": 18,
   "id": "ad8032ea",
   "metadata": {},
   "outputs": [
    {
     "name": "stdout",
     "output_type": "stream",
     "text": [
      "1709667300.4995022\n"
     ]
    }
   ],
   "source": [
    "tiempoGrafica(5, 10, 3)"
   ]
  },
  {
   "cell_type": "code",
   "execution_count": null,
   "id": "14bad42e",
   "metadata": {},
   "outputs": [],
   "source": [
    "1-e5"
   ]
  },
  {
   "cell_type": "code",
   "execution_count": 30,
   "id": "e6c1e5d6",
   "metadata": {},
   "outputs": [
    {
     "data": {
      "text/plain": [
       "(0.29753036499023444,\n",
       " ['Iteración 0 0.25',\n",
       "  'Iteración 1 0.275',\n",
       "  'Iteración 2 0.2875',\n",
       "  'Iteración 3 0.29374999999999996',\n",
       "  'Iteración 4 0.296875',\n",
       "  'Iteración 5 0.2984375',\n",
       "  'Iteración 6 0.29765625',\n",
       "  'Iteración 7 0.297265625',\n",
       "  'Iteración 8 0.2974609375',\n",
       "  'Iteración 9 0.29755859375000004',\n",
       "  'Iteración 10 0.29750976562500003',\n",
       "  'Iteración 11 0.29753417968750007',\n",
       "  'Iteración 12 0.29752197265625',\n",
       "  'Iteración 13 0.29752807617187504',\n",
       "  'Iteración 14 0.29753112792968756',\n",
       "  'Iteración 15 0.29752960205078127'])"
      ]
     },
     "execution_count": 30,
     "metadata": {},
     "output_type": "execute_result"
    }
   ],
   "source": [
    "biseccion(0.2, 0.3, 0.000001, 1000, lambda x:x*math.cos(x) - 2*(x**(2)) + (3*x) - 1)"
   ]
  },
  {
   "cell_type": "code",
   "execution_count": 31,
   "id": "0fbc9f2a",
   "metadata": {},
   "outputs": [
    {
     "data": {
      "text/plain": [
       "(1.2566230773925782,\n",
       " ['Iteración 0 1.25',\n",
       "  'Iteración 1 1.275',\n",
       "  'Iteración 2 1.2625',\n",
       "  'Iteración 3 1.25625',\n",
       "  'Iteración 4 1.259375',\n",
       "  'Iteración 5 1.2578125',\n",
       "  'Iteración 6 1.25703125',\n",
       "  'Iteración 7 1.2566406250000002',\n",
       "  'Iteración 8 1.2564453125000001',\n",
       "  'Iteración 9 1.2565429687500003',\n",
       "  'Iteración 10 1.2565917968750002',\n",
       "  'Iteración 11 1.2566162109375',\n",
       "  'Iteración 12 1.2566284179687501',\n",
       "  'Iteración 13 1.256622314453125',\n",
       "  'Iteración 14 1.2566253662109377',\n",
       "  'Iteración 15 1.2566238403320313'])"
      ]
     },
     "execution_count": 31,
     "metadata": {},
     "output_type": "execute_result"
    }
   ],
   "source": [
    "biseccion(1.2, 1.3, 0.000001, 1000, lambda x:x*math.cos(x) - 2*(x**(2)) + (3*x) - 1)"
   ]
  },
  {
   "cell_type": "markdown",
   "id": "504f8124",
   "metadata": {},
   "source": [
    "\n",
    "## Ejercicio 2\n",
    "\n",
    "Sea $f(x) = -x^3 - \\cos(x)$. Con $p_0 = -1$ y $p_1 = 0$, encuentre $P_4$ utilizando el método de la secante.\n"
   ]
  },
  {
   "cell_type": "code",
   "execution_count": 35,
   "id": "7f382abc",
   "metadata": {},
   "outputs": [
    {
     "name": "stdout",
     "output_type": "stream",
     "text": [
      "0.6850733573260451\n",
      "0.5670031315831837\n",
      "0.44487095040313607\n",
      "0.04057823092647639\n"
     ]
    },
    {
     "data": {
      "text/plain": [
       "-0.8477837694325692"
      ]
     },
     "execution_count": 35,
     "metadata": {},
     "output_type": "execute_result"
    }
   ],
   "source": [
    "secante(-1, 0, 1e-1, 4, lambda x:-x**(3) - math.cos(x))"
   ]
  },
  {
   "cell_type": "code",
   "execution_count": 43,
   "id": "4e734758",
   "metadata": {},
   "outputs": [
    {
     "data": {
      "text/html": [
       "<script src=\"https://cdn.geogebra.org/apps/deployggb.js\"></script>\n",
       "\n",
       "%%html\n",
       "\n",
       "<div id=\"ggb-point\"></div>\n",
       "\n",
       "<script>\n",
       "  var ggbApp = new GGBApplet({\n",
       "      \"height\": 400,\n",
       "      \"showToolBar\": false,\n",
       "      \"showMenuBar\": false,\n",
       "      \"showAlgebraInput\": false,\n",
       "      \"showResetIcon\": true,\n",
       "      \"enableLabelDrags\": false,\n",
       "      \"enableRightClick\": false,\n",
       "      \"enableShiftDragZoom\": true,\n",
       "      \"useBrowserForJS\": false,\n",
       "  }, 'ggb-point');\n",
       "\n",
       "  ggbApp.inject();\n",
       "</script>\n"
      ],
      "text/plain": [
       "<IPython.core.display.HTML object>"
      ]
     },
     "metadata": {},
     "output_type": "display_data"
    }
   ],
   "source": [
    "%%html\n",
    "<script src=\"https://cdn.geogebra.org/apps/deployggb.js\"></script>\n",
    "\n",
    "%%html\n",
    "\n",
    "<div id=\"ggb-point\"></div>\n",
    "\n",
    "<script>\n",
    "  var ggbApp = new GGBApplet({\n",
    "      \"height\": 400,\n",
    "      \"showToolBar\": false,\n",
    "      \"showMenuBar\": false,\n",
    "      \"showAlgebraInput\": false,\n",
    "      \"showResetIcon\": true,\n",
    "      \"enableLabelDrags\": false,\n",
    "      \"enableRightClick\": false,\n",
    "      \"enableShiftDragZoom\": true,\n",
    "      \"useBrowserForJS\": false,\n",
    "  }, 'ggb-point');\n",
    "\n",
    "  ggbApp.inject();\n",
    "</script>"
   ]
  },
  {
   "cell_type": "code",
   "execution_count": 45,
   "id": "f79cc1fa",
   "metadata": {},
   "outputs": [
    {
     "data": {
      "application/javascript": "\n    ggbApplet.evalCommand(\"f(x) = x^2\");\n    ",
      "text/plain": [
       "<IPython.core.display.Javascript object>"
      ]
     },
     "metadata": {},
     "output_type": "display_data"
    }
   ],
   "source": [
    "def run_geogebra_command(command):\n",
    "    display(Javascript(f\"\"\"\n",
    "    ggbApplet.evalCommand(\"{command}\");\n",
    "    \"\"\"))\n",
    "\n",
    "# Trazar la función f(x) = x^2\n",
    "run_geogebra_command(\"f(x) = x^2\")\n"
   ]
  },
  {
   "cell_type": "markdown",
   "id": "1fcaf581",
   "metadata": {},
   "source": [
    "\n",
    "## Ejercicio 3\n",
    "\n",
    "Realice el gráfico para $y = e^x - 2$ y $y = \\cos(e^x - 2)$ y use el método de bisección para encontrar una aproximación dentro de $10^{-5}$ para $e^x - 2 = \\cos(e^x - 2)$ en $[0.5, 1.5]$.\n"
   ]
  },
  {
   "cell_type": "markdown",
   "id": "b643b773",
   "metadata": {},
   "source": [
    "\n",
    "## Ejercicio 4\n",
    "\n",
    "El polinomio de cuarto grado $f(x) = 230x^4 + 18x^3 + 9x^2 - 221x - 9$ tiene dos raíces reales, una en $[-1, 0]$ y otra en $[0, 1]$. Aproxime estos ceros con el método de la secante y de Newton.\n"
   ]
  },
  {
   "cell_type": "markdown",
   "id": "99c23c23",
   "metadata": {},
   "source": [
    "\n",
    "## Ejercicio 5\n",
    "\n",
    "Existen dos soluciones positivas $x_1$ y $x_2$ para la ecuación $4x^2 - e^x - e^{-x} = 0$. A partir del método de Newton, aproxime la solución dentro de 0.00001 de acuerdo con los siguientes valores de $p_0$:\n",
    "\n",
    "- $p_0 = -10$\n",
    "- $p_0 = 3$\n",
    "- $p_0 = 10$\n",
    "- $p_0 = -3$\n"
   ]
  },
  {
   "cell_type": "markdown",
   "id": "7f7cf511",
   "metadata": {},
   "source": [
    "\n",
    "## Ejercicio 6\n",
    "\n",
    "La ecuación de anualidad ordinaria está dada por:\n",
    "\n",
    "\\[A = \f\n",
    "rac{P[1 - (1 + i)^{-n}]}{i}\\]\n",
    "\n",
    "Donde \\(A\\) es la cantidad de la hipoteca, \\(P\\) es la cantidad de cada pago, \\(i\\) es la tasa de interés por periodo para los \\(n\\) periodos de pago. Suponiendo una hipoteca por 540.000.000 COP a 30 años para una vivienda en la Candelaria y que la persona que solicita el préstamo puede realizar pagos de máximo 4.000.000 por mes, ¿cuál es la tasa de interés máxima que la persona puede asumir?\n"
   ]
  },
  {
   "cell_type": "markdown",
   "id": "8108fe3b",
   "metadata": {},
   "source": []
  }
 ],
 "metadata": {
  "kernelspec": {
   "display_name": "Python 3.9.13",
   "language": "python",
   "name": "python3"
  },
  "language_info": {
   "codemirror_mode": {
    "name": "ipython",
    "version": 3
   },
   "file_extension": ".py",
   "mimetype": "text/x-python",
   "name": "python",
   "nbconvert_exporter": "python",
   "pygments_lexer": "ipython3",
   "version": "3.9.13"
  },
  "vscode": {
   "interpreter": {
    "hash": "40d3a090f54c6569ab1632332b64b2c03c39dcf918b08424e98f38b5ae0af88f"
   }
  }
 },
 "nbformat": 4,
 "nbformat_minor": 5
}
