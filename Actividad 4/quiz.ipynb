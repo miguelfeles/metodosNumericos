{
 "cells": [
  {
   "cell_type": "code",
   "execution_count": 16,
   "metadata": {},
   "outputs": [],
   "source": [
    "import sympy as sy\n",
    "from math import *\n",
    "from IPython.display import IFrame\n",
    "import matplotlib.pyplot as plt\n",
    "import time"
   ]
  },
  {
   "cell_type": "code",
   "execution_count": 3,
   "metadata": {},
   "outputs": [],
   "source": [
    "x = sy.Symbol('x')"
   ]
  },
  {
   "cell_type": "code",
   "execution_count": 34,
   "metadata": {},
   "outputs": [],
   "source": [
    "def metodo_biseccion(f, a, b, tolerance=10*(-5)):\n",
    "    counter = 0\n",
    "    tiempo = dict()\n",
    "    while abs(b - a) > tolerance:\n",
    "        inicio = time.time()\n",
    "        c = (b + a)/2\n",
    "        if (f.subs(x,a) * f.subs(x,c)) < 0:\n",
    "            b = c\n",
    "        else:\n",
    "            a = c \n",
    "\n",
    "        counter += 1\n",
    "        print(f\"Iteration {counter}: a={a}, b={b}\")\n",
    "        final = time.time()\n",
    "        tiempo[counter] = final-inicio\n",
    "\n",
    "    Root = (b + a)/2\n",
    "    print(\"La raiz es: \", Root)\n",
    "    return Root, tiempo"
   ]
  },
  {
   "cell_type": "code",
   "execution_count": 38,
   "metadata": {},
   "outputs": [],
   "source": [
    "def metodo_newton_raphson(fx, p0, tolerance=10**(-5)):\n",
    "    diff = fx.diff(x)\n",
    "    delta = float(fx.subs(x,p0)/diff.subs(x,p0))\n",
    "    counter =  0\n",
    "    tiempo = dict()\n",
    "    while abs(delta) > tolerance:\n",
    "        inicio = time.time()\n",
    "        p0 = p0 - delta\n",
    "        delta =  float(fx.subs(x,p0)/diff.subs(x,p0))\n",
    "        counter += 1\n",
    "        print(f\"Iteration {counter}: p={p0}\")\n",
    "        final = time.time()\n",
    "        tiempo[counter] = final-inicio\n",
    "    return p0, tiempo"
   ]
  },
  {
   "cell_type": "code",
   "execution_count": 48,
   "metadata": {},
   "outputs": [],
   "source": [
    "def metodo_secante(fx, p0, p1,tolerance=10*(-5),iterMax=30):\n",
    "    counter =  0\n",
    "    tiempo = dict()\n",
    "    while counter < iterMax:\n",
    "        inicio = time.time()\n",
    "        counter += 1\n",
    "        fp0 = float(fx.subs(x,p0))\n",
    "        fp1 = float((fx.subs(x,p1)))\n",
    "        if abs(fp1) < tolerance:\n",
    "            return(p1)\n",
    "        if abs(fp0 - fp1) < tolerance:\n",
    "            return(p1)\n",
    "\n",
    "        psig = p1 - ((float((fx.subs(x,p1)))*(p1 - p0))/(float((fx.subs(x,p1))) - float(fx.subs(x,p0))))\n",
    "        if abs(psig - p1) < tolerance:\n",
    "            return(psig)\n",
    "        p0 = p1\n",
    "        p1 = psig\n",
    "        print(f\"Iteration {counter}: p0={p0}, p1={p1}\")\n",
    "        final = time.time()\n",
    "        tiempo[counter] = final-inicio\n",
    "    return p1, tiempo\n",
    "\n",
    "\n",
    "def metodo_puntofijo(f,p0,tolerance=10**(-5),iterMax=50):\n",
    "    counter = 0\n",
    "    tiempo = dict()\n",
    "    while counter < iterMax:\n",
    "        inicio = time.time()\n",
    "        p = f.subs(x,p0)\n",
    "        if abs(p-p0) < tolerance:\n",
    "            return p\n",
    "        counter += 1\n",
    "        p0 = p\n",
    "        final = time.time()\n",
    "        tiempo[counter] = final-inicio\n",
    "    return p0, tiempo"
   ]
  },
  {
   "cell_type": "markdown",
   "metadata": {},
   "source": [
    "### Punto a"
   ]
  },
  {
   "cell_type": "code",
   "execution_count": 49,
   "metadata": {},
   "outputs": [
    {
     "name": "stdout",
     "output_type": "stream",
     "text": [
      "Iteration 1: a=1.5, b=2\n",
      "Iteration 2: a=1.5, b=1.75\n",
      "Iteration 3: a=1.5, b=1.625\n",
      "Iteration 4: a=1.5, b=1.5625\n",
      "Iteration 5: a=1.5, b=1.53125\n",
      "Iteration 6: a=1.5, b=1.515625\n",
      "Iteration 7: a=1.5078125, b=1.515625\n",
      "Iteration 8: a=1.51171875, b=1.515625\n",
      "Iteration 9: a=1.51171875, b=1.513671875\n",
      "Iteration 10: a=1.51171875, b=1.5126953125\n",
      "Iteration 11: a=1.51171875, b=1.51220703125\n",
      "Iteration 12: a=1.511962890625, b=1.51220703125\n",
      "Iteration 13: a=1.5120849609375, b=1.51220703125\n",
      "Iteration 14: a=1.5120849609375, b=1.51214599609375\n",
      "Iteration 15: a=1.512115478515625, b=1.51214599609375\n",
      "Iteration 16: a=1.5121307373046875, b=1.51214599609375\n",
      "Iteration 17: a=1.5121307373046875, b=1.5121383666992188\n",
      "La raiz es:  1.5121345520019531\n"
     ]
    },
    {
     "data": {
      "text/plain": [
       "(1.5121345520019531,\n",
       " {1: 0.0003299713134765625,\n",
       "  2: 0.0001418590545654297,\n",
       "  3: 0.00010323524475097656,\n",
       "  4: 9.489059448242188e-05,\n",
       "  5: 9.512901306152344e-05,\n",
       "  6: 8.869171142578125e-05,\n",
       "  7: 8.225440979003906e-05,\n",
       "  8: 7.796287536621094e-05,\n",
       "  9: 0.0001049041748046875,\n",
       "  10: 8.0108642578125e-05,\n",
       "  11: 8.392333984375e-05,\n",
       "  12: 7.987022399902344e-05,\n",
       "  13: 8.487701416015625e-05,\n",
       "  14: 8.130073547363281e-05,\n",
       "  15: 9.083747863769531e-05,\n",
       "  16: 8.20159912109375e-05,\n",
       "  17: 9.107589721679688e-05})"
      ]
     },
     "execution_count": 49,
     "metadata": {},
     "output_type": "execute_result"
    }
   ],
   "source": [
    "metodo_biseccion(3*x - e**x, 1, 2, tolerance=10**(-5))"
   ]
  },
  {
   "cell_type": "code",
   "execution_count": 50,
   "metadata": {},
   "outputs": [
    {
     "name": "stdout",
     "output_type": "stream",
     "text": [
      "Iteration 1: p=0.0\n",
      "Iteration 2: p=0.5\n",
      "Iteration 3: p=0.6100596549589618\n",
      "Iteration 4: p=0.6189967797415397\n",
      "Iteration 5: p=0.6190612833553125\n"
     ]
    },
    {
     "data": {
      "text/plain": [
       "(0.6190612833553125,\n",
       " {1: 0.0007159709930419922,\n",
       "  2: 0.0001506805419921875,\n",
       "  3: 0.00012111663818359375,\n",
       "  4: 0.00011992454528808594,\n",
       "  5: 0.00010776519775390625})"
      ]
     },
     "execution_count": 50,
     "metadata": {},
     "output_type": "execute_result"
    }
   ],
   "source": [
    "metodo_newton_raphson(3*x - e**x, 1, tolerance=10**(-5))"
   ]
  },
  {
   "cell_type": "code",
   "execution_count": 80,
   "metadata": {},
   "outputs": [
    {
     "name": "stdout",
     "output_type": "stream",
     "text": [
      "Hay error porque la iteración llegó a la raiz\n",
      "Iteration 1: p0=2, p1=1.1686153399174835\n",
      "Iteration 2: p0=1.1686153399174835, p1=1.3115165547175736\n",
      "Iteration 3: p0=1.3115165547175736, p1=1.7970430096312464\n",
      "Iteration 4: p0=1.7970430096312464, p1=1.4367778925334906\n",
      "Iteration 5: p0=1.4367778925334906, p1=1.4867662868726115\n",
      "Iteration 6: p0=1.4867662868726115, p1=1.5153257605230899\n",
      "Iteration 7: p0=1.5153257605230899, p1=1.5120119343332992\n",
      "Iteration 8: p0=1.5120119343332992, p1=1.5121339760022818\n",
      "Iteration 9: p0=1.5121339760022818, p1=1.512134551762063\n",
      "Iteration 10: p0=1.512134551762063, p1=1.5121345516578426\n",
      "Iteration 11: p0=1.5121345516578426, p1=1.5121345516578426\n"
     ]
    },
    {
     "ename": "ZeroDivisionError",
     "evalue": "float division by zero",
     "output_type": "error",
     "traceback": [
      "\u001b[0;31m---------------------------------------------------------------------------\u001b[0m",
      "\u001b[0;31mZeroDivisionError\u001b[0m                         Traceback (most recent call last)",
      "Cell \u001b[0;32mIn[80], line 2\u001b[0m\n\u001b[1;32m      1\u001b[0m \u001b[39mprint\u001b[39m(\u001b[39m\"\u001b[39m\u001b[39mHay error porque la iteración llegó a la raiz\u001b[39m\u001b[39m\"\u001b[39m)\n\u001b[0;32m----> 2\u001b[0m metodo_secante(\u001b[39m3\u001b[39;49m\u001b[39m*\u001b[39;49mx \u001b[39m-\u001b[39;49m e\u001b[39m*\u001b[39;49m\u001b[39m*\u001b[39;49mx, \u001b[39m1\u001b[39;49m, \u001b[39m2\u001b[39;49m,tolerance\u001b[39m=\u001b[39;49m\u001b[39m10\u001b[39;49m\u001b[39m*\u001b[39;49m(\u001b[39m-\u001b[39;49m\u001b[39m5\u001b[39;49m),iterMax\u001b[39m=\u001b[39;49m\u001b[39m50\u001b[39;49m)\n",
      "Cell \u001b[0;32mIn[48], line 14\u001b[0m, in \u001b[0;36mmetodo_secante\u001b[0;34m(fx, p0, p1, tolerance, iterMax)\u001b[0m\n\u001b[1;32m     11\u001b[0m \u001b[39mif\u001b[39;00m \u001b[39mabs\u001b[39m(fp0 \u001b[39m-\u001b[39m fp1) \u001b[39m<\u001b[39m tolerance:\n\u001b[1;32m     12\u001b[0m     \u001b[39mreturn\u001b[39;00m(p1)\n\u001b[0;32m---> 14\u001b[0m psig \u001b[39m=\u001b[39m p1 \u001b[39m-\u001b[39m ((\u001b[39mfloat\u001b[39;49m((fx\u001b[39m.\u001b[39;49msubs(x,p1)))\u001b[39m*\u001b[39;49m(p1 \u001b[39m-\u001b[39;49m p0))\u001b[39m/\u001b[39;49m(\u001b[39mfloat\u001b[39;49m((fx\u001b[39m.\u001b[39;49msubs(x,p1))) \u001b[39m-\u001b[39;49m \u001b[39mfloat\u001b[39;49m(fx\u001b[39m.\u001b[39;49msubs(x,p0))))\n\u001b[1;32m     15\u001b[0m \u001b[39mif\u001b[39;00m \u001b[39mabs\u001b[39m(psig \u001b[39m-\u001b[39m p1) \u001b[39m<\u001b[39m tolerance:\n\u001b[1;32m     16\u001b[0m     \u001b[39mreturn\u001b[39;00m(psig)\n",
      "\u001b[0;31mZeroDivisionError\u001b[0m: float division by zero"
     ]
    }
   ],
   "source": [
    "print(\"Hay error porque la iteración llegó a la raiz\")\n",
    "metodo_secante(3*x - e**x, 1, 2,tolerance=10*(-5),iterMax=50)"
   ]
  },
  {
   "cell_type": "markdown",
   "metadata": {},
   "source": [
    "### Punto b"
   ]
  },
  {
   "cell_type": "code",
   "execution_count": 77,
   "metadata": {},
   "outputs": [
    {
     "name": "stdout",
     "output_type": "stream",
     "text": [
      "Iteration 1: a=1, b=1.5\n",
      "Iteration 2: a=1, b=1.25\n",
      "Iteration 3: a=1.125, b=1.25\n",
      "Iteration 4: a=1.1875, b=1.25\n",
      "Iteration 5: a=1.21875, b=1.25\n",
      "Iteration 6: a=1.234375, b=1.25\n",
      "Iteration 7: a=1.234375, b=1.2421875\n",
      "Iteration 8: a=1.23828125, b=1.2421875\n",
      "Iteration 9: a=1.23828125, b=1.240234375\n",
      "Iteration 10: a=1.2392578125, b=1.240234375\n",
      "Iteration 11: a=1.2392578125, b=1.23974609375\n",
      "Iteration 12: a=1.239501953125, b=1.23974609375\n",
      "Iteration 13: a=1.2396240234375, b=1.23974609375\n",
      "Iteration 14: a=1.23968505859375, b=1.23974609375\n",
      "Iteration 15: a=1.23968505859375, b=1.239715576171875\n",
      "Iteration 16: a=1.2397003173828125, b=1.239715576171875\n",
      "Iteration 17: a=1.2397079467773438, b=1.239715576171875\n",
      "La raiz es:  1.2397117614746094\n"
     ]
    },
    {
     "data": {
      "text/plain": [
       "(1.2397117614746094,\n",
       " {1: 0.009458303451538086,\n",
       "  2: 0.0024099349975585938,\n",
       "  3: 0.0022797584533691406,\n",
       "  4: 0.0011658668518066406,\n",
       "  5: 0.0017840862274169922,\n",
       "  6: 0.0011200904846191406,\n",
       "  7: 0.0018911361694335938,\n",
       "  8: 0.00785684585571289,\n",
       "  9: 0.0012128353118896484,\n",
       "  10: 0.0011222362518310547,\n",
       "  11: 0.00150299072265625,\n",
       "  12: 0.0011878013610839844,\n",
       "  13: 0.0011489391326904297,\n",
       "  14: 0.00109100341796875,\n",
       "  15: 0.0010738372802734375,\n",
       "  16: 0.0010230541229248047,\n",
       "  17: 0.003303050994873047})"
      ]
     },
     "execution_count": 77,
     "metadata": {},
     "output_type": "execute_result"
    }
   ],
   "source": [
    "metodo_biseccion(2*x + 3*sy.cos(x) - (e**(x)), 1, 2, tolerance=10**(-5))"
   ]
  },
  {
   "cell_type": "code",
   "execution_count": 78,
   "metadata": {},
   "outputs": [
    {
     "name": "stdout",
     "output_type": "stream",
     "text": [
      "Iteration 1: p=1.278356474963378\n",
      "Iteration 2: p=1.2404585015862892\n",
      "Iteration 3: p=1.2397149833006345\n"
     ]
    },
    {
     "data": {
      "text/plain": [
       "(1.2397149833006345,\n",
       " {1: 0.0019397735595703125, 2: 0.0018422603607177734, 3: 0.002048969268798828})"
      ]
     },
     "execution_count": 78,
     "metadata": {},
     "output_type": "execute_result"
    }
   ],
   "source": [
    "metodo_newton_raphson(2*x + 3*sy.cos(x) - (e**(x)), 1, tolerance=10**(-5))"
   ]
  },
  {
   "cell_type": "code",
   "execution_count": 79,
   "metadata": {},
   "outputs": [
    {
     "name": "stdout",
     "output_type": "stream",
     "text": [
      "Hay error porque la iteración llegó a la raiz\n",
      "Iteration 1: p0=2, p1=1.1629251374599332\n",
      "Iteration 2: p0=1.1629251374599332, p1=1.216410423288127\n",
      "Iteration 3: p0=1.216410423288127, p1=1.2406842080722849\n",
      "Iteration 4: p0=1.2406842080722849, p1=1.239702913661842\n",
      "Iteration 5: p0=1.239702913661842, p1=1.239714692081511\n",
      "Iteration 6: p0=1.239714692081511, p1=1.2397146979752534\n",
      "Iteration 7: p0=1.2397146979752534, p1=1.2397146979752174\n",
      "Iteration 8: p0=1.2397146979752174, p1=1.2397146979752174\n"
     ]
    },
    {
     "ename": "ZeroDivisionError",
     "evalue": "float division by zero",
     "output_type": "error",
     "traceback": [
      "\u001b[0;31m---------------------------------------------------------------------------\u001b[0m",
      "\u001b[0;31mZeroDivisionError\u001b[0m                         Traceback (most recent call last)",
      "Cell \u001b[0;32mIn[79], line 2\u001b[0m\n\u001b[1;32m      1\u001b[0m \u001b[39mprint\u001b[39m(\u001b[39m\"\u001b[39m\u001b[39mHay error porque la iteración llegó a la raiz\u001b[39m\u001b[39m\"\u001b[39m)\n\u001b[0;32m----> 2\u001b[0m metodo_secante(\u001b[39m2\u001b[39;49m\u001b[39m*\u001b[39;49mx \u001b[39m+\u001b[39;49m \u001b[39m3\u001b[39;49m\u001b[39m*\u001b[39;49msy\u001b[39m.\u001b[39;49mcos(x) \u001b[39m-\u001b[39;49m (e\u001b[39m*\u001b[39;49m\u001b[39m*\u001b[39;49m(x)), \u001b[39m1\u001b[39;49m, \u001b[39m2\u001b[39;49m,tolerance\u001b[39m=\u001b[39;49m\u001b[39m10\u001b[39;49m\u001b[39m*\u001b[39;49m(\u001b[39m-\u001b[39;49m\u001b[39m5\u001b[39;49m),iterMax\u001b[39m=\u001b[39;49m\u001b[39m3000\u001b[39;49m)\n",
      "Cell \u001b[0;32mIn[48], line 14\u001b[0m, in \u001b[0;36mmetodo_secante\u001b[0;34m(fx, p0, p1, tolerance, iterMax)\u001b[0m\n\u001b[1;32m     11\u001b[0m \u001b[39mif\u001b[39;00m \u001b[39mabs\u001b[39m(fp0 \u001b[39m-\u001b[39m fp1) \u001b[39m<\u001b[39m tolerance:\n\u001b[1;32m     12\u001b[0m     \u001b[39mreturn\u001b[39;00m(p1)\n\u001b[0;32m---> 14\u001b[0m psig \u001b[39m=\u001b[39m p1 \u001b[39m-\u001b[39m ((\u001b[39mfloat\u001b[39;49m((fx\u001b[39m.\u001b[39;49msubs(x,p1)))\u001b[39m*\u001b[39;49m(p1 \u001b[39m-\u001b[39;49m p0))\u001b[39m/\u001b[39;49m(\u001b[39mfloat\u001b[39;49m((fx\u001b[39m.\u001b[39;49msubs(x,p1))) \u001b[39m-\u001b[39;49m \u001b[39mfloat\u001b[39;49m(fx\u001b[39m.\u001b[39;49msubs(x,p0))))\n\u001b[1;32m     15\u001b[0m \u001b[39mif\u001b[39;00m \u001b[39mabs\u001b[39m(psig \u001b[39m-\u001b[39m p1) \u001b[39m<\u001b[39m tolerance:\n\u001b[1;32m     16\u001b[0m     \u001b[39mreturn\u001b[39;00m(psig)\n",
      "\u001b[0;31mZeroDivisionError\u001b[0m: float division by zero"
     ]
    }
   ],
   "source": [
    "print(\"Hay error porque la iteración llegó a la raiz\")\n",
    "metodo_secante(2*x + 3*sy.cos(x) - (e**(x)), 1, 2,tolerance=10*(-5),iterMax=3000)"
   ]
  },
  {
   "cell_type": "markdown",
   "metadata": {},
   "source": [
    "### Punto c.1"
   ]
  },
  {
   "cell_type": "code",
   "execution_count": 73,
   "metadata": {},
   "outputs": [
    {
     "name": "stdout",
     "output_type": "stream",
     "text": [
      "Iteration 1: a=1, b=1.5\n",
      "Iteration 2: a=1.25, b=1.5\n",
      "Iteration 3: a=1.375, b=1.5\n",
      "Iteration 4: a=1.375, b=1.4375\n",
      "Iteration 5: a=1.40625, b=1.4375\n",
      "Iteration 6: a=1.40625, b=1.421875\n",
      "Iteration 7: a=1.40625, b=1.4140625\n",
      "Iteration 8: a=1.41015625, b=1.4140625\n",
      "Iteration 9: a=1.412109375, b=1.4140625\n",
      "Iteration 10: a=1.412109375, b=1.4130859375\n",
      "Iteration 11: a=1.412109375, b=1.41259765625\n",
      "Iteration 12: a=1.412353515625, b=1.41259765625\n",
      "Iteration 13: a=1.412353515625, b=1.4124755859375\n",
      "Iteration 14: a=1.412353515625, b=1.41241455078125\n",
      "Iteration 15: a=1.412384033203125, b=1.41241455078125\n",
      "Iteration 16: a=1.412384033203125, b=1.4123992919921875\n",
      "Iteration 17: a=1.412384033203125, b=1.4123916625976562\n",
      "La raiz es:  1.4123878479003906\n"
     ]
    },
    {
     "data": {
      "text/plain": [
       "(1.4123878479003906,\n",
       " {1: 0.005530118942260742,\n",
       "  2: 0.0015769004821777344,\n",
       "  3: 0.0013430118560791016,\n",
       "  4: 0.001293182373046875,\n",
       "  5: 0.0033440589904785156,\n",
       "  6: 0.001255035400390625,\n",
       "  7: 0.0011610984802246094,\n",
       "  8: 0.0011630058288574219,\n",
       "  9: 0.0011429786682128906,\n",
       "  10: 0.001119852066040039,\n",
       "  11: 0.0011131763458251953,\n",
       "  12: 0.0013587474822998047,\n",
       "  13: 0.0011012554168701172,\n",
       "  14: 0.0011179447174072266,\n",
       "  15: 0.001505136489868164,\n",
       "  16: 0.001239776611328125,\n",
       "  17: 0.0017223358154296875})"
      ]
     },
     "execution_count": 73,
     "metadata": {},
     "output_type": "execute_result"
    }
   ],
   "source": [
    "metodo_biseccion((x**2) - (4*x) + 4 - sy.log(x), 1, 2, tolerance=10**(-5))"
   ]
  },
  {
   "cell_type": "code",
   "execution_count": 74,
   "metadata": {},
   "outputs": [
    {
     "name": "stdout",
     "output_type": "stream",
     "text": [
      "Iteration 1: p=1.3333333333333333\n",
      "Iteration 2: p=1.4085792718898118\n",
      "Iteration 3: p=1.4123815640468995\n"
     ]
    },
    {
     "data": {
      "text/plain": [
       "(1.4123815640468995,\n",
       " {1: 0.002752065658569336, 2: 0.0018820762634277344, 3: 0.0016951560974121094})"
      ]
     },
     "execution_count": 74,
     "metadata": {},
     "output_type": "execute_result"
    }
   ],
   "source": [
    "metodo_newton_raphson((x**2) - (4*x) + 4 - sy.log(x), 1, tolerance=10**(-5))"
   ]
  },
  {
   "cell_type": "code",
   "execution_count": 75,
   "metadata": {},
   "outputs": [
    {
     "name": "stdout",
     "output_type": "stream",
     "text": [
      "Hay error porque la iteración llegó a la raiz\n",
      "Iteration 1: p0=2, p1=1.5906161091496414\n",
      "Iteration 2: p0=1.5906161091496414, p1=1.2845478495920333\n",
      "Iteration 3: p0=1.2845478495920333, p1=1.4279661100856647\n",
      "Iteration 4: p0=1.4279661100856647, p1=1.413634639574694\n",
      "Iteration 5: p0=1.413634639574694, p1=1.412378186035361\n",
      "Iteration 6: p0=1.412378186035361, p1=1.41239118275496\n",
      "Iteration 7: p0=1.41239118275496, p1=1.412391172023977\n",
      "Iteration 8: p0=1.412391172023977, p1=1.4123911720238846\n",
      "Iteration 9: p0=1.4123911720238846, p1=1.4123911720238846\n"
     ]
    },
    {
     "ename": "ZeroDivisionError",
     "evalue": "float division by zero",
     "output_type": "error",
     "traceback": [
      "\u001b[0;31m---------------------------------------------------------------------------\u001b[0m",
      "\u001b[0;31mZeroDivisionError\u001b[0m                         Traceback (most recent call last)",
      "Cell \u001b[0;32mIn[75], line 2\u001b[0m\n\u001b[1;32m      1\u001b[0m \u001b[39mprint\u001b[39m(\u001b[39m\"\u001b[39m\u001b[39mHay error porque la iteración llegó a la raiz\u001b[39m\u001b[39m\"\u001b[39m)\n\u001b[0;32m----> 2\u001b[0m metodo_secante((x\u001b[39m*\u001b[39;49m\u001b[39m*\u001b[39;49m\u001b[39m2\u001b[39;49m) \u001b[39m-\u001b[39;49m (\u001b[39m4\u001b[39;49m\u001b[39m*\u001b[39;49mx) \u001b[39m+\u001b[39;49m \u001b[39m4\u001b[39;49m \u001b[39m-\u001b[39;49m sy\u001b[39m.\u001b[39;49mlog(x), \u001b[39m1\u001b[39;49m, \u001b[39m2\u001b[39;49m,tolerance\u001b[39m=\u001b[39;49m\u001b[39m10\u001b[39;49m\u001b[39m*\u001b[39;49m(\u001b[39m-\u001b[39;49m\u001b[39m5\u001b[39;49m),iterMax\u001b[39m=\u001b[39;49m\u001b[39m3000\u001b[39;49m)\n",
      "Cell \u001b[0;32mIn[48], line 14\u001b[0m, in \u001b[0;36mmetodo_secante\u001b[0;34m(fx, p0, p1, tolerance, iterMax)\u001b[0m\n\u001b[1;32m     11\u001b[0m \u001b[39mif\u001b[39;00m \u001b[39mabs\u001b[39m(fp0 \u001b[39m-\u001b[39m fp1) \u001b[39m<\u001b[39m tolerance:\n\u001b[1;32m     12\u001b[0m     \u001b[39mreturn\u001b[39;00m(p1)\n\u001b[0;32m---> 14\u001b[0m psig \u001b[39m=\u001b[39m p1 \u001b[39m-\u001b[39m ((\u001b[39mfloat\u001b[39;49m((fx\u001b[39m.\u001b[39;49msubs(x,p1)))\u001b[39m*\u001b[39;49m(p1 \u001b[39m-\u001b[39;49m p0))\u001b[39m/\u001b[39;49m(\u001b[39mfloat\u001b[39;49m((fx\u001b[39m.\u001b[39;49msubs(x,p1))) \u001b[39m-\u001b[39;49m \u001b[39mfloat\u001b[39;49m(fx\u001b[39m.\u001b[39;49msubs(x,p0))))\n\u001b[1;32m     15\u001b[0m \u001b[39mif\u001b[39;00m \u001b[39mabs\u001b[39m(psig \u001b[39m-\u001b[39m p1) \u001b[39m<\u001b[39m tolerance:\n\u001b[1;32m     16\u001b[0m     \u001b[39mreturn\u001b[39;00m(psig)\n",
      "\u001b[0;31mZeroDivisionError\u001b[0m: float division by zero"
     ]
    }
   ],
   "source": [
    "print(\"Hay error porque la iteración llegó a la raiz\")\n",
    "metodo_secante((x**2) - (4*x) + 4 - sy.log(x), 1, 2,tolerance=10*(-5),iterMax=3000)"
   ]
  },
  {
   "cell_type": "markdown",
   "metadata": {},
   "source": []
  },
  {
   "cell_type": "code",
   "execution_count": null,
   "metadata": {},
   "outputs": [],
   "source": []
  }
 ],
 "metadata": {
  "kernelspec": {
   "display_name": "Python 3.9.13",
   "language": "python",
   "name": "python3"
  },
  "language_info": {
   "codemirror_mode": {
    "name": "ipython",
    "version": 3
   },
   "file_extension": ".py",
   "mimetype": "text/x-python",
   "name": "python",
   "nbconvert_exporter": "python",
   "pygments_lexer": "ipython3",
   "version": "3.9.13"
  },
  "orig_nbformat": 4,
  "vscode": {
   "interpreter": {
    "hash": "40d3a090f54c6569ab1632332b64b2c03c39dcf918b08424e98f38b5ae0af88f"
   }
  }
 },
 "nbformat": 4,
 "nbformat_minor": 2
}
