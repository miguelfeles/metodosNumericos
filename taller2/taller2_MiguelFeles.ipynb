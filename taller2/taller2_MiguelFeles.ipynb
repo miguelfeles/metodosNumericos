{
 "cells": [
  {
   "cell_type": "code",
   "execution_count": 1,
   "metadata": {},
   "outputs": [],
   "source": [
    "import math\n",
    "from sympy import symbols, Abs, solve, Interval\n",
    "from sympy import symbols, Abs, solve"
   ]
  },
  {
   "cell_type": "code",
   "execution_count": 2,
   "metadata": {},
   "outputs": [],
   "source": [
    "## punto 1 "
   ]
  },
  {
   "cell_type": "code",
   "execution_count": 3,
   "metadata": {},
   "outputs": [],
   "source": [
    "def errores(a, b):\n",
    "    print(\"Errores\", a, b)\n",
    "    respuesta = abs(a - b)\n",
    "\n",
    "    print(\"Error relativo\", a, b)\n",
    "    respuesta1 = abs((a - b)/a)\n",
    "\n",
    "    return \"Absoluto\", respuesta, \"Relativo\",respuesta1"
   ]
  },
  {
   "cell_type": "code",
   "execution_count": 4,
   "metadata": {},
   "outputs": [
    {
     "name": "stdout",
     "output_type": "stream",
     "text": [
      "Errores 40320 39900\n",
      "Error relativo 40320 39900\n"
     ]
    },
    {
     "data": {
      "text/plain": [
       "('Absoluto', 420, 'Relativo', 0.010416666666666666)"
      ]
     },
     "execution_count": 4,
     "metadata": {},
     "output_type": "execute_result"
    }
   ],
   "source": [
    "errores(math.factorial(8), 39900)"
   ]
  },
  {
   "cell_type": "code",
   "execution_count": 5,
   "metadata": {},
   "outputs": [
    {
     "data": {
      "text/plain": [
       "40320"
      ]
     },
     "execution_count": 5,
     "metadata": {},
     "output_type": "execute_result"
    }
   ],
   "source": [
    "math.factorial(8)"
   ]
  },
  {
   "cell_type": "code",
   "execution_count": 6,
   "metadata": {},
   "outputs": [],
   "source": [
    "## punto 2"
   ]
  },
  {
   "cell_type": "code",
   "execution_count": 7,
   "metadata": {},
   "outputs": [],
   "source": [
    "def desigualdad(valor):\n",
    "    pe = symbols('pe')\n",
    "\n",
    "# Definir la desigualdad\n",
    "    inequality = Abs((valor - pe)/valor) <= 10**(-3)\n",
    "\n",
    "    # Resolver la desigualdad\n",
    "    solution = solve(inequality, pe)\n",
    "\n",
    "\n",
    "    # Imprimir la solución\n",
    "    print(\"La solución es es:\", solution)"
   ]
  },
  {
   "cell_type": "code",
   "execution_count": 8,
   "metadata": {},
   "outputs": [
    {
     "name": "stdout",
     "output_type": "stream",
     "text": [
      "La solución es es: (249.75 <= pe) & (pe <= 250.25)\n"
     ]
    }
   ],
   "source": [
    "desigualdad(250)"
   ]
  },
  {
   "cell_type": "code",
   "execution_count": 9,
   "metadata": {},
   "outputs": [
    {
     "data": {
      "text/plain": [
       "0.001"
      ]
     },
     "execution_count": 9,
     "metadata": {},
     "output_type": "execute_result"
    }
   ],
   "source": [
    "1/1000"
   ]
  },
  {
   "cell_type": "code",
   "execution_count": 10,
   "metadata": {},
   "outputs": [
    {
     "data": {
      "text/plain": [
       "0.001"
      ]
     },
     "execution_count": 10,
     "metadata": {},
     "output_type": "execute_result"
    }
   ],
   "source": [
    "10**-3"
   ]
  },
  {
   "cell_type": "code",
   "execution_count": 11,
   "metadata": {},
   "outputs": [
    {
     "name": "stdout",
     "output_type": "stream",
     "text": [
      "La solución es es: (799.2 <= pe) & (pe <= 800.8)\n"
     ]
    }
   ],
   "source": [
    "desigualdad(800)"
   ]
  },
  {
   "cell_type": "code",
   "execution_count": 12,
   "metadata": {},
   "outputs": [
    {
     "name": "stdout",
     "output_type": "stream",
     "text": [
      "La solución es es: (159.84 <= pe) & (pe <= 160.16)\n"
     ]
    }
   ],
   "source": [
    "desigualdad(160)"
   ]
  },
  {
   "cell_type": "code",
   "execution_count": 13,
   "metadata": {},
   "outputs": [],
   "source": [
    "# Parte 3"
   ]
  },
  {
   "cell_type": "code",
   "execution_count": 14,
   "metadata": {},
   "outputs": [],
   "source": [
    "def desigualdad(valor):\n",
    "    pe = symbols('pe')\n",
    "\n",
    "# Definir la desigualdad\n",
    "    inequality = Abs((valor - pe)/valor) <= 10**(-4)\n",
    "\n",
    "    # Resolver la desigualdad\n",
    "    solution = solve(inequality, pe)\n",
    "\n",
    "\n",
    "    # Imprimir la solución\n",
    "    print(\"La solución es es:\", solution)"
   ]
  },
  {
   "cell_type": "code",
   "execution_count": 15,
   "metadata": {},
   "outputs": [
    {
     "name": "stdout",
     "output_type": "stream",
     "text": [
      "La solución es es: (2.7180100002762 <= pe) & (pe <= 2.71855365664189)\n"
     ]
    }
   ],
   "source": [
    "desigualdad(math.e)"
   ]
  },
  {
   "cell_type": "code",
   "execution_count": 16,
   "metadata": {},
   "outputs": [
    {
     "data": {
      "text/plain": [
       "2.718010000276199"
      ]
     },
     "execution_count": 16,
     "metadata": {},
     "output_type": "execute_result"
    }
   ],
   "source": [
    "((math.e/10000) - math.e) * -1"
   ]
  },
  {
   "cell_type": "code",
   "execution_count": 17,
   "metadata": {},
   "outputs": [
    {
     "data": {
      "text/plain": [
       "2.718553656641891"
      ]
     },
     "execution_count": 17,
     "metadata": {},
     "output_type": "execute_result"
    }
   ],
   "source": [
    "(-(math.e/10000) - math.e) * -1"
   ]
  },
  {
   "cell_type": "code",
   "execution_count": 18,
   "metadata": {},
   "outputs": [
    {
     "name": "stdout",
     "output_type": "stream",
     "text": [
      "La solución es es: (1.41407214101686 <= pe) & (pe <= 1.41435498372933)\n"
     ]
    }
   ],
   "source": [
    "desigualdad(math.sqrt(2))"
   ]
  },
  {
   "cell_type": "code",
   "execution_count": 19,
   "metadata": {},
   "outputs": [
    {
     "data": {
      "text/plain": [
       "1.4140721410168577"
      ]
     },
     "execution_count": 19,
     "metadata": {},
     "output_type": "execute_result"
    }
   ],
   "source": [
    "((math.sqrt(2)/10000) - math.sqrt(2)) * -1"
   ]
  },
  {
   "cell_type": "code",
   "execution_count": 20,
   "metadata": {},
   "outputs": [
    {
     "data": {
      "text/plain": [
       "1.4143549837293325"
      ]
     },
     "execution_count": 20,
     "metadata": {},
     "output_type": "execute_result"
    }
   ],
   "source": [
    "(-(math.sqrt(2)/10000) - math.sqrt(2)) * -1"
   ]
  },
  {
   "cell_type": "code",
   "execution_count": 21,
   "metadata": {},
   "outputs": [
    {
     "name": "stdout",
     "output_type": "stream",
     "text": [
      "La solución es es: (3.14127849432443 <= pe) & (pe <= 3.14190681285515)\n"
     ]
    }
   ],
   "source": [
    "desigualdad(math.pi)"
   ]
  },
  {
   "cell_type": "code",
   "execution_count": 22,
   "metadata": {},
   "outputs": [
    {
     "data": {
      "text/plain": [
       "3.141278494324434"
      ]
     },
     "execution_count": 22,
     "metadata": {},
     "output_type": "execute_result"
    }
   ],
   "source": [
    "((math.pi/10000) - math.pi) * -1"
   ]
  },
  {
   "cell_type": "code",
   "execution_count": 23,
   "metadata": {},
   "outputs": [
    {
     "data": {
      "text/plain": [
       "3.141906812855152"
      ]
     },
     "execution_count": 23,
     "metadata": {},
     "output_type": "execute_result"
    }
   ],
   "source": [
    "(-(math.pi/10000) - math.pi) * -1"
   ]
  },
  {
   "cell_type": "code",
   "execution_count": 24,
   "metadata": {},
   "outputs": [],
   "source": [
    "# Punto 4"
   ]
  },
  {
   "cell_type": "code",
   "execution_count": 25,
   "metadata": {},
   "outputs": [
    {
     "name": "stdout",
     "output_type": "stream",
     "text": [
      "0.3333333333333333\n",
      "0.8\n",
      "1.1333333333333333\n",
      "Errores 1.1333333333333333 1.1333333333333333\n",
      "Error relativo 1.1333333333333333 1.1333333333333333\n"
     ]
    },
    {
     "data": {
      "text/plain": [
       "('Absoluto', 0.0, 'Relativo', 0.0)"
      ]
     },
     "execution_count": 25,
     "metadata": {},
     "output_type": "execute_result"
    }
   ],
   "source": [
    "#i\n",
    "print(1/3)\n",
    "print(4/5)\n",
    "\n",
    "print((1/3) + (4/5))\n",
    "errores((1/3) + (4/5), (1/3) + (4/5))"
   ]
  },
  {
   "cell_type": "code",
   "execution_count": 26,
   "metadata": {},
   "outputs": [
    {
     "name": "stdout",
     "output_type": "stream",
     "text": [
      "Errores 1.1333333333333333 1.133\n",
      "Error relativo 1.1333333333333333 1.133\n"
     ]
    },
    {
     "data": {
      "text/plain": [
       "('Absoluto', 0.0003333333333332966, 'Relativo', 0.00029411764705879114)"
      ]
     },
     "execution_count": 26,
     "metadata": {},
     "output_type": "execute_result"
    }
   ],
   "source": [
    "# ii) \n",
    "0.333 + 0.8\n",
    "\n",
    "errores((1/3) + (4/5), 0.333 + 0.8 )"
   ]
  },
  {
   "cell_type": "code",
   "execution_count": 27,
   "metadata": {},
   "outputs": [
    {
     "name": "stdout",
     "output_type": "stream",
     "text": [
      "Errores 1.1333333333333333 1.1340000000000001\n",
      "Error relativo 1.1333333333333333 1.1340000000000001\n"
     ]
    },
    {
     "data": {
      "text/plain": [
       "('Absoluto', 0.0006666666666668153, 'Relativo', 0.0005882352941177782)"
      ]
     },
     "execution_count": 27,
     "metadata": {},
     "output_type": "execute_result"
    }
   ],
   "source": [
    "# iii) \n",
    "0.334 + 0.8\n",
    "\n",
    "errores((1/3) + (4/5), 0.334 + 0.8 )"
   ]
  },
  {
   "cell_type": "code",
   "execution_count": 28,
   "metadata": {},
   "outputs": [
    {
     "name": "stdout",
     "output_type": "stream",
     "text": [
      "0.756060606060606\n",
      "Errores 0.756060606060606 0.756060606060606\n",
      "Error relativo 0.756060606060606 0.756060606060606\n"
     ]
    },
    {
     "data": {
      "text/plain": [
       "('Absoluto', 0.0, 'Relativo', 0.0)"
      ]
     },
     "execution_count": 28,
     "metadata": {},
     "output_type": "execute_result"
    }
   ],
   "source": [
    "# Punto 4 (b)\n",
    "#i\n",
    "#print(3/20)\n",
    "#print(((1/3) + (3/11)))\n",
    "\n",
    "print((3/20) + ((1/3) + (3/11)))\n",
    "errores((3/20) + ((1/3) + (3/11)), (3/20) + ((1/3) + (3/11)))"
   ]
  },
  {
   "cell_type": "code",
   "execution_count": 29,
   "metadata": {},
   "outputs": [
    {
     "name": "stdout",
     "output_type": "stream",
     "text": [
      "suma es 0.755\n",
      "Errores 1.5560606060606061 0.755\n",
      "Error relativo 1.5560606060606061 0.755\n"
     ]
    },
    {
     "data": {
      "text/plain": [
       "('Absoluto', 0.8010606060606061, 'Relativo', 0.5148003894839338)"
      ]
     },
     "execution_count": 29,
     "metadata": {},
     "output_type": "execute_result"
    }
   ],
   "source": [
    "# ii) \n",
    "print(\"suma es\", 0.15 + (0.333 + 0.272))\n",
    "\n",
    "errores((3/20) + ((1/3) + (3/11)) + (4/5),0.15 + (0.333 + 0.272) )"
   ]
  },
  {
   "cell_type": "code",
   "execution_count": 30,
   "metadata": {},
   "outputs": [
    {
     "name": "stdout",
     "output_type": "stream",
     "text": [
      "suma es 0.757\n",
      "Errores 1.5560606060606061 0.757\n",
      "Error relativo 1.5560606060606061 0.757\n"
     ]
    },
    {
     "data": {
      "text/plain": [
       "('Absoluto', 0.7990606060606061, 'Relativo', 0.5135150925024343)"
      ]
     },
     "execution_count": 30,
     "metadata": {},
     "output_type": "execute_result"
    }
   ],
   "source": [
    "# iii) \n",
    "print(\"suma es\", 0.15 + (0.334 + 0.273))\n",
    "\n",
    "errores((3/20) + ((1/3) + (3/11)) + (4/5),0.15 + (0.334 + 0.273) )"
   ]
  },
  {
   "cell_type": "code",
   "execution_count": 31,
   "metadata": {},
   "outputs": [
    {
     "name": "stdout",
     "output_type": "stream",
     "text": [
      "1.0\n",
      "1.0\n",
      "0.5\n",
      "0.16666666666666666\n",
      "0.041666666666666664\n",
      "0.008333333333333333\n",
      "El valor de la sumatoria 2.7166666666666663\n",
      "Errores 2.718281828459045 2.7166666666666663\n",
      "Error relativo 2.718281828459045 2.7166666666666663\n"
     ]
    },
    {
     "data": {
      "text/plain": [
       "('Absoluto', 0.0016151617923787498, 'Relativo', 0.0005941848175817597)"
      ]
     },
     "execution_count": 31,
     "metadata": {},
     "output_type": "execute_result"
    }
   ],
   "source": [
    "#Punti 5\n",
    "\n",
    "def sumatoria(valores):\n",
    "    suma = 0\n",
    "    for i in range(valores + 1):\n",
    "        termino = 1/math.factorial(i)\n",
    "        suma += termino\n",
    "        print(termino)\n",
    "    print(\"El valor de la sumatoria\", suma)\n",
    "    return suma\n",
    "    \n",
    "#print(sumatoria(5))\n",
    "errores(math.e, sumatoria(5))"
   ]
  },
  {
   "cell_type": "code",
   "execution_count": 32,
   "metadata": {},
   "outputs": [
    {
     "name": "stdout",
     "output_type": "stream",
     "text": [
      "1.0\n",
      "1.0\n",
      "0.5\n",
      "0.16666666666666666\n",
      "0.041666666666666664\n",
      "0.008333333333333333\n",
      "0.001388888888888889\n",
      "0.0001984126984126984\n",
      "2.48015873015873e-05\n",
      "2.7557319223985893e-06\n",
      "2.755731922398589e-07\n",
      "El valor de la sumatoria 2.7182818011463845\n",
      "Errores 2.718281828459045 2.7182818011463845\n",
      "Error relativo 2.718281828459045 2.7182818011463845\n"
     ]
    },
    {
     "data": {
      "text/plain": [
       "('Absoluto', 2.7312660577649694e-08, 'Relativo', 1.0047766310211053e-08)"
      ]
     },
     "execution_count": 32,
     "metadata": {},
     "output_type": "execute_result"
    }
   ],
   "source": [
    "errores(math.e, sumatoria(10))"
   ]
  },
  {
   "cell_type": "code",
   "execution_count": 33,
   "metadata": {},
   "outputs": [
    {
     "data": {
      "text/plain": [
       "0.2727272727272727"
      ]
     },
     "execution_count": 33,
     "metadata": {},
     "output_type": "execute_result"
    }
   ],
   "source": [
    "3/11"
   ]
  },
  {
   "cell_type": "code",
   "execution_count": 34,
   "metadata": {},
   "outputs": [
    {
     "data": {
      "text/plain": [
       "3628800"
      ]
     },
     "execution_count": 34,
     "metadata": {},
     "output_type": "execute_result"
    }
   ],
   "source": [
    "math.factorial(10)"
   ]
  },
  {
   "cell_type": "code",
   "execution_count": 35,
   "metadata": {},
   "outputs": [
    {
     "data": {
      "text/plain": [
       "-1.9989999761984096"
      ]
     },
     "execution_count": 35,
     "metadata": {},
     "output_type": "execute_result"
    }
   ],
   "source": [
    "# Punto 7\n",
    "\n",
    "(0.1*math.cos(0.1) - math.sin(0.1))/((0.1)-math.sin(0.1))"
   ]
  },
  {
   "cell_type": "code",
   "execution_count": 36,
   "metadata": {},
   "outputs": [
    {
     "name": "stdout",
     "output_type": "stream",
     "text": [
      "Errores -1.99899998 -1.999\n",
      "Error relativo -1.99899998 -1.999\n"
     ]
    },
    {
     "data": {
      "text/plain": [
       "('Absoluto', 2.0000000100495186e-08, 'Relativo', 1.000500265162343e-08)"
      ]
     },
     "execution_count": 36,
     "metadata": {},
     "output_type": "execute_result"
    }
   ],
   "source": [
    "errores(-1.99899998, -1.9990)"
   ]
  },
  {
   "cell_type": "code",
   "execution_count": 37,
   "metadata": {},
   "outputs": [
    {
     "name": "stdout",
     "output_type": "stream",
     "text": [
      "Errores -1.99899998 -2\n",
      "Error relativo -1.99899998 -2\n"
     ]
    },
    {
     "data": {
      "text/plain": [
       "('Absoluto', 0.0010000199999999904, 'Relativo', 0.0005002601350701316)"
      ]
     },
     "execution_count": 37,
     "metadata": {},
     "output_type": "execute_result"
    }
   ],
   "source": [
    "coss = 1 - (((0.1)**2)/2)\n",
    "senn = 0.1 - (((0.1)**3)/6)\n",
    "\n",
    "(0.1*coss - senn)/((0.1)-senn)\n",
    "\n",
    "errores(-1.99899998,-2)"
   ]
  },
  {
   "cell_type": "code",
   "execution_count": 38,
   "metadata": {},
   "outputs": [
    {
     "data": {
      "text/plain": [
       "2586051348529152"
      ]
     },
     "execution_count": 38,
     "metadata": {},
     "output_type": "execute_result"
    }
   ],
   "source": [
    "2**(51) + (2**48) + (2**45) +(2**44)"
   ]
  },
  {
   "cell_type": "code",
   "execution_count": 39,
   "metadata": {},
   "outputs": [
    {
     "data": {
      "text/plain": [
       "'00000000000000000000000000000000000000000000'"
      ]
     },
     "execution_count": 39,
     "metadata": {},
     "output_type": "execute_result"
    }
   ],
   "source": [
    "\"0\" * 44"
   ]
  },
  {
   "cell_type": "code",
   "execution_count": 40,
   "metadata": {},
   "outputs": [
    {
     "data": {
      "text/plain": [
       "25"
      ]
     },
     "execution_count": 40,
     "metadata": {},
     "output_type": "execute_result"
    }
   ],
   "source": [
    "len(\"1001001100000000000000000\")"
   ]
  },
  {
   "cell_type": "code",
   "execution_count": 41,
   "metadata": {},
   "outputs": [
    {
     "name": "stdout",
     "output_type": "stream",
     "text": [
      "El número binario 11000010010100001111000000000000 en punto flotante de doble precisión es: 1.6106956176e-314\n"
     ]
    }
   ],
   "source": [
    "import struct\n",
    "\n",
    "def binario_a_double_precision(binario):\n",
    "    # Convierte el número binario a un formato de 64 bits (double precision)\n",
    "    bits = int(binario, 2)\n",
    "    \n",
    "    # Empaqueta los bits en un formato de doble precisión (64 bits)\n",
    "    packed_data = struct.pack('>Q', bits)\n",
    "    \n",
    "    # Desempaqueta los bits en un número de punto flotante de doble precisión\n",
    "    numero_double = struct.unpack('>d', packed_data)[0]\n",
    "    \n",
    "    return numero_double\n",
    "\n",
    "# Ejemplo de uso:\n",
    "binario = \"11000010010100001111000000000000\"\n",
    "numero_double = binario_a_double_precision(binario)\n",
    "print(f\"El número binario {binario} en punto flotante de doble precisión es: {numero_double}\")"
   ]
  },
  {
   "cell_type": "code",
   "execution_count": 42,
   "metadata": {},
   "outputs": [
    {
     "name": "stdout",
     "output_type": "stream",
     "text": [
      "Solución:\n",
      "x = (-b*f + d*e)/(a*d - b*c)\n",
      "y = (a*f - c*e)/(a*d - b*c)\n"
     ]
    }
   ],
   "source": [
    "#Punto 7\n",
    "from sympy import symbols, Eq, solve\n",
    "\n",
    "# Definir los símbolos\n",
    "x, y, a, b, c, d, e, f = symbols('x y a b c d e f')\n",
    "\n",
    "# Definir el sistema de ecuaciones\n",
    "eq1 = Eq(a*x + b*y, e)\n",
    "eq2 = Eq(c*x + d*y, f)\n",
    "\n",
    "# Resolver el sistema de ecuaciones\n",
    "sol = solve((eq1, eq2), (x, y))\n",
    "\n",
    "# Imprimir la solución\n",
    "print(\"Solución:\")\n",
    "print(f\"x = {sol[x]}\")\n",
    "print(f\"y = {sol[y]}\")"
   ]
  },
  {
   "cell_type": "code",
   "execution_count": 49,
   "metadata": {},
   "outputs": [
    {
     "name": "stdout",
     "output_type": "stream",
     "text": [
      "Solución para x 13.345272098374277 Solución para y 0.12591666254119202\n"
     ]
    }
   ],
   "source": [
    "a = 2.260\n",
    "b = -13.980\n",
    "c = 2.016\n",
    "d = 12.198\n",
    "e = 28.40\n",
    "f = 28.44\n",
    "\n",
    "\n",
    "x_r = (-b*f + d*e)/(a*d - b*c)\n",
    "\n",
    "y_r = (a*f - c*e)/(a*d - b*c)\n",
    "\n",
    "print(\"Solución para x\", x_r, \"Solución para y\", y_r)"
   ]
  },
  {
   "cell_type": "code",
   "execution_count": 51,
   "metadata": {},
   "outputs": [
    {
     "name": "stdout",
     "output_type": "stream",
     "text": [
      "Solución para x 13.345272098374277 Solución para y 0.12591666254119202\n"
     ]
    }
   ],
   "source": [
    "a = 2.260\n",
    "b = -13.980\n",
    "c = 2.016\n",
    "d = 12.198\n",
    "e = 28.40\n",
    "f = 28.44\n",
    "\n",
    "\n",
    "x_r = (-b*f + d*e)/(a*d - b*c)\n",
    "\n",
    "y_r = (a*f - c*e)/(a*d - b*c)\n",
    "\n",
    "print(\"Solución para x\", x_r, \"Solución para y\", y_r)"
   ]
  },
  {
   "cell_type": "code",
   "execution_count": 56,
   "metadata": {},
   "outputs": [
    {
     "data": {
      "text/plain": [
       "13.34"
      ]
     },
     "execution_count": 56,
     "metadata": {},
     "output_type": "execute_result"
    }
   ],
   "source": [
    "numero = 13.345272098374277\n",
    "decimales = 2\n",
    "math.trunc(numero * 10**decimales) / 10**decimales"
   ]
  },
  {
   "cell_type": "code",
   "execution_count": 58,
   "metadata": {},
   "outputs": [
    {
     "data": {
      "text/plain": [
       "0.1259"
      ]
     },
     "execution_count": 58,
     "metadata": {},
     "output_type": "execute_result"
    }
   ],
   "source": [
    "numero = 0.12591666254119202\n",
    "decimales = 4\n",
    "math.trunc(numero * 10**decimales) / 10**decimales"
   ]
  },
  {
   "cell_type": "code",
   "execution_count": 57,
   "metadata": {},
   "outputs": [
    {
     "name": "stdout",
     "output_type": "stream",
     "text": [
      "Errores 13.345272098374277 13.34\n",
      "Error relativo 13.345272098374277 13.34\n"
     ]
    },
    {
     "data": {
      "text/plain": [
       "('Absoluto', 0.005272098374277334, 'Relativo', 0.0003950536441231185)"
      ]
     },
     "execution_count": 57,
     "metadata": {},
     "output_type": "execute_result"
    }
   ],
   "source": [
    "errores(x_r, 13.34)\n"
   ]
  },
  {
   "cell_type": "code",
   "execution_count": 59,
   "metadata": {},
   "outputs": [
    {
     "name": "stdout",
     "output_type": "stream",
     "text": [
      "Errores 0.12591666254119202 0.1259\n",
      "Error relativo 0.12591666254119202 0.1259\n"
     ]
    },
    {
     "data": {
      "text/plain": [
       "('Absoluto', 1.6662541192008495e-05, 'Relativo', 0.0001323299145302359)"
      ]
     },
     "execution_count": 59,
     "metadata": {},
     "output_type": "execute_result"
    }
   ],
   "source": [
    "errores(y_r, 0.1259)"
   ]
  },
  {
   "cell_type": "code",
   "execution_count": null,
   "metadata": {},
   "outputs": [],
   "source": []
  },
  {
   "cell_type": "code",
   "execution_count": null,
   "metadata": {},
   "outputs": [],
   "source": []
  }
 ],
 "metadata": {
  "kernelspec": {
   "display_name": "Python 3.9.13",
   "language": "python",
   "name": "python3"
  },
  "language_info": {
   "codemirror_mode": {
    "name": "ipython",
    "version": 3
   },
   "file_extension": ".py",
   "mimetype": "text/x-python",
   "name": "python",
   "nbconvert_exporter": "python",
   "pygments_lexer": "ipython3",
   "version": "3.9.13"
  },
  "orig_nbformat": 4,
  "vscode": {
   "interpreter": {
    "hash": "40d3a090f54c6569ab1632332b64b2c03c39dcf918b08424e98f38b5ae0af88f"
   }
  }
 },
 "nbformat": 4,
 "nbformat_minor": 2
}
