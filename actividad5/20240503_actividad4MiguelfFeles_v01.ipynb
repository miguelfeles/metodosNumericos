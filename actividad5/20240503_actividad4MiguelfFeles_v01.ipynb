{
 "cells": [
  {
   "cell_type": "markdown",
   "metadata": {},
   "source": [
    "<!DOCTYPE html>\n",
    "<html lang=\"en\">\n",
    "<head>\n",
    "    <meta charset=\"UTF-8\">\n",
    "    <meta name=\"viewport\" content=\"width=device-width, initial-scale=1.0\">\n",
    "    <title>Actividad 4</title>\n",
    "    <style>\n",
    "        body {\n",
    "            font-family: Arial, sans-serif;\n",
    "            margin: 0;\n",
    "            padding: 0;\n",
    "            background-color: #f4f4f4;\n",
    "        }\n",
    "        header {\n",
    "            background-color: green;\n",
    "            color: #fff;\n",
    "            text-align: center;\n",
    "            padding: 20px 0;\n",
    "        }\n",
    "        main {\n",
    "            max-width: 800px;\n",
    "            margin: 20px auto;\n",
    "            padding: 20px;\n",
    "            background-color: #fff;\n",
    "            border-radius: 10px;\n",
    "            box-shadow: 0 0 10px rgba(0, 0, 0, 0.1);\n",
    "        }\n",
    "        h1 {\n",
    "            margin: 0;\n",
    "        }\n",
    "        h2 {\n",
    "            margin: 0;\n",
    "            text-align: center;\n",
    "        }\n",
    "        h3 {\n",
    "            margin: 0;\n",
    "            text-align: center;\n",
    "        }\n",
    "        section {\n",
    "            margin-bottom: 20px;\n",
    "        }\n",
    "        footer {\n",
    "            text-align: center;\n",
    "            padding: 10px 0;\n",
    "            background-color: #007bff;\n",
    "            color: #fff;\n",
    "            position: fixed;\n",
    "            bottom: 0;\n",
    "            left: 0;\n",
    "            width: 100%;\n",
    "        }\n",
    "    </style>\n",
    "</head>\n",
    "<body>\n",
    "    <header>\n",
    "        <h1>Actividad 5</h1>\n",
    "    </header>\n",
    "    <main>\n",
    "        <section>\n",
    "            <h2>Universidad Externado de Colombia</h2>\n",
    "            <h3>Ciencia de Datos</h3>\n",
    "            <h3>Métodos Numéricos</h3>\n",
    "        </section>\n",
    "    </main>\n",
    "    <footer>\n",
    "        <p>&copy; 2024 Universidad Externado de Colombia - Ciencia de Datos</p>\n",
    "    </footer>\n",
    "</body>\n",
    "</html>\n"
   ]
  },
  {
   "cell_type": "markdown",
   "metadata": {},
   "source": [
    "## Librerías"
   ]
  },
  {
   "cell_type": "code",
   "execution_count": 1,
   "metadata": {},
   "outputs": [],
   "source": [
    "import numpy as np\n",
    "import math\n",
    "import plotly.express as px\n",
    "import time\n",
    "import numpy as np\n",
    "import matplotlib.pyplot as plt\n",
    "import sympy as sp\n",
    "from sympy.abc import x\n"
   ]
  },
  {
   "cell_type": "markdown",
   "metadata": {},
   "source": [
    "## Funciones"
   ]
  },
  {
   "cell_type": "markdown",
   "metadata": {},
   "source": [
    "## Preguntas\n",
    "\n",
    "**1. Determine cuáles de las siguientes matrices son:**\n",
    "\n",
    "- (a) Simétricas\n",
    "- (b) Singulares\n",
    "- (c) Definidas positivas\n"
   ]
  },
  {
   "cell_type": "markdown",
   "metadata": {},
   "source": [
    "Matrices:\n",
    "- $\\begin{pmatrix} 2 & 1 \\\\ 1 & 3 \\end{pmatrix}$"
   ]
  },
  {
   "cell_type": "code",
   "execution_count": 5,
   "metadata": {},
   "outputs": [
    {
     "data": {
      "text/plain": [
       "True"
      ]
     },
     "execution_count": 5,
     "metadata": {},
     "output_type": "execute_result"
    }
   ],
   "source": [
    "matrizA = np.array([[2, 1], [1, 3]])\n",
    "np.array_equal(matrizA, matrizA.T) #La matriz original es igual a la matriz traspuesta."
   ]
  },
  {
   "cell_type": "code",
   "execution_count": 14,
   "metadata": {},
   "outputs": [
    {
     "data": {
      "text/plain": [
       "array([1.38196601, 3.61803399])"
      ]
     },
     "execution_count": 14,
     "metadata": {},
     "output_type": "execute_result"
    }
   ],
   "source": [
    "valores_propios, vectores_propios = np.linalg.eig(matrizA)\n",
    "valores_propios"
   ]
  },
  {
   "cell_type": "markdown",
   "metadata": {},
   "source": [
    "- $\\begin{pmatrix} 2 & 1 & 0 \\\\ 0 & 3 & 0 \\\\ 1 & 0 & 4 \\end{pmatrix}$"
   ]
  },
  {
   "cell_type": "code",
   "execution_count": 7,
   "metadata": {},
   "outputs": [
    {
     "data": {
      "text/plain": [
       "False"
      ]
     },
     "execution_count": 7,
     "metadata": {},
     "output_type": "execute_result"
    }
   ],
   "source": [
    "matrizB = np.array([[2, 1, 0], [0, 3, 0], [1, 0, 4]])\n",
    "np.array_equal(matrizB, matrizB.T) #La matriz original no es igual a la matriz traspuesta. No es simétrica"
   ]
  },
  {
   "cell_type": "code",
   "execution_count": 15,
   "metadata": {},
   "outputs": [
    {
     "data": {
      "text/plain": [
       "array([4., 2., 3.])"
      ]
     },
     "execution_count": 15,
     "metadata": {},
     "output_type": "execute_result"
    }
   ],
   "source": [
    "valores_propios, vectores_propios = np.linalg.eig(matrizB)\n",
    "valores_propios"
   ]
  },
  {
   "cell_type": "markdown",
   "metadata": {},
   "source": [
    "- $\\begin{pmatrix} 4 & 2 & 6 \\\\ 3 & 0 & 7 \\\\ -2 & -1 & -3 \\end{pmatrix}$"
   ]
  },
  {
   "cell_type": "code",
   "execution_count": 10,
   "metadata": {},
   "outputs": [
    {
     "data": {
      "text/plain": [
       "False"
      ]
     },
     "execution_count": 10,
     "metadata": {},
     "output_type": "execute_result"
    }
   ],
   "source": [
    "matrizC = np.array([[4, 2, 6], [3, 0, 7], [-2, -1, -3]])\n",
    "np.array_equal(matrizC, matrizC.T) #La matriz original no es igual a la matriz traspuesta. No es simétrica"
   ]
  },
  {
   "cell_type": "code",
   "execution_count": 18,
   "metadata": {},
   "outputs": [
    {
     "data": {
      "text/plain": [
       "array([1., 1., 7., 4.])"
      ]
     },
     "execution_count": 18,
     "metadata": {},
     "output_type": "execute_result"
    }
   ],
   "source": [
    "valores_propios, vectores_propios = np.linalg.eig(matrizC)\n",
    "valores_propios"
   ]
  },
  {
   "cell_type": "markdown",
   "metadata": {},
   "source": [
    "- $\\begin{pmatrix} 4 & 0 & 0 & 0 \\\\ 6 & 7 & 0 & 0 \\\\ 9 & 11 & 1 & 0 \\\\ 5 & 4 & 1 & 1 \\end{pmatrix}$"
   ]
  },
  {
   "cell_type": "code",
   "execution_count": 19,
   "metadata": {},
   "outputs": [
    {
     "data": {
      "text/plain": [
       "False"
      ]
     },
     "execution_count": 19,
     "metadata": {},
     "output_type": "execute_result"
    }
   ],
   "source": [
    "matrizD = np.array([[4, 0, 0, 0], [6, 7, 0,0], [9, 11, 1, 0], [5, 4, 1, 1]])\n",
    "np.array_equal(matrizD, matrizD.T) #La matriz original no es igual a la matriz traspuesta. No es simétrica"
   ]
  },
  {
   "cell_type": "code",
   "execution_count": 20,
   "metadata": {},
   "outputs": [
    {
     "data": {
      "text/plain": [
       "array([1., 1., 7., 4.])"
      ]
     },
     "execution_count": 20,
     "metadata": {},
     "output_type": "execute_result"
    }
   ],
   "source": [
    "valores_propios, vectores_propios = np.linalg.eig(matrizD)\n",
    "valores_propios"
   ]
  },
  {
   "cell_type": "markdown",
   "metadata": {},
   "source": [
    "**2. Utilice el algoritmo de factorización LDLT para encontrar una factorización para las siguientes matrices:**\n",
    "\n",
    "- $\\begin{pmatrix} 4 & -1 & 1 \\\\ -1 & 3 & 0 \\\\ 1 & 0 & 2 \\end{pmatrix}$"
   ]
  },
  {
   "cell_type": "markdown",
   "metadata": {},
   "source": [
    "- $\\begin{pmatrix} 4 & 2 & 2 \\\\ 2 & 6 & 2 \\\\ 2 & 2 & 5 \\end{pmatrix}$"
   ]
  },
  {
   "cell_type": "markdown",
   "metadata": {},
   "source": [
    "- $\\begin{pmatrix} 4 & 1 & 1 & 1 \\\\ 1 & 3 & 0 & -1 \\\\ 1 & 0 & 2 & 1 \\\\ 1 & -1 & 1 & 4 \\end{pmatrix}$"
   ]
  },
  {
   "cell_type": "markdown",
   "metadata": {},
   "source": [
    "- $\\begin{pmatrix} 6 & 2 & 1 & -1 \\\\ 2 & 4 & 1 & 0 \\\\ 1 & 1 & 4 & -1 \\\\ -1 & 0 & -1 & 3 \\end{pmatrix}$"
   ]
  },
  {
   "cell_type": "markdown",
   "metadata": {},
   "source": [
    "**3. Utilice el algoritmo de Cholesky para encontrar una factorización de la forma LLT para las matrices anteriores.**"
   ]
  },
  {
   "cell_type": "markdown",
   "metadata": {},
   "source": [
    "**4. Encuentre todas las $\\alpha$ de tal forma que $A = \\begin{pmatrix} \\alpha & 1 & -1 \\\\ 1 & 2 & 1 \\\\ -1 & 1 & 4 \\end{pmatrix}$ sea definida positiva.**"
   ]
  },
  {
   "cell_type": "markdown",
   "metadata": {},
   "source": [
    "**5. Considere las siguientes matrices. Encuentre la matriz de permutación $P$ tal que $PA$ se puede factorizar en el producto $LU$ donde $L$ es triangular inferior con unos en su diagonal y $U$ es triangular superior para estas matrices:**"
   ]
  },
  {
   "cell_type": "markdown",
   "metadata": {},
   "source": [
    "- $\\begin{pmatrix} 1 & 2 & -1 \\\\ 2 & 4 & 0 \\\\ 0 & 1 & -1 \\end{pmatrix}$"
   ]
  },
  {
   "cell_type": "markdown",
   "metadata": {},
   "source": [
    "- $\\begin{pmatrix} 0 & 1 & 1 \\\\ 1 & -2 & -1 \\\\ 1 & -1 & 1 \\end{pmatrix}$"
   ]
  },
  {
   "cell_type": "markdown",
   "metadata": {},
   "source": [
    "- $\\begin{pmatrix} 1 & 1 & -1 & 0 \\\\ 1 & 2 & 1 & 4 \\\\ -1 & 2 & -1 & 2 \\\\ 0 & 4 & 3 & 3 \\end{pmatrix}$"
   ]
  },
  {
   "cell_type": "markdown",
   "metadata": {},
   "source": [
    "**6. Modifique el algoritmo de factorización LU de tal forma que se pueda utilizar para resolver un sistema lineal y resuélvalo.**"
   ]
  },
  {
   "cell_type": "markdown",
   "metadata": {},
   "source": [
    "(a)\n",
    "- $2x_1 - x_2 + x_3 = -1$\n",
    "- $3x_1 + 3x_2 + 9x_3 = 0$\n",
    "- $3x_1 + 3x_2 + 5x_3 = 4$"
   ]
  },
  {
   "cell_type": "markdown",
   "metadata": {},
   "source": [
    "(b)\n",
    "- $2.1756x_1 + 4.0231x_2 - 2.1732x_3 + 5.1967x_4 = 17.102$\n",
    "- $-4.0231x_1 + 6.0000x_2 + 1.1973x_4 = -6.1593$\n",
    "- $-1.0000x_1 - 5.2107x_2 + 1.1111x_3 = 3.0004$\n",
    "- $6.0235x_1 + 7.0000x_2 - 4.1561x_4 = 0.0000$"
   ]
  },
  {
   "cell_type": "code",
   "execution_count": null,
   "metadata": {},
   "outputs": [],
   "source": []
  }
 ],
 "metadata": {
  "kernelspec": {
   "display_name": "Python 3.11.4 ('base')",
   "language": "python",
   "name": "python3"
  },
  "language_info": {
   "codemirror_mode": {
    "name": "ipython",
    "version": 3
   },
   "file_extension": ".py",
   "mimetype": "text/x-python",
   "name": "python",
   "nbconvert_exporter": "python",
   "pygments_lexer": "ipython3",
   "version": "3.11.8"
  },
  "orig_nbformat": 4,
  "vscode": {
   "interpreter": {
    "hash": "fc79a47efea27aa0cd0e888077da496ce2d3bd519afe372b241120f342f4d4bd"
   }
  }
 },
 "nbformat": 4,
 "nbformat_minor": 2
}
